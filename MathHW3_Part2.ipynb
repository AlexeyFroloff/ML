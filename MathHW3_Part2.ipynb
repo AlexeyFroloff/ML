{
  "nbformat": 4,
  "nbformat_minor": 0,
  "metadata": {
    "colab": {
      "provenance": []
    },
    "kernelspec": {
      "name": "python3",
      "display_name": "Python 3"
    },
    "language_info": {
      "name": "python"
    }
  },
  "cells": [
    {
      "cell_type": "markdown",
      "source": [
        "0:\n",
        "* accuracy - это доля правильных ответов, сделанных моделью. На простом языке, количество попаданий, где предсказанный класс совпал с истинным.\n",
        "\n",
        "* точность (precision) - это доля правильных ответов в пределах класса. То есть доля объектов действительно принадлежащих данному классу относительно всех объектов которые модель отнесла к этому классу. (TP/(TP+FP))\n",
        "\n",
        "* полнота (recall) - это доля объектов, реально относящихся к положительному классу, которые были предсказаны верно (TP/(TP+FN))\n",
        "\n",
        "* TPR - это же самое, что и recall - доля верно принятых объектов положительного класса. (TRUE POSITIVE RATE)"
      ],
      "metadata": {
        "id": "pAymn_IGeL-8"
      }
    },
    {
      "cell_type": "code",
      "execution_count": null,
      "metadata": {
        "colab": {
          "base_uri": "https://localhost:8080/",
          "height": 336
        },
        "id": "ugf3MMKnBkZD",
        "outputId": "b268bcb4-1d3f-4f9d-b260-4bc70ec2bc8a"
      },
      "outputs": [
        {
          "output_type": "error",
          "ename": "ParserError",
          "evalue": "ignored",
          "traceback": [
            "\u001b[0;31m---------------------------------------------------------------------------\u001b[0m",
            "\u001b[0;31mParserError\u001b[0m                               Traceback (most recent call last)",
            "\u001b[0;32m<ipython-input-3-5000b27f6175>\u001b[0m in \u001b[0;36m<cell line: 5>\u001b[0;34m()\u001b[0m\n\u001b[1;32m      3\u001b[0m \u001b[0;32mimport\u001b[0m \u001b[0mpandas\u001b[0m \u001b[0;32mas\u001b[0m \u001b[0mpd\u001b[0m\u001b[0;34m\u001b[0m\u001b[0;34m\u001b[0m\u001b[0m\n\u001b[1;32m      4\u001b[0m \u001b[0;34m\u001b[0m\u001b[0m\n\u001b[0;32m----> 5\u001b[0;31m \u001b[0mdf\u001b[0m \u001b[0;34m=\u001b[0m \u001b[0mpd\u001b[0m\u001b[0;34m.\u001b[0m\u001b[0mread_csv\u001b[0m\u001b[0;34m(\u001b[0m\u001b[0;34m\"https://github.com/Murcha1990/ML_math_2022/blob/2a512ab0ec6ee4936cbe6c3dc041bce31e05e8c0/%D0%94%D0%BE%D0%BC%D0%B0%D1%88%D0%BA%D0%B8/HW_4/Data/diabetes.csv\"\u001b[0m\u001b[0;34m)\u001b[0m\u001b[0;34m\u001b[0m\u001b[0;34m\u001b[0m\u001b[0m\n\u001b[0m\u001b[1;32m      6\u001b[0m \u001b[0mdf\u001b[0m\u001b[0;34m.\u001b[0m\u001b[0mhead\u001b[0m\u001b[0;34m(\u001b[0m\u001b[0;34m)\u001b[0m\u001b[0;34m\u001b[0m\u001b[0;34m\u001b[0m\u001b[0m\n",
            "\u001b[0;32m/usr/local/lib/python3.9/dist-packages/pandas/util/_decorators.py\u001b[0m in \u001b[0;36mwrapper\u001b[0;34m(*args, **kwargs)\u001b[0m\n\u001b[1;32m    209\u001b[0m                 \u001b[0;32melse\u001b[0m\u001b[0;34m:\u001b[0m\u001b[0;34m\u001b[0m\u001b[0;34m\u001b[0m\u001b[0m\n\u001b[1;32m    210\u001b[0m                     \u001b[0mkwargs\u001b[0m\u001b[0;34m[\u001b[0m\u001b[0mnew_arg_name\u001b[0m\u001b[0;34m]\u001b[0m \u001b[0;34m=\u001b[0m \u001b[0mnew_arg_value\u001b[0m\u001b[0;34m\u001b[0m\u001b[0;34m\u001b[0m\u001b[0m\n\u001b[0;32m--> 211\u001b[0;31m             \u001b[0;32mreturn\u001b[0m \u001b[0mfunc\u001b[0m\u001b[0;34m(\u001b[0m\u001b[0;34m*\u001b[0m\u001b[0margs\u001b[0m\u001b[0;34m,\u001b[0m \u001b[0;34m**\u001b[0m\u001b[0mkwargs\u001b[0m\u001b[0;34m)\u001b[0m\u001b[0;34m\u001b[0m\u001b[0;34m\u001b[0m\u001b[0m\n\u001b[0m\u001b[1;32m    212\u001b[0m \u001b[0;34m\u001b[0m\u001b[0m\n\u001b[1;32m    213\u001b[0m         \u001b[0;32mreturn\u001b[0m \u001b[0mcast\u001b[0m\u001b[0;34m(\u001b[0m\u001b[0mF\u001b[0m\u001b[0;34m,\u001b[0m \u001b[0mwrapper\u001b[0m\u001b[0;34m)\u001b[0m\u001b[0;34m\u001b[0m\u001b[0;34m\u001b[0m\u001b[0m\n",
            "\u001b[0;32m/usr/local/lib/python3.9/dist-packages/pandas/util/_decorators.py\u001b[0m in \u001b[0;36mwrapper\u001b[0;34m(*args, **kwargs)\u001b[0m\n\u001b[1;32m    329\u001b[0m                     \u001b[0mstacklevel\u001b[0m\u001b[0;34m=\u001b[0m\u001b[0mfind_stack_level\u001b[0m\u001b[0;34m(\u001b[0m\u001b[0;34m)\u001b[0m\u001b[0;34m,\u001b[0m\u001b[0;34m\u001b[0m\u001b[0;34m\u001b[0m\u001b[0m\n\u001b[1;32m    330\u001b[0m                 )\n\u001b[0;32m--> 331\u001b[0;31m             \u001b[0;32mreturn\u001b[0m \u001b[0mfunc\u001b[0m\u001b[0;34m(\u001b[0m\u001b[0;34m*\u001b[0m\u001b[0margs\u001b[0m\u001b[0;34m,\u001b[0m \u001b[0;34m**\u001b[0m\u001b[0mkwargs\u001b[0m\u001b[0;34m)\u001b[0m\u001b[0;34m\u001b[0m\u001b[0;34m\u001b[0m\u001b[0m\n\u001b[0m\u001b[1;32m    332\u001b[0m \u001b[0;34m\u001b[0m\u001b[0m\n\u001b[1;32m    333\u001b[0m         \u001b[0;31m# error: \"Callable[[VarArg(Any), KwArg(Any)], Any]\" has no\u001b[0m\u001b[0;34m\u001b[0m\u001b[0;34m\u001b[0m\u001b[0m\n",
            "\u001b[0;32m/usr/local/lib/python3.9/dist-packages/pandas/io/parsers/readers.py\u001b[0m in \u001b[0;36mread_csv\u001b[0;34m(filepath_or_buffer, sep, delimiter, header, names, index_col, usecols, squeeze, prefix, mangle_dupe_cols, dtype, engine, converters, true_values, false_values, skipinitialspace, skiprows, skipfooter, nrows, na_values, keep_default_na, na_filter, verbose, skip_blank_lines, parse_dates, infer_datetime_format, keep_date_col, date_parser, dayfirst, cache_dates, iterator, chunksize, compression, thousands, decimal, lineterminator, quotechar, quoting, doublequote, escapechar, comment, encoding, encoding_errors, dialect, error_bad_lines, warn_bad_lines, on_bad_lines, delim_whitespace, low_memory, memory_map, float_precision, storage_options)\u001b[0m\n\u001b[1;32m    948\u001b[0m     \u001b[0mkwds\u001b[0m\u001b[0;34m.\u001b[0m\u001b[0mupdate\u001b[0m\u001b[0;34m(\u001b[0m\u001b[0mkwds_defaults\u001b[0m\u001b[0;34m)\u001b[0m\u001b[0;34m\u001b[0m\u001b[0;34m\u001b[0m\u001b[0m\n\u001b[1;32m    949\u001b[0m \u001b[0;34m\u001b[0m\u001b[0m\n\u001b[0;32m--> 950\u001b[0;31m     \u001b[0;32mreturn\u001b[0m \u001b[0m_read\u001b[0m\u001b[0;34m(\u001b[0m\u001b[0mfilepath_or_buffer\u001b[0m\u001b[0;34m,\u001b[0m \u001b[0mkwds\u001b[0m\u001b[0;34m)\u001b[0m\u001b[0;34m\u001b[0m\u001b[0;34m\u001b[0m\u001b[0m\n\u001b[0m\u001b[1;32m    951\u001b[0m \u001b[0;34m\u001b[0m\u001b[0m\n\u001b[1;32m    952\u001b[0m \u001b[0;34m\u001b[0m\u001b[0m\n",
            "\u001b[0;32m/usr/local/lib/python3.9/dist-packages/pandas/io/parsers/readers.py\u001b[0m in \u001b[0;36m_read\u001b[0;34m(filepath_or_buffer, kwds)\u001b[0m\n\u001b[1;32m    609\u001b[0m \u001b[0;34m\u001b[0m\u001b[0m\n\u001b[1;32m    610\u001b[0m     \u001b[0;32mwith\u001b[0m \u001b[0mparser\u001b[0m\u001b[0;34m:\u001b[0m\u001b[0;34m\u001b[0m\u001b[0;34m\u001b[0m\u001b[0m\n\u001b[0;32m--> 611\u001b[0;31m         \u001b[0;32mreturn\u001b[0m \u001b[0mparser\u001b[0m\u001b[0;34m.\u001b[0m\u001b[0mread\u001b[0m\u001b[0;34m(\u001b[0m\u001b[0mnrows\u001b[0m\u001b[0;34m)\u001b[0m\u001b[0;34m\u001b[0m\u001b[0;34m\u001b[0m\u001b[0m\n\u001b[0m\u001b[1;32m    612\u001b[0m \u001b[0;34m\u001b[0m\u001b[0m\n\u001b[1;32m    613\u001b[0m \u001b[0;34m\u001b[0m\u001b[0m\n",
            "\u001b[0;32m/usr/local/lib/python3.9/dist-packages/pandas/io/parsers/readers.py\u001b[0m in \u001b[0;36mread\u001b[0;34m(self, nrows)\u001b[0m\n\u001b[1;32m   1776\u001b[0m                     \u001b[0mcolumns\u001b[0m\u001b[0;34m,\u001b[0m\u001b[0;34m\u001b[0m\u001b[0;34m\u001b[0m\u001b[0m\n\u001b[1;32m   1777\u001b[0m                     \u001b[0mcol_dict\u001b[0m\u001b[0;34m,\u001b[0m\u001b[0;34m\u001b[0m\u001b[0;34m\u001b[0m\u001b[0m\n\u001b[0;32m-> 1778\u001b[0;31m                 \u001b[0;34m)\u001b[0m \u001b[0;34m=\u001b[0m \u001b[0mself\u001b[0m\u001b[0;34m.\u001b[0m\u001b[0m_engine\u001b[0m\u001b[0;34m.\u001b[0m\u001b[0mread\u001b[0m\u001b[0;34m(\u001b[0m  \u001b[0;31m# type: ignore[attr-defined]\u001b[0m\u001b[0;34m\u001b[0m\u001b[0;34m\u001b[0m\u001b[0m\n\u001b[0m\u001b[1;32m   1779\u001b[0m                     \u001b[0mnrows\u001b[0m\u001b[0;34m\u001b[0m\u001b[0;34m\u001b[0m\u001b[0m\n\u001b[1;32m   1780\u001b[0m                 )\n",
            "\u001b[0;32m/usr/local/lib/python3.9/dist-packages/pandas/io/parsers/c_parser_wrapper.py\u001b[0m in \u001b[0;36mread\u001b[0;34m(self, nrows)\u001b[0m\n\u001b[1;32m    228\u001b[0m         \u001b[0;32mtry\u001b[0m\u001b[0;34m:\u001b[0m\u001b[0;34m\u001b[0m\u001b[0;34m\u001b[0m\u001b[0m\n\u001b[1;32m    229\u001b[0m             \u001b[0;32mif\u001b[0m \u001b[0mself\u001b[0m\u001b[0;34m.\u001b[0m\u001b[0mlow_memory\u001b[0m\u001b[0;34m:\u001b[0m\u001b[0;34m\u001b[0m\u001b[0;34m\u001b[0m\u001b[0m\n\u001b[0;32m--> 230\u001b[0;31m                 \u001b[0mchunks\u001b[0m \u001b[0;34m=\u001b[0m \u001b[0mself\u001b[0m\u001b[0;34m.\u001b[0m\u001b[0m_reader\u001b[0m\u001b[0;34m.\u001b[0m\u001b[0mread_low_memory\u001b[0m\u001b[0;34m(\u001b[0m\u001b[0mnrows\u001b[0m\u001b[0;34m)\u001b[0m\u001b[0;34m\u001b[0m\u001b[0;34m\u001b[0m\u001b[0m\n\u001b[0m\u001b[1;32m    231\u001b[0m                 \u001b[0;31m# destructive to chunks\u001b[0m\u001b[0;34m\u001b[0m\u001b[0;34m\u001b[0m\u001b[0m\n\u001b[1;32m    232\u001b[0m                 \u001b[0mdata\u001b[0m \u001b[0;34m=\u001b[0m \u001b[0m_concatenate_chunks\u001b[0m\u001b[0;34m(\u001b[0m\u001b[0mchunks\u001b[0m\u001b[0;34m)\u001b[0m\u001b[0;34m\u001b[0m\u001b[0;34m\u001b[0m\u001b[0m\n",
            "\u001b[0;32m/usr/local/lib/python3.9/dist-packages/pandas/_libs/parsers.pyx\u001b[0m in \u001b[0;36mpandas._libs.parsers.TextReader.read_low_memory\u001b[0;34m()\u001b[0m\n",
            "\u001b[0;32m/usr/local/lib/python3.9/dist-packages/pandas/_libs/parsers.pyx\u001b[0m in \u001b[0;36mpandas._libs.parsers.TextReader._read_rows\u001b[0;34m()\u001b[0m\n",
            "\u001b[0;32m/usr/local/lib/python3.9/dist-packages/pandas/_libs/parsers.pyx\u001b[0m in \u001b[0;36mpandas._libs.parsers.TextReader._tokenize_rows\u001b[0;34m()\u001b[0m\n",
            "\u001b[0;32m/usr/local/lib/python3.9/dist-packages/pandas/_libs/parsers.pyx\u001b[0m in \u001b[0;36mpandas._libs.parsers.raise_parser_error\u001b[0;34m()\u001b[0m\n",
            "\u001b[0;31mParserError\u001b[0m: Error tokenizing data. C error: Expected 1 fields in line 28, saw 367\n"
          ]
        }
      ],
      "source": [
        "from matplotlib import pyplot as plt\n",
        "\n",
        "import pandas as pd\n",
        "df = pd.read_csv(\"https://github.com/Murcha1990/ML_math_2022/raw/main/%D0%94%D0%BE%D0%BC%D0%B0%D1%88%D0%BA%D0%B8/HW_3/credit_scoring_example1.csv\")\n",
        "df.head()"
      ]
    },
    {
      "cell_type": "code",
      "source": [
        "df.shape"
      ],
      "metadata": {
        "colab": {
          "base_uri": "https://localhost:8080/"
        },
        "id": "xZ6DGKb-CRwp",
        "outputId": "101eacbd-f29d-45ab-92c2-8e449de9b055"
      },
      "execution_count": null,
      "outputs": [
        {
          "output_type": "execute_result",
          "data": {
            "text/plain": [
              "(689, 21)"
            ]
          },
          "metadata": {},
          "execution_count": 2
        }
      ]
    },
    {
      "cell_type": "markdown",
      "source": [
        "# **Задание 1** #"
      ],
      "metadata": {
        "id": "JL_FPCBTnuVd"
      }
    },
    {
      "cell_type": "code",
      "source": [
        "print(\"target:\", df[\"target\"].value_counts())\n",
        "print(\"1:\", df[\"pred1_classes\"].value_counts())\n",
        "print(\"2:\", df[\"pred2_classes\"].value_counts())\n",
        "print(\"3:\", df[\"pred3_classes\"].value_counts())"
      ],
      "metadata": {
        "colab": {
          "base_uri": "https://localhost:8080/"
        },
        "id": "CRTlpIaiCgS1",
        "outputId": "f1f4ed55-fa71-491d-e3f7-df235b9ae576"
      },
      "execution_count": null,
      "outputs": [
        {
          "output_type": "stream",
          "name": "stdout",
          "text": [
            "target: 0    382\n",
            "1    307\n",
            "Name: target, dtype: int64\n",
            "1: 0    495\n",
            "1    194\n",
            "Name: pred1_classes, dtype: int64\n",
            "2: 1    367\n",
            "0    322\n",
            "Name: pred2_classes, dtype: int64\n",
            "3: 0    534\n",
            "1    155\n",
            "Name: pred3_classes, dtype: int64\n"
          ]
        }
      ]
    },
    {
      "cell_type": "markdown",
      "source": [
        "Вывод: в таргете присутсвует больше единиц, чем нулей. Единиц примерно 45%."
      ],
      "metadata": {
        "id": "DkcL-IEmtk3w"
      }
    },
    {
      "cell_type": "markdown",
      "source": [
        "# **Задание 2** #"
      ],
      "metadata": {
        "id": "eZ-uqkSNn-en"
      }
    },
    {
      "cell_type": "code",
      "source": [
        "from sklearn.metrics import accuracy_score as acc\n",
        "\n",
        "print(\"1. Accuracy:\", acc(df[\"pred1_classes\"], df[\"target\"]))\n",
        "print(\"2. Accuracy:\", acc(df[\"pred2_classes\"], df[\"target\"]))\n",
        "print(\"3. Accuracy:\", acc(df[\"pred3_classes\"], df[\"target\"]))"
      ],
      "metadata": {
        "colab": {
          "base_uri": "https://localhost:8080/"
        },
        "id": "Ns5XRhb5CwSQ",
        "outputId": "283d28ef-9abf-4123-d640-65a1de74c92c"
      },
      "execution_count": null,
      "outputs": [
        {
          "output_type": "stream",
          "name": "stdout",
          "text": [
            "1. Accuracy: 0.6618287373004355\n",
            "2. Accuracy: 0.6719883889695211\n",
            "3. Accuracy: 0.6400580551523948\n"
          ]
        }
      ]
    },
    {
      "cell_type": "markdown",
      "source": [
        "Вывод: наиболее точный с точки зрения accuracy алгоритм - второй, хотя по качеству, все 3 алгоритма далеки от того, чтобы называться достаточно точными"
      ],
      "metadata": {
        "id": "AUvMRE_auLnU"
      }
    },
    {
      "cell_type": "markdown",
      "source": [
        "# **Задание 3** #"
      ],
      "metadata": {
        "id": "Lp3l2DlSn3VA"
      }
    },
    {
      "cell_type": "code",
      "source": [
        "from sklearn.metrics import precision_score as pr, recall_score as rc\n"
      ],
      "metadata": {
        "id": "0BSNKvpNDdPN"
      },
      "execution_count": null,
      "outputs": []
    },
    {
      "cell_type": "code",
      "source": [
        "print(\"1. Precision:\", pr(df[\"target\"], df[\"pred1_classes\"]))\n",
        "print(\"1. Recall:\", rc(df[\"target\"], df[\"pred1_classes\"]))\n",
        "print(\"2. Precision:\", pr(df[\"target\"], df[\"pred2_classes\"]))\n",
        "print(\"2. Recall:\", rc(df[\"target\"], df[\"pred2_classes\"]))\n",
        "print(\"3. Precision:\", pr(df[\"target\"], df[\"pred3_classes\"]))\n",
        "print(\"3. Recall:\", rc(df[\"target\"], df[\"pred3_classes\"]))"
      ],
      "metadata": {
        "colab": {
          "base_uri": "https://localhost:8080/"
        },
        "id": "22Rxxij6D80m",
        "outputId": "4e9ddead-b82d-42bf-d4c6-194daaf0aff2"
      },
      "execution_count": null,
      "outputs": [
        {
          "output_type": "stream",
          "name": "stdout",
          "text": [
            "1. Precision: 0.6907216494845361\n",
            "1. Recall: 0.4364820846905538\n",
            "2. Precision: 0.6103542234332425\n",
            "2. Recall: 0.7296416938110749\n",
            "3. Precision: 0.6903225806451613\n",
            "3. Recall: 0.3485342019543974\n"
          ]
        }
      ]
    },
    {
      "cell_type": "markdown",
      "source": [
        "# **Задание 4** #"
      ],
      "metadata": {
        "id": "wIB0OXIU_9i6"
      }
    },
    {
      "cell_type": "code",
      "source": [
        "import itertools\n",
        "from sklearn.metrics import confusion_matrix\n",
        "import numpy as np\n",
        "\n",
        "def plot_confusion_matrix(cm, classes,\n",
        "                          normalize=False,\n",
        "                          title='Confusion matrix',\n",
        "                          cmap=plt.cm.Blues):\n",
        "\n",
        "    plt.imshow(cm, interpolation='nearest', cmap=cmap)\n",
        "    plt.title(title)\n",
        "    plt.colorbar()\n",
        "    tick_marks = np.arange(len(classes))\n",
        "    plt.xticks(tick_marks, classes, rotation=45)\n",
        "    plt.yticks(tick_marks, classes)\n",
        "\n",
        "    fmt = '.2f' if normalize else 'd'\n",
        "    thresh = cm.max() / 2.\n",
        "    for i, j in itertools.product(range(cm.shape[0]), range(cm.shape[1])):\n",
        "        plt.text(j, i, format(cm[i, j], fmt),\n",
        "                 horizontalalignment=\"center\",\n",
        "                 color=\"white\" if cm[i, j] > thresh else \"black\")\n",
        "\n",
        "    plt.tight_layout()\n",
        "    plt.ylabel('True label')\n",
        "    plt.xlabel('Predicted label')"
      ],
      "metadata": {
        "id": "4q-k7uaZAjL_"
      },
      "execution_count": null,
      "outputs": []
    },
    {
      "cell_type": "code",
      "source": [
        "matrix_1 = confusion_matrix(df[\"target\"], df[\"pred1_classes\"])\n",
        "matrix_2 = confusion_matrix(df[\"target\"], df[\"pred2_classes\"])\n",
        "matrix_3 = confusion_matrix(df[\"target\"], df[\"pred3_classes\"])\n",
        "\n",
        "plot_confusion_matrix(matrix_1, df[\"pred1_classes\"].unique())"
      ],
      "metadata": {
        "id": "DPaYS7O3ENLz",
        "colab": {
          "base_uri": "https://localhost:8080/",
          "height": 506
        },
        "outputId": "951b7a76-1cf1-49e1-b07f-75cdd3eeb34c"
      },
      "execution_count": null,
      "outputs": [
        {
          "output_type": "display_data",
          "data": {
            "text/plain": [
              "<Figure size 640x480 with 2 Axes>"
            ],
            "image/png": "[encoded data removed]"
          },
          "metadata": {}
        }
      ]
    },
    {
      "cell_type": "code",
      "source": [
        "plot_confusion_matrix(matrix_2, df[\"pred2_classes\"].unique())"
      ],
      "metadata": {
        "id": "wk1qQsWDrPFt",
        "colab": {
          "base_uri": "https://localhost:8080/",
          "height": 506
        },
        "outputId": "c49e0249-512c-49a6-bd69-d11ba07411f0"
      },
      "execution_count": null,
      "outputs": [
        {
          "output_type": "display_data",
          "data": {
            "text/plain": [
              "<Figure size 640x480 with 2 Axes>"
            ],
            "image/png": "[encoded data removed]"
          },
          "metadata": {}
        }
      ]
    },
    {
      "cell_type": "code",
      "source": [
        "plot_confusion_matrix(matrix_3, df[\"pred3_classes\"].unique())"
      ],
      "metadata": {
        "colab": {
          "base_uri": "https://localhost:8080/",
          "height": 506
        },
        "id": "omKS2hhNBdPu",
        "outputId": "de164d80-2a3f-4900-b990-a482324ff10d"
      },
      "execution_count": null,
      "outputs": [
        {
          "output_type": "display_data",
          "data": {
            "text/plain": [
              "<Figure size 640x480 with 2 Axes>"
            ],
            "image/png": "[encoded data removed]"
          },
          "metadata": {}
        }
      ]
    },
    {
      "cell_type": "markdown",
      "source": [
        "# **Задания 5-6** #"
      ],
      "metadata": {
        "id": "RFYJm-s-29Tq"
      }
    },
    {
      "cell_type": "markdown",
      "source": [
        "Давайте определимся с целями нашего предсказания:\n",
        "\n",
        "  # **Вариант 1:** #\n",
        "  хотим выдать кредит максимальному числу людей среди тех, кто мог бы его вернуть. При этом не хотим много ошибаться (общее число ошибок не более 35%).\n",
        "   Мы не хотим, чтобы алгоритм много ошибался: accuracy  >= 0.65.\n",
        "\n",
        "Кроме того полнота должна быть как можно больше (число в левом нижнем квадрате матрицы ошибок минимально).\n"
      ],
      "metadata": {
        "id": "LUulRrdGOufd"
      }
    },
    {
      "cell_type": "code",
      "source": [
        "iv1 = 0\n",
        "maxr = 0\n",
        "for i in range(101):\n",
        "  classes1 = df[\"pred1_probs\"].map(lambda x: 1 if x>i/100 else 0)\n",
        "  a = acc(df[\"target\"], classes1)\n",
        "  r = rc(df[\"target\"], classes1)\n",
        "\n",
        "  if a >= 0.65 and r > maxr:\n",
        "    maxr = r\n",
        "    iv1 = i\n",
        "print(\"1 алгоритм: максимальное значение полноты:\", maxr, \"при пороге:\", iv1/100)"
      ],
      "metadata": {
        "colab": {
          "base_uri": "https://localhost:8080/"
        },
        "id": "nOnOvAx9EmhJ",
        "outputId": "1886caa6-7fa0-4d7a-f15c-965932b211a8"
      },
      "execution_count": null,
      "outputs": [
        {
          "output_type": "stream",
          "name": "stdout",
          "text": [
            "1 алгоритм: максимальное значение полноты: 0.742671009771987 при пороге: 0.36\n"
          ]
        }
      ]
    },
    {
      "cell_type": "code",
      "source": [
        "classesl1 = df[\"pred1_probs\"].map(lambda x: 1 if x>iv1/100 else 0)\n",
        "matrix_l1 = confusion_matrix(df[\"target\"], classesl1)\n",
        "\n",
        "plot_confusion_matrix(matrix_l1, classesl1.unique())\n",
        "print(rc(df[\"target\"], classesl1))"
      ],
      "metadata": {
        "colab": {
          "base_uri": "https://localhost:8080/",
          "height": 528
        },
        "id": "KpVaQvpgCEQY",
        "outputId": "8f5f9dba-0fd9-483d-d6ec-7b50d7ff1830"
      },
      "execution_count": null,
      "outputs": [
        {
          "output_type": "stream",
          "name": "stdout",
          "text": [
            "0.742671009771987\n"
          ]
        },
        {
          "output_type": "display_data",
          "data": {
            "text/plain": [
              "<Figure size 640x480 with 2 Axes>"
            ],
            "image/png": "[encoded data removed]"
          },
          "metadata": {}
        }
      ]
    },
    {
      "cell_type": "code",
      "source": [
        "iv2 = 0\n",
        "maxr = 0\n",
        "for i in range(101):\n",
        "  classes2 = df[\"pred2_probs\"].map(lambda x: 1 if x>i/100 else 0)\n",
        "  a = acc(df[\"target\"], classes2)\n",
        "  r = rc(df[\"target\"], classes2)\n",
        "\n",
        "  if a >= 0.65 and r > maxr:\n",
        "    maxr = r\n",
        "    iv2 = i\n",
        "print(\"2 алгоритм: максимальное значение полноты:\", maxr, \"при пороге:\", iv2/100)"
      ],
      "metadata": {
        "colab": {
          "base_uri": "https://localhost:8080/"
        },
        "id": "BqrxaON1PlmP",
        "outputId": "79439e13-1e31-46a4-d67b-88536d1f8846"
      },
      "execution_count": null,
      "outputs": [
        {
          "output_type": "stream",
          "name": "stdout",
          "text": [
            "2 алгоритм: максимальное значение полноты: 0.8371335504885994 при пороге: 0.27\n"
          ]
        }
      ]
    },
    {
      "cell_type": "code",
      "source": [
        "classesl2 = df[\"pred2_probs\"].map(lambda x: 1 if x>iv2/100 else 0)\n",
        "matrix_l2 = confusion_matrix(df[\"target\"], classesl2)\n",
        "\n",
        "plot_confusion_matrix(matrix_l2, classesl2.unique())\n",
        "print(rc(df[\"target\"], classesl2))"
      ],
      "metadata": {
        "colab": {
          "base_uri": "https://localhost:8080/",
          "height": 528
        },
        "id": "wELNMKAdmfCC",
        "outputId": "c178150e-6eb4-4cdd-f36b-bbf01ab69144"
      },
      "execution_count": null,
      "outputs": [
        {
          "output_type": "stream",
          "name": "stdout",
          "text": [
            "0.8371335504885994\n"
          ]
        },
        {
          "output_type": "display_data",
          "data": {
            "text/plain": [
              "<Figure size 640x480 with 2 Axes>"
            ],
            "image/png": "[encoded data removed]"
          },
          "metadata": {}
        }
      ]
    },
    {
      "cell_type": "code",
      "source": [
        "iv3 = 0\n",
        "maxr = 0\n",
        "for i in range(101):\n",
        "  classes3 = df[\"pred3_probs\"].map(lambda x: 1 if x>i/100 else 0)\n",
        "  a = acc(df[\"target\"], classes3)\n",
        "  r = rc(df[\"target\"], classes3)\n",
        "\n",
        "  if a >= 0.65 and r > maxr:\n",
        "    maxr = r\n",
        "    iv3 = i\n",
        "print(r)"
      ],
      "metadata": {
        "colab": {
          "base_uri": "https://localhost:8080/"
        },
        "id": "hiLq2yy1RN93",
        "outputId": "38dc3f2c-e4c9-4f7f-a07f-15f170588296"
      },
      "execution_count": null,
      "outputs": [
        {
          "output_type": "stream",
          "name": "stdout",
          "text": [
            "0.0\n"
          ]
        }
      ]
    },
    {
      "cell_type": "markdown",
      "source": [
        "Как мы видим, у 3-ему алгоритму ни при каком пороге не удалось преодолеть отметку accuracy = 0.65. Снизим порог, ради интереса до 0.6, чтобы посмотреть на результат алгоритма."
      ],
      "metadata": {
        "id": "_iiYi-v_T3wY"
      }
    },
    {
      "cell_type": "code",
      "source": [
        "iv3 = 0\n",
        "maxr = 0\n",
        "for i in range(101):\n",
        "  classesl3 = df[\"pred3_probs\"].map(lambda x: 1 if x>i/100 else 0)\n",
        "  a = acc(df[\"target\"], classesl3)\n",
        "  r = rc(df[\"target\"], classesl3)\n",
        "\n",
        "  if a >= 0.6 and r > maxr:\n",
        "    maxr = r\n",
        "    iv3 = i\n",
        "\n",
        "classesl3 = df[\"pred3_probs\"].map(lambda x: 1 if x>iv3/100 else 0)\n",
        "matrix_l3 = confusion_matrix(df[\"target\"], classesl3)\n",
        "\n",
        "plot_confusion_matrix(matrix_l3, classesl3.unique())\n",
        "print(rc(df[\"target\"], classesl3))"
      ],
      "metadata": {
        "colab": {
          "base_uri": "https://localhost:8080/",
          "height": 528
        },
        "id": "9ByL46hrnIko",
        "outputId": "c8d3f423-6253-4448-ea9b-37b4ac903371"
      },
      "execution_count": null,
      "outputs": [
        {
          "output_type": "stream",
          "name": "stdout",
          "text": [
            "0.758957654723127\n"
          ]
        },
        {
          "output_type": "display_data",
          "data": {
            "text/plain": [
              "<Figure size 640x480 with 2 Axes>"
            ],
            "image/png": "[encoded data removed]"
          },
          "metadata": {}
        }
      ]
    },
    {
      "cell_type": "markdown",
      "source": [
        "Выводы: с вариантом 1 лучше всего справился 2 алгоритм, у него наиболее высокое значение полноты и наиболее \"белая\" левая нижняя ячейка (так как оси поменяны местами, она именно там, а не слева внизу)."
      ],
      "metadata": {
        "id": "F-jaUx2sACcp"
      }
    },
    {
      "cell_type": "markdown",
      "source": [
        "# **Задания 7-8** #"
      ],
      "metadata": {
        "id": "XBukHv4k2oGi"
      }
    },
    {
      "cell_type": "markdown",
      "source": [
        "# **Вариант 2** # (precision)"
      ],
      "metadata": {
        "id": "SZ1IpEP9mg0j"
      }
    },
    {
      "cell_type": "code",
      "source": [
        "ivo1 = 0\n",
        "maxr = 0\n",
        "for i in range(101):\n",
        "  classeso1 = df[\"pred1_probs\"].map(lambda x: 1 if x>i/100 else 0)\n",
        "  a = acc(df[\"target\"], classeso1)\n",
        "  r = pr(df[\"target\"], classeso1)\n",
        "\n",
        "  if a >= 0.65 and r > maxr:\n",
        "    maxr = r\n",
        "    ivo1 = i\n",
        "print(\"1 алгоритм: максимальное значение точности:\", maxr, \"при пороге:\", ivo1/100)"
      ],
      "metadata": {
        "colab": {
          "base_uri": "https://localhost:8080/"
        },
        "id": "W9XWWXvaT205",
        "outputId": "33b4f6ad-e035-4bf4-dda0-3a8adb03beef"
      },
      "execution_count": null,
      "outputs": [
        {
          "output_type": "stream",
          "name": "stdout",
          "text": [
            "1 алгоритм: максимальное значение точности: 0.7371794871794872 при пороге: 0.54\n"
          ]
        },
        {
          "output_type": "stream",
          "name": "stderr",
          "text": [
            "/usr/local/lib/python3.9/dist-packages/sklearn/metrics/_classification.py:1344: UndefinedMetricWarning: Precision is ill-defined and being set to 0.0 due to no predicted samples. Use `zero_division` parameter to control this behavior.\n",
            "  _warn_prf(average, modifier, msg_start, len(result))\n"
          ]
        }
      ]
    },
    {
      "cell_type": "code",
      "source": [
        "classeso1 = df[\"pred1_probs\"].map(lambda x: 1 if x>ivo1/100 else 0)\n",
        "matrix_o1 = confusion_matrix(df[\"target\"], classeso1)\n",
        "\n",
        "plot_confusion_matrix(matrix_o1, classeso1.unique())\n",
        "print(pr(df[\"target\"], classeso1))"
      ],
      "metadata": {
        "colab": {
          "base_uri": "https://localhost:8080/",
          "height": 528
        },
        "id": "2tvSdU1YyDJj",
        "outputId": "7331e91b-c1c9-457e-9cb7-212e79717738"
      },
      "execution_count": null,
      "outputs": [
        {
          "output_type": "stream",
          "name": "stdout",
          "text": [
            "0.7371794871794872\n"
          ]
        },
        {
          "output_type": "display_data",
          "data": {
            "text/plain": [
              "<Figure size 640x480 with 2 Axes>"
            ],
            "image/png": "[encoded data removed]"
          },
          "metadata": {}
        }
      ]
    },
    {
      "cell_type": "code",
      "source": [
        "ivo2 = 0\n",
        "maxr = 0\n",
        "for i in range(101):\n",
        "  classeso2 = df[\"pred2_probs\"].map(lambda x: 1 if x>i/100 else 0)\n",
        "  a = acc(df[\"target\"], classeso2)\n",
        "  r = pr(df[\"target\"], classeso2)\n",
        "\n",
        "  if a >= 0.65 and r > maxr:\n",
        "    maxr = r\n",
        "    ivo2 = i\n",
        "print(\"2 алгоритм: максимальное значение точности:\", maxr, \"при пороге:\", ivo2/100)"
      ],
      "metadata": {
        "colab": {
          "base_uri": "https://localhost:8080/"
        },
        "id": "5kpb1yxrmxWB",
        "outputId": "900545d6-6c8f-4357-dc77-f85d4b488f92"
      },
      "execution_count": null,
      "outputs": [
        {
          "output_type": "stream",
          "name": "stdout",
          "text": [
            "2 алгоритм: максимальное значение точности: 0.8367346938775511 при пороге: 0.73\n"
          ]
        },
        {
          "output_type": "stream",
          "name": "stderr",
          "text": [
            "/usr/local/lib/python3.9/dist-packages/sklearn/metrics/_classification.py:1344: UndefinedMetricWarning: Precision is ill-defined and being set to 0.0 due to no predicted samples. Use `zero_division` parameter to control this behavior.\n",
            "  _warn_prf(average, modifier, msg_start, len(result))\n",
            "/usr/local/lib/python3.9/dist-packages/sklearn/metrics/_classification.py:1344: UndefinedMetricWarning: Precision is ill-defined and being set to 0.0 due to no predicted samples. Use `zero_division` parameter to control this behavior.\n",
            "  _warn_prf(average, modifier, msg_start, len(result))\n",
            "/usr/local/lib/python3.9/dist-packages/sklearn/metrics/_classification.py:1344: UndefinedMetricWarning: Precision is ill-defined and being set to 0.0 due to no predicted samples. Use `zero_division` parameter to control this behavior.\n",
            "  _warn_prf(average, modifier, msg_start, len(result))\n",
            "/usr/local/lib/python3.9/dist-packages/sklearn/metrics/_classification.py:1344: UndefinedMetricWarning: Precision is ill-defined and being set to 0.0 due to no predicted samples. Use `zero_division` parameter to control this behavior.\n",
            "  _warn_prf(average, modifier, msg_start, len(result))\n",
            "/usr/local/lib/python3.9/dist-packages/sklearn/metrics/_classification.py:1344: UndefinedMetricWarning: Precision is ill-defined and being set to 0.0 due to no predicted samples. Use `zero_division` parameter to control this behavior.\n",
            "  _warn_prf(average, modifier, msg_start, len(result))\n"
          ]
        }
      ]
    },
    {
      "cell_type": "code",
      "source": [
        "classeso2 = df[\"pred2_probs\"].map(lambda x: 1 if x>ivo2/100 else 0)\n",
        "matrix_o2 = confusion_matrix(df[\"target\"], classeso2)\n",
        "\n",
        "plot_confusion_matrix(matrix_o2, classeso2.unique())\n",
        "print(pr(df[\"target\"], classeso2))"
      ],
      "metadata": {
        "colab": {
          "base_uri": "https://localhost:8080/",
          "height": 528
        },
        "id": "_09Ykov1yRbb",
        "outputId": "e4b2e186-9599-4700-b7be-76c9f11ac398"
      },
      "execution_count": null,
      "outputs": [
        {
          "output_type": "stream",
          "name": "stdout",
          "text": [
            "0.8367346938775511\n"
          ]
        },
        {
          "output_type": "display_data",
          "data": {
            "text/plain": [
              "<Figure size 640x480 with 2 Axes>"
            ],
            "image/png": "[encoded data removed]"
          },
          "metadata": {}
        }
      ]
    },
    {
      "cell_type": "code",
      "source": [
        "ivo3 = 0\n",
        "maxr = 0\n",
        "for i in range(101):\n",
        "  classeso3 = df[\"pred3_probs\"].map(lambda x: 1 if x>i/100 else 0)\n",
        "  a = acc(df[\"target\"], classeso3)\n",
        "  r = pr(df[\"target\"], classeso3)\n",
        "\n",
        "  if a >= 0.65 and r > maxr:\n",
        "    maxr = r\n",
        "    ivo3 = i\n",
        "print(r)\n",
        "print(\"3 алгоритм: максимальное значение точности:\", maxr, \"при пороге:\", ivo3/100)"
      ],
      "metadata": {
        "colab": {
          "base_uri": "https://localhost:8080/"
        },
        "id": "qrQz2rIkm2Tx",
        "outputId": "d0fa1b66-ae1c-40ee-fefd-39306c884252"
      },
      "execution_count": null,
      "outputs": [
        {
          "output_type": "stream",
          "name": "stdout",
          "text": [
            "0.0\n",
            "3 алгоритм: максимальное значение точности: 0 при пороге: 0.0\n"
          ]
        },
        {
          "output_type": "stream",
          "name": "stderr",
          "text": [
            "/usr/local/lib/python3.9/dist-packages/sklearn/metrics/_classification.py:1344: UndefinedMetricWarning: Precision is ill-defined and being set to 0.0 due to no predicted samples. Use `zero_division` parameter to control this behavior.\n",
            "  _warn_prf(average, modifier, msg_start, len(result))\n"
          ]
        }
      ]
    },
    {
      "cell_type": "markdown",
      "source": [
        "(3 алгоритм не проходит accuracy 0.65). Снизим до 0.6.\n"
      ],
      "metadata": {
        "id": "J76__-eRnFyo"
      }
    },
    {
      "cell_type": "code",
      "source": [
        "ivo3 = 0\n",
        "maxr = 0\n",
        "for i in range(101):\n",
        "  classeso3 = df[\"pred3_probs\"].map(lambda x: 1 if x>i/100 else 0)\n",
        "  a = acc(df[\"target\"], classeso3)\n",
        "  r = pr(df[\"target\"], classeso3)\n",
        "\n",
        "  if a >= 0.6 and r > maxr:\n",
        "    maxr = r\n",
        "    ivo3 = i\n",
        "print(\"3 алгоритм: максимальное значение точности:\", maxr, \"при пороге:\", ivo3/100)\n",
        "\n",
        "classeso3 = df[\"pred3_probs\"].map(lambda x: 1 if x>ivo3/100 else 0)\n",
        "matrix_o3 = confusion_matrix(df[\"target\"], classeso3)\n",
        "\n",
        "plot_confusion_matrix(matrix_o3, classeso3.unique())\n",
        "print(pr(df[\"target\"], classeso3))"
      ],
      "metadata": {
        "colab": {
          "base_uri": "https://localhost:8080/",
          "height": 614
        },
        "id": "htqbgccP00yb",
        "outputId": "a8ba9d51-e890-4483-9f36-e732e9f90799"
      },
      "execution_count": null,
      "outputs": [
        {
          "output_type": "stream",
          "name": "stderr",
          "text": [
            "/usr/local/lib/python3.9/dist-packages/sklearn/metrics/_classification.py:1344: UndefinedMetricWarning: Precision is ill-defined and being set to 0.0 due to no predicted samples. Use `zero_division` parameter to control this behavior.\n",
            "  _warn_prf(average, modifier, msg_start, len(result))\n"
          ]
        },
        {
          "output_type": "stream",
          "name": "stdout",
          "text": [
            "3 алгоритм: максимальное значение точности: 0.7530864197530864 при пороге: 0.89\n",
            "0.7530864197530864\n"
          ]
        },
        {
          "output_type": "display_data",
          "data": {
            "text/plain": [
              "<Figure size 640x480 with 2 Axes>"
            ],
            "image/png": "[encoded data removed]"
          },
          "metadata": {}
        }
      ]
    },
    {
      "cell_type": "markdown",
      "source": [
        "Вывод: с поставленной задачей лучше всего так же справился 2 алгоритм, у него наиболее высокое значение точности и наиболее \"белая\" правая верхняя ячейка."
      ],
      "metadata": {
        "id": "QE_hqSVk2y5e"
      }
    },
    {
      "cell_type": "markdown",
      "source": [
        "# **Задание 9** #"
      ],
      "metadata": {
        "id": "ffVKfCLg2Tu5"
      }
    },
    {
      "cell_type": "markdown",
      "source": [
        "# **Вариант 3**  (f1) #\n",
        "```\n",
        "\n"
      ],
      "metadata": {
        "id": "4p8KQzERnTG3"
      }
    },
    {
      "cell_type": "code",
      "source": [
        "from sklearn.metrics import f1_score as f1"
      ],
      "metadata": {
        "id": "FH4d-RvcnZ-c"
      },
      "execution_count": null,
      "outputs": []
    },
    {
      "cell_type": "code",
      "source": [
        "ivf1 = 0\n",
        "maxr = 0\n",
        "for i in range(101):\n",
        "  classesf1 = df[\"pred1_probs\"].map(lambda x: 1 if x>i/100 else 0)\n",
        "  a = acc(df[\"target\"], classesf1)\n",
        "  r = f1(df[\"target\"], classesf1)\n",
        "\n",
        "  if a >= 0.65 and r > maxr:\n",
        "    maxr = r\n",
        "    ivf1 = i\n",
        "print(\"1 алгоритм: максимальное значение f1:\", maxr, \"при пороге:\", ivf1/100)"
      ],
      "metadata": {
        "colab": {
          "base_uri": "https://localhost:8080/"
        },
        "id": "qhWFgd4encxl",
        "outputId": "8eda151f-222c-4c55-e753-e2c5e37fa844"
      },
      "execution_count": null,
      "outputs": [
        {
          "output_type": "stream",
          "name": "stdout",
          "text": [
            "1 алгоритм: максимальное значение f1: 0.6551724137931035 при пороге: 0.36\n"
          ]
        }
      ]
    },
    {
      "cell_type": "code",
      "source": [
        "classesf1 = df[\"pred1_probs\"].map(lambda x: 1 if x>ivf1/100 else 0)\n",
        "matrix_f1 = confusion_matrix(df[\"target\"], classesf1)\n",
        "\n",
        "plot_confusion_matrix(matrix_f1, classesf1.unique())\n",
        "print(f1(df[\"target\"], classesf1))"
      ],
      "metadata": {
        "colab": {
          "base_uri": "https://localhost:8080/",
          "height": 528
        },
        "id": "wCkGUOlmkQwJ",
        "outputId": "74477219-de85-4cce-ebd1-ef65c5adfd92"
      },
      "execution_count": null,
      "outputs": [
        {
          "output_type": "stream",
          "name": "stdout",
          "text": [
            "0.6551724137931035\n"
          ]
        },
        {
          "output_type": "display_data",
          "data": {
            "text/plain": [
              "<Figure size 640x480 with 2 Axes>"
            ],
            "image/png": "[encoded data removed]"
          },
          "metadata": {}
        }
      ]
    },
    {
      "cell_type": "code",
      "source": [
        "ivf2 = 0\n",
        "maxr = 0\n",
        "for i in range(101):\n",
        "  classesf2 = df[\"pred2_probs\"].map(lambda x: 1 if x>i/100 else 0)\n",
        "  a = acc(df[\"target\"], classesf2)\n",
        "  r = f1(df[\"target\"], classesf2)\n",
        "\n",
        "  if a >= 0.65 and r > maxr:\n",
        "    maxr = r\n",
        "    ivf2 = i\n",
        "print(\"2 алгоритм: максимальное значение f1:\", maxr, \"при пороге:\", ivf2/100)"
      ],
      "metadata": {
        "colab": {
          "base_uri": "https://localhost:8080/"
        },
        "id": "XLNwv1fxnx_O",
        "outputId": "d173f784-3340-4c4a-d8e3-75eb4dbc2cb4"
      },
      "execution_count": null,
      "outputs": [
        {
          "output_type": "stream",
          "name": "stdout",
          "text": [
            "2 алгоритм: максимальное значение f1: 0.6990291262135923 при пороге: 0.32\n"
          ]
        }
      ]
    },
    {
      "cell_type": "code",
      "source": [
        "classesf2 = df[\"pred2_probs\"].map(lambda x: 1 if x>ivf2/100 else 0)\n",
        "matrix_f2 = confusion_matrix(df[\"target\"], classesf2)\n",
        "\n",
        "plot_confusion_matrix(matrix_f2, classesf2.unique())\n",
        "print(f1(df[\"target\"], classesf2))"
      ],
      "metadata": {
        "colab": {
          "base_uri": "https://localhost:8080/",
          "height": 528
        },
        "id": "j_xWw9BJ1ryz",
        "outputId": "02786401-a095-4926-9861-9760bff0d725"
      },
      "execution_count": null,
      "outputs": [
        {
          "output_type": "stream",
          "name": "stdout",
          "text": [
            "0.6990291262135923\n"
          ]
        },
        {
          "output_type": "display_data",
          "data": {
            "text/plain": [
              "<Figure size 640x480 with 2 Axes>"
            ],
            "image/png": "[encoded data removed]"
          },
          "metadata": {}
        }
      ]
    },
    {
      "cell_type": "code",
      "source": [
        "ivf3 = 0\n",
        "maxr = 0\n",
        "for i in range(101):\n",
        "  classesf3 = df[\"pred3_probs\"].map(lambda x: 1 if x>i/100 else 0)\n",
        "  a = acc(df[\"target\"], classesf3)\n",
        "  r = f1(df[\"target\"], classesf3)\n",
        "\n",
        "  if a >= 0.65 and r > maxr:\n",
        "    maxr = r\n",
        "    ivf3 = i\n",
        "print(r)"
      ],
      "metadata": {
        "colab": {
          "base_uri": "https://localhost:8080/"
        },
        "id": "yyeXhRFloDW5",
        "outputId": "113401c0-4f50-4c4a-de96-02a8746c5934"
      },
      "execution_count": null,
      "outputs": [
        {
          "output_type": "stream",
          "name": "stdout",
          "text": [
            "0.0\n"
          ]
        }
      ]
    },
    {
      "cell_type": "markdown",
      "source": [
        "3 алгоритм как всегда..."
      ],
      "metadata": {
        "id": "IQZaOddFoFQ-"
      }
    },
    {
      "cell_type": "code",
      "source": [
        "ivf3 = 0\n",
        "maxr = 0\n",
        "for i in range(101):\n",
        "  classesf3 = df[\"pred3_probs\"].map(lambda x: 1 if x>i/100 else 0)\n",
        "  a = acc(df[\"target\"], classesf3)\n",
        "  r = f1(df[\"target\"], classesf3)\n",
        "\n",
        "  if a >= 0.6 and r > maxr:\n",
        "    maxr = r\n",
        "    ivf3 = i\n",
        "print(\"3 алгоритм: максимальное значение f1:\", maxr, \"при пороге:\", ivf3/100)"
      ],
      "metadata": {
        "colab": {
          "base_uri": "https://localhost:8080/"
        },
        "id": "kE57uNBR18Lk",
        "outputId": "d55d336d-2f0a-4ece-ca07-b16cf1cf540c"
      },
      "execution_count": null,
      "outputs": [
        {
          "output_type": "stream",
          "name": "stdout",
          "text": [
            "3 алгоритм: максимальное значение f1: 0.6305818673883626 при пороге: 0.18\n"
          ]
        }
      ]
    },
    {
      "cell_type": "code",
      "source": [
        "classesf3 = df[\"pred3_probs\"].map(lambda x: 1 if x>ivf3/100 else 0)\n",
        "matrix_f3 = confusion_matrix(df[\"target\"], classesf3)\n",
        "\n",
        "plot_confusion_matrix(matrix_f3, classesf3.unique())\n",
        "print(f1(df[\"target\"], classesf3))"
      ],
      "metadata": {
        "colab": {
          "base_uri": "https://localhost:8080/",
          "height": 528
        },
        "id": "kpFfwuit2C54",
        "outputId": "27db7b85-290b-4ae7-9c41-23d4e37c2372"
      },
      "execution_count": null,
      "outputs": [
        {
          "output_type": "stream",
          "name": "stdout",
          "text": [
            "0.6305818673883626\n"
          ]
        },
        {
          "output_type": "display_data",
          "data": {
            "text/plain": [
              "<Figure size 640x480 with 2 Axes>"
            ],
            "image/png": "[encoded data removed]"
          },
          "metadata": {}
        }
      ]
    },
    {
      "cell_type": "markdown",
      "source": [
        "Вывод: с поставленной задачей так же лучше всего справился 2 алгоритм, у негоо наиболее высокое значение по метрике f1 и наиболее яркие, контрастные диагональные ячейки."
      ],
      "metadata": {
        "id": "bE1keAHeBQWt"
      }
    },
    {
      "cell_type": "markdown",
      "source": [
        "# **Задания 10-11** #"
      ],
      "metadata": {
        "id": "OnLAT9z53bot"
      }
    },
    {
      "cell_type": "markdown",
      "source": [
        "# **Обучим свою модель для предсказания target.** #\n"
      ],
      "metadata": {
        "id": "psn2piuSoMkg"
      }
    },
    {
      "cell_type": "code",
      "source": [
        "df1 = df.drop(\"pred1_probs\", axis = 1).drop(\"pred2_probs\", axis = 1).drop(\"pred3_probs\", axis = 1).drop(\"pred1_classes\", axis = 1).drop(\"pred2_classes\", axis = 1).drop(\"pred3_classes\", axis = 1)"
      ],
      "metadata": {
        "id": "014v9Y7MoRgb"
      },
      "execution_count": null,
      "outputs": []
    },
    {
      "cell_type": "code",
      "source": [
        "df1"
      ],
      "metadata": {
        "colab": {
          "base_uri": "https://localhost:8080/",
          "height": 534
        },
        "id": "c1zCcFU_oSP3",
        "outputId": "05fc85e2-8b1c-4f6c-f4d9-6b5d122a740e"
      },
      "execution_count": null,
      "outputs": [
        {
          "output_type": "execute_result",
          "data": {
            "text/plain": [
              "     0      1       2  3   4  5      6  7  8   9  10  11   12    13  target\n",
              "0    1  22.08  11.460  2   4  4  1.585  0  0   0   1   2  100  1213       0\n",
              "1    0  22.67   7.000  2   8  4  0.165  0  0   0   0   2  160     1       0\n",
              "2    0  29.58   1.750  1   4  4  1.250  0  0   0   1   2  280     1       0\n",
              "3    0  21.67  11.500  1   5  3  0.000  1  1  11   1   2    0     1       1\n",
              "4    1  20.17   8.170  2   6  4  1.960  1  1  14   0   2   60   159       1\n",
              "..  ..    ...     ... ..  .. ..    ... .. ..  ..  ..  ..  ...   ...     ...\n",
              "684  1  31.57  10.500  2  14  4  6.500  1  0   0   0   2    0     1       1\n",
              "685  1  20.67   0.415  2   8  4  0.125  0  0   0   0   2    0    45       0\n",
              "686  0  18.83   9.540  2   6  4  0.085  1  0   0   0   2  100     1       1\n",
              "687  0  27.42  14.500  2  14  8  3.085  1  1   1   0   2  120    12       1\n",
              "688  1  41.00   0.040  2  10  4  0.040  0  1   1   0   1  560     1       1\n",
              "\n",
              "[689 rows x 15 columns]"
            ],
            "text/html": [
              "\n",
              "  <div id=\"df-7e2ccaec-fbbe-4d7a-9a66-2d5be5d66c25\">\n",
              "    <div class=\"colab-df-container\">\n",
              "      <div>\n",
              "<style scoped>\n",
              "    .dataframe tbody tr th:only-of-type {\n",
              "        vertical-align: middle;\n",
              "    }\n",
              "\n",
              "    .dataframe tbody tr th {\n",
              "        vertical-align: top;\n",
              "    }\n",
              "\n",
              "    .dataframe thead th {\n",
              "        text-align: right;\n",
              "    }\n",
              "</style>\n",
              "<table border=\"1\" class=\"dataframe\">\n",
              "  <thead>\n",
              "    <tr style=\"text-align: right;\">\n",
              "      <th></th>\n",
              "      <th>0</th>\n",
              "      <th>1</th>\n",
              "      <th>2</th>\n",
              "      <th>3</th>\n",
              "      <th>4</th>\n",
              "      <th>5</th>\n",
              "      <th>6</th>\n",
              "      <th>7</th>\n",
              "      <th>8</th>\n",
              "      <th>9</th>\n",
              "      <th>10</th>\n",
              "      <th>11</th>\n",
              "      <th>12</th>\n",
              "      <th>13</th>\n",
              "      <th>target</th>\n",
              "    </tr>\n",
              "  </thead>\n",
              "  <tbody>\n",
              "    <tr>\n",
              "      <th>0</th>\n",
              "      <td>1</td>\n",
              "      <td>22.08</td>\n",
              "      <td>11.460</td>\n",
              "      <td>2</td>\n",
              "      <td>4</td>\n",
              "      <td>4</td>\n",
              "      <td>1.585</td>\n",
              "      <td>0</td>\n",
              "      <td>0</td>\n",
              "      <td>0</td>\n",
              "      <td>1</td>\n",
              "      <td>2</td>\n",
              "      <td>100</td>\n",
              "      <td>1213</td>\n",
              "      <td>0</td>\n",
              "    </tr>\n",
              "    <tr>\n",
              "      <th>1</th>\n",
              "      <td>0</td>\n",
              "      <td>22.67</td>\n",
              "      <td>7.000</td>\n",
              "      <td>2</td>\n",
              "      <td>8</td>\n",
              "      <td>4</td>\n",
              "      <td>0.165</td>\n",
              "      <td>0</td>\n",
              "      <td>0</td>\n",
              "      <td>0</td>\n",
              "      <td>0</td>\n",
              "      <td>2</td>\n",
              "      <td>160</td>\n",
              "      <td>1</td>\n",
              "      <td>0</td>\n",
              "    </tr>\n",
              "    <tr>\n",
              "      <th>2</th>\n",
              "      <td>0</td>\n",
              "      <td>29.58</td>\n",
              "      <td>1.750</td>\n",
              "      <td>1</td>\n",
              "      <td>4</td>\n",
              "      <td>4</td>\n",
              "      <td>1.250</td>\n",
              "      <td>0</td>\n",
              "      <td>0</td>\n",
              "      <td>0</td>\n",
              "      <td>1</td>\n",
              "      <td>2</td>\n",
              "      <td>280</td>\n",
              "      <td>1</td>\n",
              "      <td>0</td>\n",
              "    </tr>\n",
              "    <tr>\n",
              "      <th>3</th>\n",
              "      <td>0</td>\n",
              "      <td>21.67</td>\n",
              "      <td>11.500</td>\n",
              "      <td>1</td>\n",
              "      <td>5</td>\n",
              "      <td>3</td>\n",
              "      <td>0.000</td>\n",
              "      <td>1</td>\n",
              "      <td>1</td>\n",
              "      <td>11</td>\n",
              "      <td>1</td>\n",
              "      <td>2</td>\n",
              "      <td>0</td>\n",
              "      <td>1</td>\n",
              "      <td>1</td>\n",
              "    </tr>\n",
              "    <tr>\n",
              "      <th>4</th>\n",
              "      <td>1</td>\n",
              "      <td>20.17</td>\n",
              "      <td>8.170</td>\n",
              "      <td>2</td>\n",
              "      <td>6</td>\n",
              "      <td>4</td>\n",
              "      <td>1.960</td>\n",
              "      <td>1</td>\n",
              "      <td>1</td>\n",
              "      <td>14</td>\n",
              "      <td>0</td>\n",
              "      <td>2</td>\n",
              "      <td>60</td>\n",
              "      <td>159</td>\n",
              "      <td>1</td>\n",
              "    </tr>\n",
              "    <tr>\n",
              "      <th>...</th>\n",
              "      <td>...</td>\n",
              "      <td>...</td>\n",
              "      <td>...</td>\n",
              "      <td>...</td>\n",
              "      <td>...</td>\n",
              "      <td>...</td>\n",
              "      <td>...</td>\n",
              "      <td>...</td>\n",
              "      <td>...</td>\n",
              "      <td>...</td>\n",
              "      <td>...</td>\n",
              "      <td>...</td>\n",
              "      <td>...</td>\n",
              "      <td>...</td>\n",
              "      <td>...</td>\n",
              "    </tr>\n",
              "    <tr>\n",
              "      <th>684</th>\n",
              "      <td>1</td>\n",
              "      <td>31.57</td>\n",
              "      <td>10.500</td>\n",
              "      <td>2</td>\n",
              "      <td>14</td>\n",
              "      <td>4</td>\n",
              "      <td>6.500</td>\n",
              "      <td>1</td>\n",
              "      <td>0</td>\n",
              "      <td>0</td>\n",
              "      <td>0</td>\n",
              "      <td>2</td>\n",
              "      <td>0</td>\n",
              "      <td>1</td>\n",
              "      <td>1</td>\n",
              "    </tr>\n",
              "    <tr>\n",
              "      <th>685</th>\n",
              "      <td>1</td>\n",
              "      <td>20.67</td>\n",
              "      <td>0.415</td>\n",
              "      <td>2</td>\n",
              "      <td>8</td>\n",
              "      <td>4</td>\n",
              "      <td>0.125</td>\n",
              "      <td>0</td>\n",
              "      <td>0</td>\n",
              "      <td>0</td>\n",
              "      <td>0</td>\n",
              "      <td>2</td>\n",
              "      <td>0</td>\n",
              "      <td>45</td>\n",
              "      <td>0</td>\n",
              "    </tr>\n",
              "    <tr>\n",
              "      <th>686</th>\n",
              "      <td>0</td>\n",
              "      <td>18.83</td>\n",
              "      <td>9.540</td>\n",
              "      <td>2</td>\n",
              "      <td>6</td>\n",
              "      <td>4</td>\n",
              "      <td>0.085</td>\n",
              "      <td>1</td>\n",
              "      <td>0</td>\n",
              "      <td>0</td>\n",
              "      <td>0</td>\n",
              "      <td>2</td>\n",
              "      <td>100</td>\n",
              "      <td>1</td>\n",
              "      <td>1</td>\n",
              "    </tr>\n",
              "    <tr>\n",
              "      <th>687</th>\n",
              "      <td>0</td>\n",
              "      <td>27.42</td>\n",
              "      <td>14.500</td>\n",
              "      <td>2</td>\n",
              "      <td>14</td>\n",
              "      <td>8</td>\n",
              "      <td>3.085</td>\n",
              "      <td>1</td>\n",
              "      <td>1</td>\n",
              "      <td>1</td>\n",
              "      <td>0</td>\n",
              "      <td>2</td>\n",
              "      <td>120</td>\n",
              "      <td>12</td>\n",
              "      <td>1</td>\n",
              "    </tr>\n",
              "    <tr>\n",
              "      <th>688</th>\n",
              "      <td>1</td>\n",
              "      <td>41.00</td>\n",
              "      <td>0.040</td>\n",
              "      <td>2</td>\n",
              "      <td>10</td>\n",
              "      <td>4</td>\n",
              "      <td>0.040</td>\n",
              "      <td>0</td>\n",
              "      <td>1</td>\n",
              "      <td>1</td>\n",
              "      <td>0</td>\n",
              "      <td>1</td>\n",
              "      <td>560</td>\n",
              "      <td>1</td>\n",
              "      <td>1</td>\n",
              "    </tr>\n",
              "  </tbody>\n",
              "</table>\n",
              "<p>689 rows × 15 columns</p>\n",
              "</div>\n",
              "      <button class=\"colab-df-convert\" onclick=\"convertToInteractive('df-7e2ccaec-fbbe-4d7a-9a66-2d5be5d66c25')\"\n",
              "              title=\"Convert this dataframe to an interactive table.\"\n",
              "              style=\"display:none;\">\n",
              "        \n",
              "  <svg xmlns=\"http://www.w3.org/2000/svg\" height=\"24px\"viewBox=\"0 0 24 24\"\n",
              "       width=\"24px\">\n",
              "    <path d=\"M0 0h24v24H0V0z\" fill=\"none\"/>\n",
              "    <path d=\"M18.56 5.44l.94 2.06.94-2.06 2.06-.94-2.06-.94-.94-2.06-.94 2.06-2.06.94zm-11 1L8.5 8.5l.94-2.06 2.06-.94-2.06-.94L8.5 2.5l-.94 2.06-2.06.94zm10 10l.94 2.06.94-2.06 2.06-.94-2.06-.94-.94-2.06-.94 2.06-2.06.94z\"/><path d=\"M17.41 7.96l-1.37-1.37c-.4-.4-.92-.59-1.43-.59-.52 0-1.04.2-1.43.59L10.3 9.45l-7.72 7.72c-.78.78-.78 2.05 0 2.83L4 21.41c.39.39.9.59 1.41.59.51 0 1.02-.2 1.41-.59l7.78-7.78 2.81-2.81c.8-.78.8-2.07 0-2.86zM5.41 20L4 18.59l7.72-7.72 1.47 1.35L5.41 20z\"/>\n",
              "  </svg>\n",
              "      </button>\n",
              "      \n",
              "  <style>\n",
              "    .colab-df-container {\n",
              "      display:flex;\n",
              "      flex-wrap:wrap;\n",
              "      gap: 12px;\n",
              "    }\n",
              "\n",
              "    .colab-df-convert {\n",
              "      background-color: #E8F0FE;\n",
              "      border: none;\n",
              "      border-radius: 50%;\n",
              "      cursor: pointer;\n",
              "      display: none;\n",
              "      fill: #1967D2;\n",
              "      height: 32px;\n",
              "      padding: 0 0 0 0;\n",
              "      width: 32px;\n",
              "    }\n",
              "\n",
              "    .colab-df-convert:hover {\n",
              "      background-color: #E2EBFA;\n",
              "      box-shadow: 0px 1px 2px rgba(60, 64, 67, 0.3), 0px 1px 3px 1px rgba(60, 64, 67, 0.15);\n",
              "      fill: #174EA6;\n",
              "    }\n",
              "\n",
              "    [theme=dark] .colab-df-convert {\n",
              "      background-color: #3B4455;\n",
              "      fill: #D2E3FC;\n",
              "    }\n",
              "\n",
              "    [theme=dark] .colab-df-convert:hover {\n",
              "      background-color: #434B5C;\n",
              "      box-shadow: 0px 1px 3px 1px rgba(0, 0, 0, 0.15);\n",
              "      filter: drop-shadow(0px 1px 2px rgba(0, 0, 0, 0.3));\n",
              "      fill: #FFFFFF;\n",
              "    }\n",
              "  </style>\n",
              "\n",
              "      <script>\n",
              "        const buttonEl =\n",
              "          document.querySelector('#df-7e2ccaec-fbbe-4d7a-9a66-2d5be5d66c25 button.colab-df-convert');\n",
              "        buttonEl.style.display =\n",
              "          google.colab.kernel.accessAllowed ? 'block' : 'none';\n",
              "\n",
              "        async function convertToInteractive(key) {\n",
              "          const element = document.querySelector('#df-7e2ccaec-fbbe-4d7a-9a66-2d5be5d66c25');\n",
              "          const dataTable =\n",
              "            await google.colab.kernel.invokeFunction('convertToInteractive',\n",
              "                                                     [key], {});\n",
              "          if (!dataTable) return;\n",
              "\n",
              "          const docLinkHtml = 'Like what you see? Visit the ' +\n",
              "            '<a target=\"_blank\" href=https://colab.research.google.com/notebooks/data_table.ipynb>data table notebook</a>'\n",
              "            + ' to learn more about interactive tables.';\n",
              "          element.innerHTML = '';\n",
              "          dataTable['output_type'] = 'display_data';\n",
              "          await google.colab.output.renderOutput(dataTable, element);\n",
              "          const docLink = document.createElement('div');\n",
              "          docLink.innerHTML = docLinkHtml;\n",
              "          element.appendChild(docLink);\n",
              "        }\n",
              "      </script>\n",
              "    </div>\n",
              "  </div>\n",
              "  "
            ]
          },
          "metadata": {},
          "execution_count": 32
        }
      ]
    },
    {
      "cell_type": "code",
      "source": [
        "from sklearn.linear_model import LogisticRegression\n",
        "from sklearn.model_selection import train_test_split\n",
        "\n",
        "Xtrain, Xtest, ytrain, ytest = train_test_split(df1.drop(\"target\", axis = 1), df1[\"target\"], test_size = 0.3, random_state = 42)\n",
        "\n",
        "pipeline = make_pipeline(StandardScaler(),\n",
        "    GridSearchCV(LogisticRegression(), param_grid={\"C\": [0.01, 0.1, 1, 10, 100]}, scoring='f1', cv=5))\n",
        "\n",
        "pipeline.fit(Xtrain, ytrain)\n",
        "\n",
        "print(\"train:\", classification_report(ytrain, pipeline.predict(Xtrain)), \"\\ntest:\", classification_report(ytest, pipeline.predict(Xtest)))"
      ],
      "metadata": {
        "colab": {
          "base_uri": "https://localhost:8080/",
          "height": 290
        },
        "id": "Yv-TrkdKoe0Y",
        "outputId": "89d6d7d9-9a4d-49a5-acb7-9794020d28d1"
      },
      "execution_count": null,
      "outputs": [
        {
          "output_type": "error",
          "ename": "NameError",
          "evalue": "ignored",
          "traceback": [
            "\u001b[0;31m---------------------------------------------------------------------------\u001b[0m",
            "\u001b[0;31mNameError\u001b[0m                                 Traceback (most recent call last)",
            "\u001b[0;32m<ipython-input-33-dfb2b6c1a1ba>\u001b[0m in \u001b[0;36m<cell line: 6>\u001b[0;34m()\u001b[0m\n\u001b[1;32m      4\u001b[0m \u001b[0mXtrain\u001b[0m\u001b[0;34m,\u001b[0m \u001b[0mXtest\u001b[0m\u001b[0;34m,\u001b[0m \u001b[0mytrain\u001b[0m\u001b[0;34m,\u001b[0m \u001b[0mytest\u001b[0m \u001b[0;34m=\u001b[0m \u001b[0mtrain_test_split\u001b[0m\u001b[0;34m(\u001b[0m\u001b[0mdf1\u001b[0m\u001b[0;34m.\u001b[0m\u001b[0mdrop\u001b[0m\u001b[0;34m(\u001b[0m\u001b[0;34m\"target\"\u001b[0m\u001b[0;34m,\u001b[0m \u001b[0maxis\u001b[0m \u001b[0;34m=\u001b[0m \u001b[0;36m1\u001b[0m\u001b[0;34m)\u001b[0m\u001b[0;34m,\u001b[0m \u001b[0mdf1\u001b[0m\u001b[0;34m[\u001b[0m\u001b[0;34m\"target\"\u001b[0m\u001b[0;34m]\u001b[0m\u001b[0;34m,\u001b[0m \u001b[0mtest_size\u001b[0m \u001b[0;34m=\u001b[0m \u001b[0;36m0.3\u001b[0m\u001b[0;34m,\u001b[0m \u001b[0mrandom_state\u001b[0m \u001b[0;34m=\u001b[0m \u001b[0;36m42\u001b[0m\u001b[0;34m)\u001b[0m\u001b[0;34m\u001b[0m\u001b[0;34m\u001b[0m\u001b[0m\n\u001b[1;32m      5\u001b[0m \u001b[0;34m\u001b[0m\u001b[0m\n\u001b[0;32m----> 6\u001b[0;31m pipeline = make_pipeline(StandardScaler(),\n\u001b[0m\u001b[1;32m      7\u001b[0m     GridSearchCV(LogisticRegression(), param_grid={\"C\": [0.01, 0.1, 1, 10, 100]}, scoring='f1', cv=5))\n\u001b[1;32m      8\u001b[0m \u001b[0;34m\u001b[0m\u001b[0m\n",
            "\u001b[0;31mNameError\u001b[0m: name 'make_pipeline' is not defined"
          ]
        }
      ]
    },
    {
      "cell_type": "code",
      "source": [
        "pred_proba = pd.Series(pd.DataFrame(lr.predict_proba(Xtest))[1])\n",
        "print(pred_proba)"
      ],
      "metadata": {
        "id": "5cZV0i_Uo6_N",
        "colab": {
          "base_uri": "https://localhost:8080/"
        },
        "outputId": "f2827971-cb2c-44d5-a1c1-29d7dea737ef"
      },
      "execution_count": null,
      "outputs": [
        {
          "output_type": "stream",
          "name": "stdout",
          "text": [
            "0      0.907475\n",
            "1      0.936905\n",
            "2      0.173687\n",
            "3      0.094112\n",
            "4      0.783613\n",
            "         ...   \n",
            "202    0.625023\n",
            "203    0.155109\n",
            "204    0.770807\n",
            "205    0.223953\n",
            "206    0.999999\n",
            "Name: 1, Length: 207, dtype: float64\n"
          ]
        }
      ]
    },
    {
      "cell_type": "markdown",
      "source": [
        " а) точность"
      ],
      "metadata": {
        "id": "UhYcTUfq4fld"
      }
    },
    {
      "cell_type": "code",
      "source": [
        "maxi = 0\n",
        "maxr = 0\n",
        "for i in range(101):\n",
        "\n",
        "  classes = pred_proba.map(lambda x: 1 if x>i/100 else 0)\n",
        "  a = acc(ytest, classes)\n",
        "  r = pr(ytest, classes)\n",
        "  if a >= 0.65 and r > maxr:\n",
        "    maxr = r\n",
        "    maxi = i\n",
        "print(\"максимальное значение точности:\", maxr, \"при пороге:\", maxi/100)"
      ],
      "metadata": {
        "id": "FzGjdw-9UsOM",
        "colab": {
          "base_uri": "https://localhost:8080/"
        },
        "outputId": "34fae58e-3141-45c7-866c-6540f7ba3bd4"
      },
      "execution_count": null,
      "outputs": [
        {
          "output_type": "stream",
          "name": "stdout",
          "text": [
            "максимальное значение точности: 0.967741935483871 при пороге: 0.93\n"
          ]
        },
        {
          "output_type": "stream",
          "name": "stderr",
          "text": [
            "/usr/local/lib/python3.9/dist-packages/sklearn/metrics/_classification.py:1344: UndefinedMetricWarning: Precision is ill-defined and being set to 0.0 due to no predicted samples. Use `zero_division` parameter to control this behavior.\n",
            "  _warn_prf(average, modifier, msg_start, len(result))\n"
          ]
        }
      ]
    },
    {
      "cell_type": "code",
      "source": [
        "classes = pred_proba.map(lambda x: 1 if x>maxi/100 else 0)\n",
        "matrix = confusion_matrix(ytest, classes)\n",
        "\n",
        "plot_confusion_matrix(matrix.T[::-1].T[::-1], classes.unique()[::-1])\n",
        "print(pr(ytest, classes))"
      ],
      "metadata": {
        "colab": {
          "base_uri": "https://localhost:8080/",
          "height": 328
        },
        "id": "AogoqT4X6jAK",
        "outputId": "4ec8896a-b44f-4ce2-a1d2-654dba64e22c"
      },
      "execution_count": null,
      "outputs": [
        {
          "output_type": "stream",
          "name": "stdout",
          "text": [
            "0.967741935483871\n"
          ]
        },
        {
          "output_type": "display_data",
          "data": {
            "text/plain": [
              "<Figure size 432x288 with 2 Axes>"
            ],
            "image/png": "[encoded data removed]"
          },
          "metadata": {
            "needs_background": "light"
          }
        }
      ]
    },
    {
      "cell_type": "code",
      "source": [
        "print(ytest.value_counts())\n",
        "print(classes.value_counts())"
      ],
      "metadata": {
        "colab": {
          "base_uri": "https://localhost:8080/"
        },
        "id": "cW0fWfB49gnp",
        "outputId": "c1b89d8f-f2aa-4c27-f0af-263249521fa9"
      },
      "execution_count": null,
      "outputs": [
        {
          "output_type": "stream",
          "name": "stdout",
          "text": [
            "0    124\n",
            "1     83\n",
            "Name: target, dtype: int64\n",
            "0    176\n",
            "1     31\n",
            "Name: 1, dtype: int64\n"
          ]
        }
      ]
    },
    {
      "cell_type": "markdown",
      "source": [
        "б) полноту"
      ],
      "metadata": {
        "id": "Ezrmst9a50iX"
      }
    },
    {
      "cell_type": "code",
      "source": [
        "maxi = 0\n",
        "maxr = 0\n",
        "for i in range(101):\n",
        "  classes = pred_proba.map(lambda x: 1 if x>i/100 else 0)\n",
        "  a = acc(ytest, classes)\n",
        "  r = rc(ytest, classes)\n",
        "  if a >= 0.65 and r > maxr:\n",
        "    maxr = r\n",
        "    maxi = i\n",
        "print(\"максимальное значение f1:\", maxr, \"при пороге:\", maxi/100)"
      ],
      "metadata": {
        "colab": {
          "base_uri": "https://localhost:8080/"
        },
        "id": "xhVNFhZV41h-",
        "outputId": "001cfd6d-6b5b-4b07-8f86-789ca5014dec"
      },
      "execution_count": null,
      "outputs": [
        {
          "output_type": "stream",
          "name": "stdout",
          "text": [
            "максимальное значение f1: 0.963855421686747 при пороге: 0.16\n"
          ]
        }
      ]
    },
    {
      "cell_type": "code",
      "source": [
        "classes = pred_proba.map(lambda x: 1 if x>maxi/100 else 0)\n",
        "matrix = confusion_matrix(ytest, classes)\n",
        "\n",
        "plot_confusion_matrix(matrix, classes.unique())\n",
        "print(rc(ytest, classes))"
      ],
      "metadata": {
        "colab": {
          "base_uri": "https://localhost:8080/",
          "height": 328
        },
        "id": "45sWHQw_7QiW",
        "outputId": "acede880-e818-4d6a-c722-6dd25a77fe5c"
      },
      "execution_count": null,
      "outputs": [
        {
          "output_type": "stream",
          "name": "stdout",
          "text": [
            "0.963855421686747\n"
          ]
        },
        {
          "output_type": "display_data",
          "data": {
            "text/plain": [
              "<Figure size 432x288 with 2 Axes>"
            ],
            "image/png": "[encoded data removed]"
          },
          "metadata": {
            "needs_background": "light"
          }
        }
      ]
    },
    {
      "cell_type": "markdown",
      "source": [
        "в) f1-score"
      ],
      "metadata": {
        "id": "t9to13Sw54B4"
      }
    },
    {
      "cell_type": "code",
      "source": [
        "maxi = 0\n",
        "maxr = 0\n",
        "for i in range(101):\n",
        "  classes = pred_proba.map(lambda x: 1 if x>i/100 else 0)\n",
        "  a = acc(ytest, classes)\n",
        "  r = f1(ytest, classes)\n",
        "  if a >= 0.65 and r > maxr:\n",
        "    maxr = r\n",
        "    maxi = i\n",
        "print(\"максимальное значение f1:\", maxr, \"при пороге:\", maxi/100)"
      ],
      "metadata": {
        "colab": {
          "base_uri": "https://localhost:8080/"
        },
        "id": "lxgHJtKo5zel",
        "outputId": "e5ad0286-6739-4f25-c8f5-1c887c3fef87"
      },
      "execution_count": null,
      "outputs": [
        {
          "output_type": "stream",
          "name": "stdout",
          "text": [
            "максимальное значение f1: 0.8235294117647061 при пороге: 0.52\n"
          ]
        }
      ]
    },
    {
      "cell_type": "code",
      "source": [
        "classes = pred_proba.map(lambda x: 1 if x>maxi/100 else 0)\n",
        "matrix = confusion_matrix(ytest, classes)\n",
        "\n",
        "plot_confusion_matrix(matrix, classes.unique())\n",
        "print(f1(ytest, classes))"
      ],
      "metadata": {
        "colab": {
          "base_uri": "https://localhost:8080/",
          "height": 328
        },
        "id": "i9R7ryQf57lt",
        "outputId": "80fb8191-8c68-4c6a-d86d-24c2f49e6c2c"
      },
      "execution_count": null,
      "outputs": [
        {
          "output_type": "stream",
          "name": "stdout",
          "text": [
            "0.8235294117647061\n"
          ]
        },
        {
          "output_type": "display_data",
          "data": {
            "text/plain": [
              "<Figure size 432x288 with 2 Axes>"
            ],
            "image/png": "[encoded data removed]"
          },
          "metadata": {
            "needs_background": "light"
          }
        }
      ]
    },
    {
      "cell_type": "markdown",
      "source": [
        "Невооруженным глазом, и по матрицам, и по цифрам видно, что логистическая регрессия намного лучше справилась с задачей."
      ],
      "metadata": {
        "id": "bRMwCFjE_bct"
      }
    },
    {
      "cell_type": "code",
      "source": [],
      "metadata": {
        "id": "-ROdglAICBX5"
      },
      "execution_count": null,
      "outputs": []
    }
  ]
}