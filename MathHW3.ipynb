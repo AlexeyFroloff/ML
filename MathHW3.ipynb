{
  "cells": [
    {
      "cell_type": "code",
      "execution_count": null,
      "metadata": {
        "id": "7K27ku9WNiS9"
      },
      "outputs": [],
      "source": [
        "import pandas as pd\n",
        "from sklearn.linear_model import LogisticRegression\n",
        "import numpy as np\n",
        "from sklearn.metrics import accuracy_score as a, f1_score as f, roc_auc_score as ra\n",
        "from sklearn.metrics import classification_report\n",
        "from sklearn.model_selection import train_test_split, GridSearchCV\n",
        "from sklearn.preprocessing import OneHotEncoder\n",
        "from sklearn.svm import SVC\n",
        "from sklearn.model_selection import cross_val_score\n",
        "from sklearn.preprocessing import PolynomialFeatures\n",
        "from sklearn.pipeline import make_pipeline\n"
      ]
    },
    {
      "cell_type": "code",
      "execution_count": null,
      "metadata": {
        "id": "P082lX5EKqAj"
      },
      "outputs": [],
      "source": [
        "\n",
        "\n",
        "tc = pd.read_csv('https://raw.githubusercontent.com/Murcha1990/ML_math_2022/main/%D0%94%D0%BE%D0%BC%D0%B0%D1%88%D0%BA%D0%B8/HW_3/telecom_churn.csv')\n",
        "\n",
        "sl = {\"Churn\": {False: 0, True: 1}, \"International plan\": {\"No\": 0, \"Yes\": 1}, \"Voice mail plan\": {\"No\": 0, \"Yes\": 1}}\n",
        "\n",
        "tc = tc.replace(sl)"
      ]
    },
    {
      "cell_type": "code",
      "execution_count": null,
      "metadata": {
        "id": "YD4R3Ci4LbQN",
        "colab": {
          "base_uri": "https://localhost:8080/"
        },
        "outputId": "06a2fc6c-0271-4ee6-f277-8248ddcc144e"
      },
      "outputs": [
        {
          "output_type": "stream",
          "name": "stdout",
          "text": [
            "1 (3333, 19)\n",
            "2 (3333, 69)\n"
          ]
        }
      ],
      "source": [
        "X = tc.drop(\"Churn\", axis = 1)\n",
        "\n",
        "y = tc.replace(sl)[\"Churn\"]\n",
        "print(1, X.shape)\n",
        "\n",
        "X1 = pd.get_dummies(X[\"State\"].values)\n",
        "X = X1.join(X).drop(\"State\", axis = 1)\n",
        "\n",
        "from sklearn.preprocessing import StandardScaler\n",
        "\n",
        "scaler = StandardScaler()\n",
        "scaler.fit(X)\n",
        "\n",
        "X = pd.DataFrame(scaler.transform(X), columns=X.columns)\n",
        "\n",
        "Xtrain, Xtest, ytrain, ytest = train_test_split(X, y, train_size = 0.7, random_state = 42)\n",
        "print(2, X.shape)"
      ]
    },
    {
      "cell_type": "code",
      "execution_count": null,
      "metadata": {
        "colab": {
          "base_uri": "https://localhost:8080/"
        },
        "id": "Prb-9Uue73VM",
        "outputId": "ab8c5077-b62a-415a-d64e-de1d037ac99e"
      },
      "outputs": [
        {
          "output_type": "execute_result",
          "data": {
            "text/plain": [
              "Churn\n",
              "0        2850\n",
              "1         483\n",
              "dtype: int64"
            ]
          },
          "metadata": {},
          "execution_count": 40
        }
      ],
      "source": [
        "pd.DataFrame(tc[\"Churn\"]).value_counts()"
      ]
    },
    {
      "cell_type": "markdown",
      "source": [
        "Так как у нас 1 сильно меньше, чем 0, давайте сразу договоримся, что будем считать относительно метрики f1-score."
      ],
      "metadata": {
        "id": "v2RoJkcYGZI8"
      }
    },
    {
      "cell_type": "code",
      "source": [
        "X.shape"
      ],
      "metadata": {
        "colab": {
          "base_uri": "https://localhost:8080/"
        },
        "id": "39A1DMW30Ysl",
        "outputId": "1d05eaf6-af62-4708-bc44-153ccc2f3879"
      },
      "execution_count": null,
      "outputs": [
        {
          "output_type": "execute_result",
          "data": {
            "text/plain": [
              "(3333, 69)"
            ]
          },
          "metadata": {},
          "execution_count": 41
        }
      ]
    },
    {
      "cell_type": "markdown",
      "metadata": {
        "id": "L-SkC4QNrxfN"
      },
      "source": [
        "# **Задание A** #"
      ]
    },
    {
      "cell_type": "code",
      "execution_count": null,
      "metadata": {
        "colab": {
          "base_uri": "https://localhost:8080/",
          "height": 146
        },
        "id": "OH8-fdexMkgB",
        "outputId": "24a841cc-0e78-4011-8f5a-e9487af054b6"
      },
      "outputs": [
        {
          "output_type": "execute_result",
          "data": {
            "text/plain": [
              "GridSearchCV(cv=5, estimator=LogisticRegression(),\n",
              "             param_grid={'C': [0.01, 0.1, 1, 10, 100]}, scoring='f1')"
            ],
            "text/html": [
              "<style>#sk-container-id-5 {color: black;background-color: white;}#sk-container-id-5 pre{padding: 0;}#sk-container-id-5 div.sk-toggleable {background-color: white;}#sk-container-id-5 label.sk-toggleable__label {cursor: pointer;display: block;width: 100%;margin-bottom: 0;padding: 0.3em;box-sizing: border-box;text-align: center;}#sk-container-id-5 label.sk-toggleable__label-arrow:before {content: \"▸\";float: left;margin-right: 0.25em;color: #696969;}#sk-container-id-5 label.sk-toggleable__label-arrow:hover:before {color: black;}#sk-container-id-5 div.sk-estimator:hover label.sk-toggleable__label-arrow:before {color: black;}#sk-container-id-5 div.sk-toggleable__content {max-height: 0;max-width: 0;overflow: hidden;text-align: left;background-color: #f0f8ff;}#sk-container-id-5 div.sk-toggleable__content pre {margin: 0.2em;color: black;border-radius: 0.25em;background-color: #f0f8ff;}#sk-container-id-5 input.sk-toggleable__control:checked~div.sk-toggleable__content {max-height: 200px;max-width: 100%;overflow: auto;}#sk-container-id-5 input.sk-toggleable__control:checked~label.sk-toggleable__label-arrow:before {content: \"▾\";}#sk-container-id-5 div.sk-estimator input.sk-toggleable__control:checked~label.sk-toggleable__label {background-color: #d4ebff;}#sk-container-id-5 div.sk-label input.sk-toggleable__control:checked~label.sk-toggleable__label {background-color: #d4ebff;}#sk-container-id-5 input.sk-hidden--visually {border: 0;clip: rect(1px 1px 1px 1px);clip: rect(1px, 1px, 1px, 1px);height: 1px;margin: -1px;overflow: hidden;padding: 0;position: absolute;width: 1px;}#sk-container-id-5 div.sk-estimator {font-family: monospace;background-color: #f0f8ff;border: 1px dotted black;border-radius: 0.25em;box-sizing: border-box;margin-bottom: 0.5em;}#sk-container-id-5 div.sk-estimator:hover {background-color: #d4ebff;}#sk-container-id-5 div.sk-parallel-item::after {content: \"\";width: 100%;border-bottom: 1px solid gray;flex-grow: 1;}#sk-container-id-5 div.sk-label:hover label.sk-toggleable__label {background-color: #d4ebff;}#sk-container-id-5 div.sk-serial::before {content: \"\";position: absolute;border-left: 1px solid gray;box-sizing: border-box;top: 0;bottom: 0;left: 50%;z-index: 0;}#sk-container-id-5 div.sk-serial {display: flex;flex-direction: column;align-items: center;background-color: white;padding-right: 0.2em;padding-left: 0.2em;position: relative;}#sk-container-id-5 div.sk-item {position: relative;z-index: 1;}#sk-container-id-5 div.sk-parallel {display: flex;align-items: stretch;justify-content: center;background-color: white;position: relative;}#sk-container-id-5 div.sk-item::before, #sk-container-id-5 div.sk-parallel-item::before {content: \"\";position: absolute;border-left: 1px solid gray;box-sizing: border-box;top: 0;bottom: 0;left: 50%;z-index: -1;}#sk-container-id-5 div.sk-parallel-item {display: flex;flex-direction: column;z-index: 1;position: relative;background-color: white;}#sk-container-id-5 div.sk-parallel-item:first-child::after {align-self: flex-end;width: 50%;}#sk-container-id-5 div.sk-parallel-item:last-child::after {align-self: flex-start;width: 50%;}#sk-container-id-5 div.sk-parallel-item:only-child::after {width: 0;}#sk-container-id-5 div.sk-dashed-wrapped {border: 1px dashed gray;margin: 0 0.4em 0.5em 0.4em;box-sizing: border-box;padding-bottom: 0.4em;background-color: white;}#sk-container-id-5 div.sk-label label {font-family: monospace;font-weight: bold;display: inline-block;line-height: 1.2em;}#sk-container-id-5 div.sk-label-container {text-align: center;}#sk-container-id-5 div.sk-container {/* jupyter's `normalize.less` sets `[hidden] { display: none; }` but bootstrap.min.css set `[hidden] { display: none !important; }` so we also need the `!important` here to be able to override the default hidden behavior on the sphinx rendered scikit-learn.org. See: https://github.com/scikit-learn/scikit-learn/issues/21755 */display: inline-block !important;position: relative;}#sk-container-id-5 div.sk-text-repr-fallback {display: none;}</style><div id=\"sk-container-id-5\" class=\"sk-top-container\"><div class=\"sk-text-repr-fallback\"><pre>GridSearchCV(cv=5, estimator=LogisticRegression(),\n",
              "             param_grid={&#x27;C&#x27;: [0.01, 0.1, 1, 10, 100]}, scoring=&#x27;f1&#x27;)</pre><b>In a Jupyter environment, please rerun this cell to show the HTML representation or trust the notebook. <br />On GitHub, the HTML representation is unable to render, please try loading this page with nbviewer.org.</b></div><div class=\"sk-container\" hidden><div class=\"sk-item sk-dashed-wrapped\"><div class=\"sk-label-container\"><div class=\"sk-label sk-toggleable\"><input class=\"sk-toggleable__control sk-hidden--visually\" id=\"sk-estimator-id-18\" type=\"checkbox\" ><label for=\"sk-estimator-id-18\" class=\"sk-toggleable__label sk-toggleable__label-arrow\">GridSearchCV</label><div class=\"sk-toggleable__content\"><pre>GridSearchCV(cv=5, estimator=LogisticRegression(),\n",
              "             param_grid={&#x27;C&#x27;: [0.01, 0.1, 1, 10, 100]}, scoring=&#x27;f1&#x27;)</pre></div></div></div><div class=\"sk-parallel\"><div class=\"sk-parallel-item\"><div class=\"sk-item\"><div class=\"sk-label-container\"><div class=\"sk-label sk-toggleable\"><input class=\"sk-toggleable__control sk-hidden--visually\" id=\"sk-estimator-id-19\" type=\"checkbox\" ><label for=\"sk-estimator-id-19\" class=\"sk-toggleable__label sk-toggleable__label-arrow\">estimator: LogisticRegression</label><div class=\"sk-toggleable__content\"><pre>LogisticRegression()</pre></div></div></div><div class=\"sk-serial\"><div class=\"sk-item\"><div class=\"sk-estimator sk-toggleable\"><input class=\"sk-toggleable__control sk-hidden--visually\" id=\"sk-estimator-id-20\" type=\"checkbox\" ><label for=\"sk-estimator-id-20\" class=\"sk-toggleable__label sk-toggleable__label-arrow\">LogisticRegression</label><div class=\"sk-toggleable__content\"><pre>LogisticRegression()</pre></div></div></div></div></div></div></div></div></div></div>"
            ]
          },
          "metadata": {},
          "execution_count": 42
        }
      ],
      "source": [
        "lr = LogisticRegression()\n",
        "params={\"C\":[0.01, 0.1, 1, 10, 100]}\n",
        "\n",
        "grid1 = GridSearchCV(lr, params, cv = 5, scoring = 'f1')\n",
        "\n",
        "grid1.fit(Xtrain, ytrain)"
      ]
    },
    {
      "cell_type": "code",
      "execution_count": null,
      "metadata": {
        "colab": {
          "base_uri": "https://localhost:8080/"
        },
        "id": "c7AmzbMRkdcl",
        "outputId": "3d7c2b9b-cbfd-48f0-9a3b-d598320fe821"
      },
      "outputs": [
        {
          "output_type": "execute_result",
          "data": {
            "text/plain": [
              "({'C': 1}, LogisticRegression(C=1))"
            ]
          },
          "metadata": {},
          "execution_count": 43
        }
      ],
      "source": [
        "grid1.best_params_, grid1.best_estimator_"
      ]
    },
    {
      "cell_type": "code",
      "source": [
        "print(\"train:\", classification_report(ytrain, grid1.predict(Xtrain)), \"\\ntest:\", classification_report(ytest, grid1.predict(Xtest)))"
      ],
      "metadata": {
        "colab": {
          "base_uri": "https://localhost:8080/"
        },
        "id": "qEbly92is1DJ",
        "outputId": "e161d487-abf4-4c93-fb2f-62086e28c50b"
      },
      "execution_count": null,
      "outputs": [
        {
          "output_type": "stream",
          "name": "stdout",
          "text": [
            "train:               precision    recall  f1-score   support\n",
            "\n",
            "           0       0.89      0.97      0.93      1993\n",
            "           1       0.65      0.28      0.39       340\n",
            "\n",
            "    accuracy                           0.87      2333\n",
            "   macro avg       0.77      0.63      0.66      2333\n",
            "weighted avg       0.85      0.87      0.85      2333\n",
            " \n",
            "test:               precision    recall  f1-score   support\n",
            "\n",
            "           0       0.88      0.97      0.92       857\n",
            "           1       0.55      0.23      0.33       143\n",
            "\n",
            "    accuracy                           0.86      1000\n",
            "   macro avg       0.72      0.60      0.62      1000\n",
            "weighted avg       0.84      0.86      0.84      1000\n",
            "\n"
          ]
        }
      ]
    },
    {
      "cell_type": "code",
      "source": [
        "print(\"F1-score:\", \"\\ntrain:\", f(ytrain, grid1.predict(Xtrain)), \"\\ntest:\", f(ytest, grid1.predict(Xtest)))\n",
        "print(\"\\n\\nROC-AUC:\", \"\\ntrain:\", ra(ytrain, grid1.predict(Xtrain)), \"\\ntest:\", ra(ytest, grid1.predict(Xtest)))"
      ],
      "metadata": {
        "colab": {
          "base_uri": "https://localhost:8080/"
        },
        "id": "TYrUfGA9K2Cm",
        "outputId": "aa0a2150-c701-4ca0-c03b-b976ebbb1bfb"
      },
      "execution_count": null,
      "outputs": [
        {
          "output_type": "stream",
          "name": "stdout",
          "text": [
            "F1-score: \n",
            "train: 0.39014373716632444 \n",
            "test: 0.3251231527093596\n",
            "\n",
            "\n",
            "ROC-AUC: \n",
            "train: 0.6266602225436085 \n",
            "test: 0.5996319899470425\n"
          ]
        }
      ]
    },
    {
      "cell_type": "markdown",
      "metadata": {
        "id": "iNqcFJin5RVe"
      },
      "source": [
        "Как мы видим, модель переобучилась разве что минимально."
      ]
    },
    {
      "cell_type": "markdown",
      "metadata": {
        "id": "zOASHBJ9rpLW"
      },
      "source": [
        "# **Задание B** #"
      ]
    },
    {
      "cell_type": "code",
      "execution_count": null,
      "metadata": {
        "id": "L3xJKQ3CjY5r"
      },
      "outputs": [],
      "source": [
        "clf = SVC(kernel = 'linear', class_weight = \"balanced\")"
      ]
    },
    {
      "cell_type": "code",
      "source": [
        "pipeline = make_pipeline(StandardScaler(),\n",
        "    GridSearchCV(SVC(kernel = 'linear', class_weight = \"balanced\"),\n",
        "                 param_grid={\"C\": [0.01, 0.1, 1, 10, 100, 0.001], 'gamma': [0.1, 0.01, 1, 10, 100, 0.001]}, scoring='f1', cv=5))\n",
        "\n",
        "pipeline.fit(Xtrain, ytrain)"
      ],
      "metadata": {
        "id": "5jRbrg-zCdXL",
        "colab": {
          "base_uri": "https://localhost:8080/",
          "height": 242
        },
        "outputId": "8c9346cc-b175-4ab7-d494-176e06df5638"
      },
      "execution_count": null,
      "outputs": [
        {
          "output_type": "execute_result",
          "data": {
            "text/plain": [
              "Pipeline(steps=[('standardscaler', StandardScaler()),\n",
              "                ('gridsearchcv',\n",
              "                 GridSearchCV(cv=5,\n",
              "                              estimator=SVC(class_weight='balanced',\n",
              "                                            kernel='linear'),\n",
              "                              param_grid={'C': [0.01, 0.1, 1, 10, 100, 0.001],\n",
              "                                          'gamma': [0.1, 0.01, 1, 10, 100,\n",
              "                                                    0.001]},\n",
              "                              scoring='f1'))])"
            ],
            "text/html": [
              "<style>#sk-container-id-6 {color: black;background-color: white;}#sk-container-id-6 pre{padding: 0;}#sk-container-id-6 div.sk-toggleable {background-color: white;}#sk-container-id-6 label.sk-toggleable__label {cursor: pointer;display: block;width: 100%;margin-bottom: 0;padding: 0.3em;box-sizing: border-box;text-align: center;}#sk-container-id-6 label.sk-toggleable__label-arrow:before {content: \"▸\";float: left;margin-right: 0.25em;color: #696969;}#sk-container-id-6 label.sk-toggleable__label-arrow:hover:before {color: black;}#sk-container-id-6 div.sk-estimator:hover label.sk-toggleable__label-arrow:before {color: black;}#sk-container-id-6 div.sk-toggleable__content {max-height: 0;max-width: 0;overflow: hidden;text-align: left;background-color: #f0f8ff;}#sk-container-id-6 div.sk-toggleable__content pre {margin: 0.2em;color: black;border-radius: 0.25em;background-color: #f0f8ff;}#sk-container-id-6 input.sk-toggleable__control:checked~div.sk-toggleable__content {max-height: 200px;max-width: 100%;overflow: auto;}#sk-container-id-6 input.sk-toggleable__control:checked~label.sk-toggleable__label-arrow:before {content: \"▾\";}#sk-container-id-6 div.sk-estimator input.sk-toggleable__control:checked~label.sk-toggleable__label {background-color: #d4ebff;}#sk-container-id-6 div.sk-label input.sk-toggleable__control:checked~label.sk-toggleable__label {background-color: #d4ebff;}#sk-container-id-6 input.sk-hidden--visually {border: 0;clip: rect(1px 1px 1px 1px);clip: rect(1px, 1px, 1px, 1px);height: 1px;margin: -1px;overflow: hidden;padding: 0;position: absolute;width: 1px;}#sk-container-id-6 div.sk-estimator {font-family: monospace;background-color: #f0f8ff;border: 1px dotted black;border-radius: 0.25em;box-sizing: border-box;margin-bottom: 0.5em;}#sk-container-id-6 div.sk-estimator:hover {background-color: #d4ebff;}#sk-container-id-6 div.sk-parallel-item::after {content: \"\";width: 100%;border-bottom: 1px solid gray;flex-grow: 1;}#sk-container-id-6 div.sk-label:hover label.sk-toggleable__label {background-color: #d4ebff;}#sk-container-id-6 div.sk-serial::before {content: \"\";position: absolute;border-left: 1px solid gray;box-sizing: border-box;top: 0;bottom: 0;left: 50%;z-index: 0;}#sk-container-id-6 div.sk-serial {display: flex;flex-direction: column;align-items: center;background-color: white;padding-right: 0.2em;padding-left: 0.2em;position: relative;}#sk-container-id-6 div.sk-item {position: relative;z-index: 1;}#sk-container-id-6 div.sk-parallel {display: flex;align-items: stretch;justify-content: center;background-color: white;position: relative;}#sk-container-id-6 div.sk-item::before, #sk-container-id-6 div.sk-parallel-item::before {content: \"\";position: absolute;border-left: 1px solid gray;box-sizing: border-box;top: 0;bottom: 0;left: 50%;z-index: -1;}#sk-container-id-6 div.sk-parallel-item {display: flex;flex-direction: column;z-index: 1;position: relative;background-color: white;}#sk-container-id-6 div.sk-parallel-item:first-child::after {align-self: flex-end;width: 50%;}#sk-container-id-6 div.sk-parallel-item:last-child::after {align-self: flex-start;width: 50%;}#sk-container-id-6 div.sk-parallel-item:only-child::after {width: 0;}#sk-container-id-6 div.sk-dashed-wrapped {border: 1px dashed gray;margin: 0 0.4em 0.5em 0.4em;box-sizing: border-box;padding-bottom: 0.4em;background-color: white;}#sk-container-id-6 div.sk-label label {font-family: monospace;font-weight: bold;display: inline-block;line-height: 1.2em;}#sk-container-id-6 div.sk-label-container {text-align: center;}#sk-container-id-6 div.sk-container {/* jupyter's `normalize.less` sets `[hidden] { display: none; }` but bootstrap.min.css set `[hidden] { display: none !important; }` so we also need the `!important` here to be able to override the default hidden behavior on the sphinx rendered scikit-learn.org. See: https://github.com/scikit-learn/scikit-learn/issues/21755 */display: inline-block !important;position: relative;}#sk-container-id-6 div.sk-text-repr-fallback {display: none;}</style><div id=\"sk-container-id-6\" class=\"sk-top-container\"><div class=\"sk-text-repr-fallback\"><pre>Pipeline(steps=[(&#x27;standardscaler&#x27;, StandardScaler()),\n",
              "                (&#x27;gridsearchcv&#x27;,\n",
              "                 GridSearchCV(cv=5,\n",
              "                              estimator=SVC(class_weight=&#x27;balanced&#x27;,\n",
              "                                            kernel=&#x27;linear&#x27;),\n",
              "                              param_grid={&#x27;C&#x27;: [0.01, 0.1, 1, 10, 100, 0.001],\n",
              "                                          &#x27;gamma&#x27;: [0.1, 0.01, 1, 10, 100,\n",
              "                                                    0.001]},\n",
              "                              scoring=&#x27;f1&#x27;))])</pre><b>In a Jupyter environment, please rerun this cell to show the HTML representation or trust the notebook. <br />On GitHub, the HTML representation is unable to render, please try loading this page with nbviewer.org.</b></div><div class=\"sk-container\" hidden><div class=\"sk-item sk-dashed-wrapped\"><div class=\"sk-label-container\"><div class=\"sk-label sk-toggleable\"><input class=\"sk-toggleable__control sk-hidden--visually\" id=\"sk-estimator-id-21\" type=\"checkbox\" ><label for=\"sk-estimator-id-21\" class=\"sk-toggleable__label sk-toggleable__label-arrow\">Pipeline</label><div class=\"sk-toggleable__content\"><pre>Pipeline(steps=[(&#x27;standardscaler&#x27;, StandardScaler()),\n",
              "                (&#x27;gridsearchcv&#x27;,\n",
              "                 GridSearchCV(cv=5,\n",
              "                              estimator=SVC(class_weight=&#x27;balanced&#x27;,\n",
              "                                            kernel=&#x27;linear&#x27;),\n",
              "                              param_grid={&#x27;C&#x27;: [0.01, 0.1, 1, 10, 100, 0.001],\n",
              "                                          &#x27;gamma&#x27;: [0.1, 0.01, 1, 10, 100,\n",
              "                                                    0.001]},\n",
              "                              scoring=&#x27;f1&#x27;))])</pre></div></div></div><div class=\"sk-serial\"><div class=\"sk-item\"><div class=\"sk-estimator sk-toggleable\"><input class=\"sk-toggleable__control sk-hidden--visually\" id=\"sk-estimator-id-22\" type=\"checkbox\" ><label for=\"sk-estimator-id-22\" class=\"sk-toggleable__label sk-toggleable__label-arrow\">StandardScaler</label><div class=\"sk-toggleable__content\"><pre>StandardScaler()</pre></div></div></div><div class=\"sk-item sk-dashed-wrapped\"><div class=\"sk-label-container\"><div class=\"sk-label sk-toggleable\"><input class=\"sk-toggleable__control sk-hidden--visually\" id=\"sk-estimator-id-23\" type=\"checkbox\" ><label for=\"sk-estimator-id-23\" class=\"sk-toggleable__label sk-toggleable__label-arrow\">gridsearchcv: GridSearchCV</label><div class=\"sk-toggleable__content\"><pre>GridSearchCV(cv=5, estimator=SVC(class_weight=&#x27;balanced&#x27;, kernel=&#x27;linear&#x27;),\n",
              "             param_grid={&#x27;C&#x27;: [0.01, 0.1, 1, 10, 100, 0.001],\n",
              "                         &#x27;gamma&#x27;: [0.1, 0.01, 1, 10, 100, 0.001]},\n",
              "             scoring=&#x27;f1&#x27;)</pre></div></div></div><div class=\"sk-parallel\"><div class=\"sk-parallel-item\"><div class=\"sk-item\"><div class=\"sk-label-container\"><div class=\"sk-label sk-toggleable\"><input class=\"sk-toggleable__control sk-hidden--visually\" id=\"sk-estimator-id-24\" type=\"checkbox\" ><label for=\"sk-estimator-id-24\" class=\"sk-toggleable__label sk-toggleable__label-arrow\">estimator: SVC</label><div class=\"sk-toggleable__content\"><pre>SVC(class_weight=&#x27;balanced&#x27;, kernel=&#x27;linear&#x27;)</pre></div></div></div><div class=\"sk-serial\"><div class=\"sk-item\"><div class=\"sk-estimator sk-toggleable\"><input class=\"sk-toggleable__control sk-hidden--visually\" id=\"sk-estimator-id-25\" type=\"checkbox\" ><label for=\"sk-estimator-id-25\" class=\"sk-toggleable__label sk-toggleable__label-arrow\">SVC</label><div class=\"sk-toggleable__content\"><pre>SVC(class_weight=&#x27;balanced&#x27;, kernel=&#x27;linear&#x27;)</pre></div></div></div></div></div></div></div></div></div></div></div></div>"
            ]
          },
          "metadata": {},
          "execution_count": 47
        }
      ]
    },
    {
      "cell_type": "code",
      "source": [
        "print(\"train:\", classification_report(ytrain, pipeline.predict(Xtrain)), \"\\ntest:\", classification_report(ytest, pipeline.predict(Xtest)))"
      ],
      "metadata": {
        "id": "UqvBLT3XtNFg",
        "colab": {
          "base_uri": "https://localhost:8080/"
        },
        "outputId": "b97b80cc-7e45-467e-a414-bd3ad40fee7c"
      },
      "execution_count": null,
      "outputs": [
        {
          "output_type": "stream",
          "name": "stdout",
          "text": [
            "train:               precision    recall  f1-score   support\n",
            "\n",
            "           0       0.95      0.78      0.86      1993\n",
            "           1       0.37      0.77      0.50       340\n",
            "\n",
            "    accuracy                           0.78      2333\n",
            "   macro avg       0.66      0.77      0.68      2333\n",
            "weighted avg       0.87      0.78      0.81      2333\n",
            " \n",
            "test:               precision    recall  f1-score   support\n",
            "\n",
            "           0       0.95      0.75      0.84       857\n",
            "           1       0.34      0.76      0.47       143\n",
            "\n",
            "    accuracy                           0.76      1000\n",
            "   macro avg       0.64      0.76      0.65      1000\n",
            "weighted avg       0.86      0.76      0.79      1000\n",
            "\n"
          ]
        }
      ]
    },
    {
      "cell_type": "markdown",
      "source": [
        "Относительно метрики f1, модель практически не переобучилась - качество на трейне и тесте - 0,5 и 0,47."
      ],
      "metadata": {
        "id": "SDhu-85ouO05"
      }
    },
    {
      "cell_type": "code",
      "source": [
        "print(\"F1-score:\", \"\\ntrain:\", f(ytrain, pipeline.predict(Xtrain)), \"\\ntest:\", f(ytest, pipeline.predict(Xtest)))\n",
        "print(\"\\n\\nROC-AUC:\", \"\\ntrain:\", ra(ytrain, pipeline.predict(Xtrain)), \"\\ntest:\", ra(ytest, pipeline.predict(Xtest)))"
      ],
      "metadata": {
        "id": "eLiBMyHwLYGc",
        "colab": {
          "base_uri": "https://localhost:8080/"
        },
        "outputId": "5e321490-7786-4093-c548-3f90878cc36b"
      },
      "execution_count": null,
      "outputs": [
        {
          "output_type": "stream",
          "name": "stdout",
          "text": [
            "F1-score: \n",
            "train: 0.5028790786948176 \n",
            "test: 0.4685466377440347\n",
            "\n",
            "\n",
            "ROC-AUC: \n",
            "train: 0.774907765414244 \n",
            "test: 0.755101957552366\n"
          ]
        }
      ]
    },
    {
      "cell_type": "markdown",
      "metadata": {
        "id": "fd3-kJsikXKC"
      },
      "source": [
        "# **Задание D** #\n",
        "\n",
        "\n",
        "Сначала выполним D, чтобы отсеять ненужные признаки"
      ]
    },
    {
      "cell_type": "code",
      "execution_count": null,
      "metadata": {
        "colab": {
          "base_uri": "https://localhost:8080/",
          "height": 1000
        },
        "id": "65ZHqXALnzeV",
        "outputId": "e6c0b13f-d653-45fb-dd5b-015ab7478c5f"
      },
      "outputs": [
        {
          "output_type": "execute_result",
          "data": {
            "text/plain": [
              "<pandas.io.formats.style.Styler at 0x7f5fd41f7e80>"
            ],
            "text/html": [
              "<style type=\"text/css\">\n",
              "#T_188dd_row0_col0, #T_188dd_row1_col1, #T_188dd_row2_col2, #T_188dd_row3_col3, #T_188dd_row4_col4, #T_188dd_row5_col5, #T_188dd_row5_col7, #T_188dd_row6_col6, #T_188dd_row7_col5, #T_188dd_row7_col7, #T_188dd_row8_col8, #T_188dd_row8_col10, #T_188dd_row9_col9, #T_188dd_row10_col8, #T_188dd_row10_col10, #T_188dd_row11_col11, #T_188dd_row11_col13, #T_188dd_row12_col12, #T_188dd_row13_col11, #T_188dd_row13_col13, #T_188dd_row14_col14, #T_188dd_row14_col16, #T_188dd_row15_col15, #T_188dd_row16_col14, #T_188dd_row16_col16, #T_188dd_row17_col17, #T_188dd_row18_col18 {\n",
              "  background-color: #b40426;\n",
              "  color: #f1f1f1;\n",
              "}\n",
              "#T_188dd_row0_col1, #T_188dd_row1_col6, #T_188dd_row3_col5, #T_188dd_row3_col6, #T_188dd_row3_col7, #T_188dd_row4_col0, #T_188dd_row4_col6, #T_188dd_row4_col17, #T_188dd_row4_col18, #T_188dd_row5_col14, #T_188dd_row5_col16, #T_188dd_row5_col17, #T_188dd_row7_col14, #T_188dd_row7_col16, #T_188dd_row7_col17, #T_188dd_row8_col17, #T_188dd_row9_col8, #T_188dd_row9_col10, #T_188dd_row10_col17, #T_188dd_row11_col8, #T_188dd_row11_col9, #T_188dd_row11_col10, #T_188dd_row12_col17, #T_188dd_row13_col8, #T_188dd_row13_col9, #T_188dd_row13_col10, #T_188dd_row14_col8, #T_188dd_row14_col10, #T_188dd_row16_col8, #T_188dd_row16_col10, #T_188dd_row17_col0, #T_188dd_row17_col8, #T_188dd_row17_col10, #T_188dd_row17_col14, #T_188dd_row17_col16 {\n",
              "  background-color: #3d50c3;\n",
              "  color: #f1f1f1;\n",
              "}\n",
              "#T_188dd_row0_col2, #T_188dd_row1_col17, #T_188dd_row6_col0, #T_188dd_row6_col15, #T_188dd_row8_col15, #T_188dd_row10_col15 {\n",
              "  background-color: #4a63d3;\n",
              "  color: #f1f1f1;\n",
              "}\n",
              "#T_188dd_row0_col3, #T_188dd_row15_col4 {\n",
              "  background-color: #5875e1;\n",
              "  color: #f1f1f1;\n",
              "}\n",
              "#T_188dd_row0_col4, #T_188dd_row1_col2, #T_188dd_row5_col2, #T_188dd_row7_col2, #T_188dd_row9_col4, #T_188dd_row17_col3 {\n",
              "  background-color: #516ddb;\n",
              "  color: #f1f1f1;\n",
              "}\n",
              "#T_188dd_row0_col5, #T_188dd_row0_col7, #T_188dd_row0_col11, #T_188dd_row0_col13, #T_188dd_row2_col9, #T_188dd_row3_col0, #T_188dd_row3_col14, #T_188dd_row3_col16, #T_188dd_row5_col0, #T_188dd_row6_col9, #T_188dd_row7_col0, #T_188dd_row8_col11, #T_188dd_row8_col13, #T_188dd_row10_col11, #T_188dd_row10_col13, #T_188dd_row11_col1, #T_188dd_row11_col5, #T_188dd_row11_col7, #T_188dd_row12_col9, #T_188dd_row13_col1, #T_188dd_row13_col5, #T_188dd_row13_col7, #T_188dd_row15_col11, #T_188dd_row15_col12, #T_188dd_row15_col13, #T_188dd_row17_col11, #T_188dd_row17_col13 {\n",
              "  background-color: #3f53c6;\n",
              "  color: #f1f1f1;\n",
              "}\n",
              "#T_188dd_row0_col6, #T_188dd_row2_col5, #T_188dd_row2_col7 {\n",
              "  background-color: #4c66d6;\n",
              "  color: #f1f1f1;\n",
              "}\n",
              "#T_188dd_row0_col8, #T_188dd_row0_col10, #T_188dd_row4_col5, #T_188dd_row4_col7, #T_188dd_row5_col1, #T_188dd_row6_col1, #T_188dd_row7_col1, #T_188dd_row9_col1, #T_188dd_row11_col17, #T_188dd_row13_col17, #T_188dd_row14_col11, #T_188dd_row14_col13, #T_188dd_row14_col17, #T_188dd_row16_col11, #T_188dd_row16_col13, #T_188dd_row16_col17, #T_188dd_row17_col9 {\n",
              "  background-color: #3e51c5;\n",
              "  color: #f1f1f1;\n",
              "}\n",
              "#T_188dd_row0_col9, #T_188dd_row0_col16, #T_188dd_row5_col6, #T_188dd_row5_col8, #T_188dd_row5_col10, #T_188dd_row7_col6, #T_188dd_row7_col8, #T_188dd_row7_col10, #T_188dd_row9_col5, #T_188dd_row9_col7, #T_188dd_row11_col12, #T_188dd_row12_col8, #T_188dd_row12_col10, #T_188dd_row13_col12, #T_188dd_row15_col9, #T_188dd_row18_col0, #T_188dd_row18_col1 {\n",
              "  background-color: #4358cb;\n",
              "  color: #f1f1f1;\n",
              "}\n",
              "#T_188dd_row0_col12, #T_188dd_row1_col5, #T_188dd_row1_col7, #T_188dd_row3_col9, #T_188dd_row3_col17, #T_188dd_row4_col9, #T_188dd_row6_col17, #T_188dd_row8_col0, #T_188dd_row8_col14, #T_188dd_row8_col16, #T_188dd_row10_col0, #T_188dd_row10_col14, #T_188dd_row10_col16, #T_188dd_row11_col0, #T_188dd_row12_col14, #T_188dd_row12_col16, #T_188dd_row13_col0, #T_188dd_row14_col1, #T_188dd_row14_col12, #T_188dd_row15_col17, #T_188dd_row16_col1, #T_188dd_row16_col12, #T_188dd_row17_col2, #T_188dd_row17_col12 {\n",
              "  background-color: #3c4ec2;\n",
              "  color: #f1f1f1;\n",
              "}\n",
              "#T_188dd_row0_col14, #T_188dd_row1_col8, #T_188dd_row1_col10, #T_188dd_row1_col15, #T_188dd_row2_col6, #T_188dd_row4_col12, #T_188dd_row5_col9, #T_188dd_row7_col9, #T_188dd_row8_col1, #T_188dd_row8_col12, #T_188dd_row9_col6, #T_188dd_row9_col11, #T_188dd_row9_col12, #T_188dd_row9_col13, #T_188dd_row9_col14, #T_188dd_row9_col16, #T_188dd_row9_col17, #T_188dd_row10_col1, #T_188dd_row10_col12, #T_188dd_row15_col6, #T_188dd_row15_col8, #T_188dd_row15_col10, #T_188dd_row18_col12 {\n",
              "  background-color: #4257c9;\n",
              "  color: #f1f1f1;\n",
              "}\n",
              "#T_188dd_row0_col15, #T_188dd_row2_col15, #T_188dd_row9_col15, #T_188dd_row17_col4 {\n",
              "  background-color: #4f69d9;\n",
              "  color: #f1f1f1;\n",
              "}\n",
              "#T_188dd_row0_col17, #T_188dd_row1_col11, #T_188dd_row1_col13, #T_188dd_row3_col1, #T_188dd_row4_col1, #T_188dd_row4_col14, #T_188dd_row4_col16, #T_188dd_row6_col5, #T_188dd_row6_col7, #T_188dd_row8_col5, #T_188dd_row8_col7, #T_188dd_row10_col5, #T_188dd_row10_col7, #T_188dd_row14_col0, #T_188dd_row14_col9, #T_188dd_row15_col5, #T_188dd_row15_col7, #T_188dd_row16_col0, #T_188dd_row16_col9, #T_188dd_row18_col9 {\n",
              "  background-color: #4055c8;\n",
              "  color: #f1f1f1;\n",
              "}\n",
              "#T_188dd_row0_col18, #T_188dd_row12_col3 {\n",
              "  background-color: #5b7ae5;\n",
              "  color: #f1f1f1;\n",
              "}\n",
              "#T_188dd_row1_col0, #T_188dd_row1_col9, #T_188dd_row1_col14, #T_188dd_row1_col16, #T_188dd_row2_col11, #T_188dd_row2_col13, #T_188dd_row2_col17, #T_188dd_row3_col18, #T_188dd_row6_col8, #T_188dd_row6_col10, #T_188dd_row6_col12, #T_188dd_row8_col6, #T_188dd_row8_col9, #T_188dd_row10_col6, #T_188dd_row10_col9, #T_188dd_row11_col2, #T_188dd_row11_col14, #T_188dd_row11_col16, #T_188dd_row12_col0, #T_188dd_row12_col6, #T_188dd_row13_col2, #T_188dd_row13_col14, #T_188dd_row13_col16, #T_188dd_row14_col5, #T_188dd_row14_col7, #T_188dd_row15_col1, #T_188dd_row16_col5, #T_188dd_row16_col7, #T_188dd_row17_col5, #T_188dd_row17_col6, #T_188dd_row17_col7, #T_188dd_row18_col3, #T_188dd_row18_col4, #T_188dd_row18_col15 {\n",
              "  background-color: #3b4cc0;\n",
              "  color: #f1f1f1;\n",
              "}\n",
              "#T_188dd_row1_col3, #T_188dd_row2_col4, #T_188dd_row5_col3, #T_188dd_row7_col3, #T_188dd_row14_col3, #T_188dd_row16_col3 {\n",
              "  background-color: #5673e0;\n",
              "  color: #f1f1f1;\n",
              "}\n",
              "#T_188dd_row1_col4, #T_188dd_row14_col15, #T_188dd_row16_col15 {\n",
              "  background-color: #536edd;\n",
              "  color: #f1f1f1;\n",
              "}\n",
              "#T_188dd_row1_col12, #T_188dd_row2_col0, #T_188dd_row4_col2, #T_188dd_row4_col8, #T_188dd_row4_col10, #T_188dd_row4_col11, #T_188dd_row4_col13, #T_188dd_row11_col15, #T_188dd_row12_col5, #T_188dd_row12_col7, #T_188dd_row12_col11, #T_188dd_row12_col13, #T_188dd_row13_col15 {\n",
              "  background-color: #455cce;\n",
              "  color: #f1f1f1;\n",
              "}\n",
              "#T_188dd_row1_col18, #T_188dd_row2_col3, #T_188dd_row8_col4, #T_188dd_row9_col18, #T_188dd_row10_col4, #T_188dd_row11_col3, #T_188dd_row12_col18, #T_188dd_row13_col3, #T_188dd_row15_col3 {\n",
              "  background-color: #5977e3;\n",
              "  color: #f1f1f1;\n",
              "}\n",
              "#T_188dd_row2_col1, #T_188dd_row6_col4, #T_188dd_row14_col2, #T_188dd_row16_col2 {\n",
              "  background-color: #506bda;\n",
              "  color: #f1f1f1;\n",
              "}\n",
              "#T_188dd_row2_col8, #T_188dd_row2_col10, #T_188dd_row3_col8, #T_188dd_row3_col10, #T_188dd_row5_col12, #T_188dd_row6_col14, #T_188dd_row6_col16, #T_188dd_row7_col12, #T_188dd_row12_col1, #T_188dd_row12_col2, #T_188dd_row14_col6, #T_188dd_row16_col6, #T_188dd_row18_col6 {\n",
              "  background-color: #465ecf;\n",
              "  color: #f1f1f1;\n",
              "}\n",
              "#T_188dd_row2_col12, #T_188dd_row3_col2, #T_188dd_row3_col11, #T_188dd_row3_col12, #T_188dd_row3_col13, #T_188dd_row5_col11, #T_188dd_row5_col13, #T_188dd_row6_col2, #T_188dd_row7_col11, #T_188dd_row7_col13, #T_188dd_row9_col0, #T_188dd_row9_col2, #T_188dd_row15_col0, #T_188dd_row17_col15 {\n",
              "  background-color: #445acc;\n",
              "  color: #f1f1f1;\n",
              "}\n",
              "#T_188dd_row2_col14, #T_188dd_row2_col16, #T_188dd_row4_col15, #T_188dd_row18_col11, #T_188dd_row18_col13 {\n",
              "  background-color: #4e68d8;\n",
              "  color: #f1f1f1;\n",
              "}\n",
              "#T_188dd_row2_col18 {\n",
              "  background-color: #a9c6fd;\n",
              "  color: #000000;\n",
              "}\n",
              "#T_188dd_row3_col4, #T_188dd_row4_col3 {\n",
              "  background-color: #c32e31;\n",
              "  color: #f1f1f1;\n",
              "}\n",
              "#T_188dd_row3_col15, #T_188dd_row5_col15, #T_188dd_row7_col15 {\n",
              "  background-color: #4b64d5;\n",
              "  color: #f1f1f1;\n",
              "}\n",
              "#T_188dd_row5_col4, #T_188dd_row6_col3, #T_188dd_row7_col4, #T_188dd_row14_col4, #T_188dd_row16_col4, #T_188dd_row18_col14, #T_188dd_row18_col16 {\n",
              "  background-color: #5470de;\n",
              "  color: #f1f1f1;\n",
              "}\n",
              "#T_188dd_row5_col18, #T_188dd_row7_col18, #T_188dd_row18_col2 {\n",
              "  background-color: #97b8ff;\n",
              "  color: #000000;\n",
              "}\n",
              "#T_188dd_row6_col11, #T_188dd_row6_col13, #T_188dd_row12_col15, #T_188dd_row15_col14, #T_188dd_row15_col16, #T_188dd_row17_col1 {\n",
              "  background-color: #4961d2;\n",
              "  color: #f1f1f1;\n",
              "}\n",
              "#T_188dd_row6_col18, #T_188dd_row8_col3, #T_188dd_row10_col3, #T_188dd_row18_col8, #T_188dd_row18_col10 {\n",
              "  background-color: #5d7ce6;\n",
              "  color: #f1f1f1;\n",
              "}\n",
              "#T_188dd_row8_col2, #T_188dd_row10_col2, #T_188dd_row11_col6, #T_188dd_row13_col6, #T_188dd_row15_col2, #T_188dd_row15_col18 {\n",
              "  background-color: #485fd1;\n",
              "  color: #f1f1f1;\n",
              "}\n",
              "#T_188dd_row8_col18, #T_188dd_row10_col18 {\n",
              "  background-color: #7396f5;\n",
              "  color: #f1f1f1;\n",
              "}\n",
              "#T_188dd_row9_col3, #T_188dd_row11_col4, #T_188dd_row12_col4, #T_188dd_row13_col4 {\n",
              "  background-color: #5572df;\n",
              "  color: #f1f1f1;\n",
              "}\n",
              "#T_188dd_row11_col18, #T_188dd_row13_col18 {\n",
              "  background-color: #6180e9;\n",
              "  color: #f1f1f1;\n",
              "}\n",
              "#T_188dd_row14_col18, #T_188dd_row16_col18 {\n",
              "  background-color: #6b8df0;\n",
              "  color: #f1f1f1;\n",
              "}\n",
              "#T_188dd_row17_col18 {\n",
              "  background-color: #98b9ff;\n",
              "  color: #000000;\n",
              "}\n",
              "#T_188dd_row18_col5, #T_188dd_row18_col7 {\n",
              "  background-color: #81a4fb;\n",
              "  color: #f1f1f1;\n",
              "}\n",
              "#T_188dd_row18_col17 {\n",
              "  background-color: #85a8fc;\n",
              "  color: #f1f1f1;\n",
              "}\n",
              "</style>\n",
              "<table id=\"T_188dd\" class=\"dataframe\">\n",
              "  <thead>\n",
              "    <tr>\n",
              "      <th class=\"blank level0\" >&nbsp;</th>\n",
              "      <th id=\"T_188dd_level0_col0\" class=\"col_heading level0 col0\" >Account length</th>\n",
              "      <th id=\"T_188dd_level0_col1\" class=\"col_heading level0 col1\" >Area code</th>\n",
              "      <th id=\"T_188dd_level0_col2\" class=\"col_heading level0 col2\" >International plan</th>\n",
              "      <th id=\"T_188dd_level0_col3\" class=\"col_heading level0 col3\" >Voice mail plan</th>\n",
              "      <th id=\"T_188dd_level0_col4\" class=\"col_heading level0 col4\" >Number vmail messages</th>\n",
              "      <th id=\"T_188dd_level0_col5\" class=\"col_heading level0 col5\" >Total day minutes</th>\n",
              "      <th id=\"T_188dd_level0_col6\" class=\"col_heading level0 col6\" >Total day calls</th>\n",
              "      <th id=\"T_188dd_level0_col7\" class=\"col_heading level0 col7\" >Total day charge</th>\n",
              "      <th id=\"T_188dd_level0_col8\" class=\"col_heading level0 col8\" >Total eve minutes</th>\n",
              "      <th id=\"T_188dd_level0_col9\" class=\"col_heading level0 col9\" >Total eve calls</th>\n",
              "      <th id=\"T_188dd_level0_col10\" class=\"col_heading level0 col10\" >Total eve charge</th>\n",
              "      <th id=\"T_188dd_level0_col11\" class=\"col_heading level0 col11\" >Total night minutes</th>\n",
              "      <th id=\"T_188dd_level0_col12\" class=\"col_heading level0 col12\" >Total night calls</th>\n",
              "      <th id=\"T_188dd_level0_col13\" class=\"col_heading level0 col13\" >Total night charge</th>\n",
              "      <th id=\"T_188dd_level0_col14\" class=\"col_heading level0 col14\" >Total intl minutes</th>\n",
              "      <th id=\"T_188dd_level0_col15\" class=\"col_heading level0 col15\" >Total intl calls</th>\n",
              "      <th id=\"T_188dd_level0_col16\" class=\"col_heading level0 col16\" >Total intl charge</th>\n",
              "      <th id=\"T_188dd_level0_col17\" class=\"col_heading level0 col17\" >Customer service calls</th>\n",
              "      <th id=\"T_188dd_level0_col18\" class=\"col_heading level0 col18\" >Churn</th>\n",
              "    </tr>\n",
              "  </thead>\n",
              "  <tbody>\n",
              "    <tr>\n",
              "      <th id=\"T_188dd_level0_row0\" class=\"row_heading level0 row0\" >Account length</th>\n",
              "      <td id=\"T_188dd_row0_col0\" class=\"data row0 col0\" >1.000000</td>\n",
              "      <td id=\"T_188dd_row0_col1\" class=\"data row0 col1\" >-0.012463</td>\n",
              "      <td id=\"T_188dd_row0_col2\" class=\"data row0 col2\" >0.024735</td>\n",
              "      <td id=\"T_188dd_row0_col3\" class=\"data row0 col3\" >0.002918</td>\n",
              "      <td id=\"T_188dd_row0_col4\" class=\"data row0 col4\" >-0.004628</td>\n",
              "      <td id=\"T_188dd_row0_col5\" class=\"data row0 col5\" >0.006216</td>\n",
              "      <td id=\"T_188dd_row0_col6\" class=\"data row0 col6\" >0.038470</td>\n",
              "      <td id=\"T_188dd_row0_col7\" class=\"data row0 col7\" >0.006214</td>\n",
              "      <td id=\"T_188dd_row0_col8\" class=\"data row0 col8\" >-0.006757</td>\n",
              "      <td id=\"T_188dd_row0_col9\" class=\"data row0 col9\" >0.019260</td>\n",
              "      <td id=\"T_188dd_row0_col10\" class=\"data row0 col10\" >-0.006745</td>\n",
              "      <td id=\"T_188dd_row0_col11\" class=\"data row0 col11\" >-0.008955</td>\n",
              "      <td id=\"T_188dd_row0_col12\" class=\"data row0 col12\" >-0.013176</td>\n",
              "      <td id=\"T_188dd_row0_col13\" class=\"data row0 col13\" >-0.008960</td>\n",
              "      <td id=\"T_188dd_row0_col14\" class=\"data row0 col14\" >0.009514</td>\n",
              "      <td id=\"T_188dd_row0_col15\" class=\"data row0 col15\" >0.020661</td>\n",
              "      <td id=\"T_188dd_row0_col16\" class=\"data row0 col16\" >0.009546</td>\n",
              "      <td id=\"T_188dd_row0_col17\" class=\"data row0 col17\" >-0.003796</td>\n",
              "      <td id=\"T_188dd_row0_col18\" class=\"data row0 col18\" >0.016541</td>\n",
              "    </tr>\n",
              "    <tr>\n",
              "      <th id=\"T_188dd_level0_row1\" class=\"row_heading level0 row1\" >Area code</th>\n",
              "      <td id=\"T_188dd_row1_col0\" class=\"data row1 col0\" >-0.012463</td>\n",
              "      <td id=\"T_188dd_row1_col1\" class=\"data row1 col1\" >1.000000</td>\n",
              "      <td id=\"T_188dd_row1_col2\" class=\"data row1 col2\" >0.048551</td>\n",
              "      <td id=\"T_188dd_row1_col3\" class=\"data row1 col3\" >-0.000747</td>\n",
              "      <td id=\"T_188dd_row1_col4\" class=\"data row1 col4\" >-0.001994</td>\n",
              "      <td id=\"T_188dd_row1_col5\" class=\"data row1 col5\" >-0.008264</td>\n",
              "      <td id=\"T_188dd_row1_col6\" class=\"data row1 col6\" >-0.009646</td>\n",
              "      <td id=\"T_188dd_row1_col7\" class=\"data row1 col7\" >-0.008264</td>\n",
              "      <td id=\"T_188dd_row1_col8\" class=\"data row1 col8\" >0.003580</td>\n",
              "      <td id=\"T_188dd_row1_col9\" class=\"data row1 col9\" >-0.011886</td>\n",
              "      <td id=\"T_188dd_row1_col10\" class=\"data row1 col10\" >0.003607</td>\n",
              "      <td id=\"T_188dd_row1_col11\" class=\"data row1 col11\" >-0.005825</td>\n",
              "      <td id=\"T_188dd_row1_col12\" class=\"data row1 col12\" >0.016522</td>\n",
              "      <td id=\"T_188dd_row1_col13\" class=\"data row1 col13\" >-0.005845</td>\n",
              "      <td id=\"T_188dd_row1_col14\" class=\"data row1 col14\" >-0.018288</td>\n",
              "      <td id=\"T_188dd_row1_col15\" class=\"data row1 col15\" >-0.024179</td>\n",
              "      <td id=\"T_188dd_row1_col16\" class=\"data row1 col16\" >-0.018395</td>\n",
              "      <td id=\"T_188dd_row1_col17\" class=\"data row1 col17\" >0.027572</td>\n",
              "      <td id=\"T_188dd_row1_col18\" class=\"data row1 col18\" >0.006174</td>\n",
              "    </tr>\n",
              "    <tr>\n",
              "      <th id=\"T_188dd_level0_row2\" class=\"row_heading level0 row2\" >International plan</th>\n",
              "      <td id=\"T_188dd_row2_col0\" class=\"data row2 col0\" >0.024735</td>\n",
              "      <td id=\"T_188dd_row2_col1\" class=\"data row2 col1\" >0.048551</td>\n",
              "      <td id=\"T_188dd_row2_col2\" class=\"data row2 col2\" >1.000000</td>\n",
              "      <td id=\"T_188dd_row2_col3\" class=\"data row2 col3\" >0.006006</td>\n",
              "      <td id=\"T_188dd_row2_col4\" class=\"data row2 col4\" >0.008745</td>\n",
              "      <td id=\"T_188dd_row2_col5\" class=\"data row2 col5\" >0.049396</td>\n",
              "      <td id=\"T_188dd_row2_col6\" class=\"data row2 col6\" >0.003755</td>\n",
              "      <td id=\"T_188dd_row2_col7\" class=\"data row2 col7\" >0.049398</td>\n",
              "      <td id=\"T_188dd_row2_col8\" class=\"data row2 col8\" >0.019100</td>\n",
              "      <td id=\"T_188dd_row2_col9\" class=\"data row2 col9\" >0.006114</td>\n",
              "      <td id=\"T_188dd_row2_col10\" class=\"data row2 col10\" >0.019106</td>\n",
              "      <td id=\"T_188dd_row2_col11\" class=\"data row2 col11\" >-0.028905</td>\n",
              "      <td id=\"T_188dd_row2_col12\" class=\"data row2 col12\" >0.012451</td>\n",
              "      <td id=\"T_188dd_row2_col13\" class=\"data row2 col13\" >-0.028913</td>\n",
              "      <td id=\"T_188dd_row2_col14\" class=\"data row2 col14\" >0.045871</td>\n",
              "      <td id=\"T_188dd_row2_col15\" class=\"data row2 col15\" >0.017366</td>\n",
              "      <td id=\"T_188dd_row2_col16\" class=\"data row2 col16\" >0.045780</td>\n",
              "      <td id=\"T_188dd_row2_col17\" class=\"data row2 col17\" >-0.024522</td>\n",
              "      <td id=\"T_188dd_row2_col18\" class=\"data row2 col18\" >0.259852</td>\n",
              "    </tr>\n",
              "    <tr>\n",
              "      <th id=\"T_188dd_level0_row3\" class=\"row_heading level0 row3\" >Voice mail plan</th>\n",
              "      <td id=\"T_188dd_row3_col0\" class=\"data row3 col0\" >0.002918</td>\n",
              "      <td id=\"T_188dd_row3_col1\" class=\"data row3 col1\" >-0.000747</td>\n",
              "      <td id=\"T_188dd_row3_col2\" class=\"data row3 col2\" >0.006006</td>\n",
              "      <td id=\"T_188dd_row3_col3\" class=\"data row3 col3\" >1.000000</td>\n",
              "      <td id=\"T_188dd_row3_col4\" class=\"data row3 col4\" >0.956927</td>\n",
              "      <td id=\"T_188dd_row3_col5\" class=\"data row3 col5\" >-0.001684</td>\n",
              "      <td id=\"T_188dd_row3_col6\" class=\"data row3 col6\" >-0.011086</td>\n",
              "      <td id=\"T_188dd_row3_col7\" class=\"data row3 col7\" >-0.001686</td>\n",
              "      <td id=\"T_188dd_row3_col8\" class=\"data row3 col8\" >0.021545</td>\n",
              "      <td id=\"T_188dd_row3_col9\" class=\"data row3 col9\" >-0.006444</td>\n",
              "      <td id=\"T_188dd_row3_col10\" class=\"data row3 col10\" >0.021559</td>\n",
              "      <td id=\"T_188dd_row3_col11\" class=\"data row3 col11\" >0.006079</td>\n",
              "      <td id=\"T_188dd_row3_col12\" class=\"data row3 col12\" >0.015553</td>\n",
              "      <td id=\"T_188dd_row3_col13\" class=\"data row3 col13\" >0.006064</td>\n",
              "      <td id=\"T_188dd_row3_col14\" class=\"data row3 col14\" >-0.001318</td>\n",
              "      <td id=\"T_188dd_row3_col15\" class=\"data row3 col15\" >0.007618</td>\n",
              "      <td id=\"T_188dd_row3_col16\" class=\"data row3 col16\" >-0.001276</td>\n",
              "      <td id=\"T_188dd_row3_col17\" class=\"data row3 col17\" >-0.017824</td>\n",
              "      <td id=\"T_188dd_row3_col18\" class=\"data row3 col18\" >-0.102148</td>\n",
              "    </tr>\n",
              "    <tr>\n",
              "      <th id=\"T_188dd_level0_row4\" class=\"row_heading level0 row4\" >Number vmail messages</th>\n",
              "      <td id=\"T_188dd_row4_col0\" class=\"data row4 col0\" >-0.004628</td>\n",
              "      <td id=\"T_188dd_row4_col1\" class=\"data row4 col1\" >-0.001994</td>\n",
              "      <td id=\"T_188dd_row4_col2\" class=\"data row4 col2\" >0.008745</td>\n",
              "      <td id=\"T_188dd_row4_col3\" class=\"data row4 col3\" >0.956927</td>\n",
              "      <td id=\"T_188dd_row4_col4\" class=\"data row4 col4\" >1.000000</td>\n",
              "      <td id=\"T_188dd_row4_col5\" class=\"data row4 col5\" >0.000778</td>\n",
              "      <td id=\"T_188dd_row4_col6\" class=\"data row4 col6\" >-0.009548</td>\n",
              "      <td id=\"T_188dd_row4_col7\" class=\"data row4 col7\" >0.000776</td>\n",
              "      <td id=\"T_188dd_row4_col8\" class=\"data row4 col8\" >0.017562</td>\n",
              "      <td id=\"T_188dd_row4_col9\" class=\"data row4 col9\" >-0.005864</td>\n",
              "      <td id=\"T_188dd_row4_col10\" class=\"data row4 col10\" >0.017578</td>\n",
              "      <td id=\"T_188dd_row4_col11\" class=\"data row4 col11\" >0.007681</td>\n",
              "      <td id=\"T_188dd_row4_col12\" class=\"data row4 col12\" >0.007123</td>\n",
              "      <td id=\"T_188dd_row4_col13\" class=\"data row4 col13\" >0.007663</td>\n",
              "      <td id=\"T_188dd_row4_col14\" class=\"data row4 col14\" >0.002856</td>\n",
              "      <td id=\"T_188dd_row4_col15\" class=\"data row4 col15\" >0.013957</td>\n",
              "      <td id=\"T_188dd_row4_col16\" class=\"data row4 col16\" >0.002884</td>\n",
              "      <td id=\"T_188dd_row4_col17\" class=\"data row4 col17\" >-0.013263</td>\n",
              "      <td id=\"T_188dd_row4_col18\" class=\"data row4 col18\" >-0.089728</td>\n",
              "    </tr>\n",
              "    <tr>\n",
              "      <th id=\"T_188dd_level0_row5\" class=\"row_heading level0 row5\" >Total day minutes</th>\n",
              "      <td id=\"T_188dd_row5_col0\" class=\"data row5 col0\" >0.006216</td>\n",
              "      <td id=\"T_188dd_row5_col1\" class=\"data row5 col1\" >-0.008264</td>\n",
              "      <td id=\"T_188dd_row5_col2\" class=\"data row5 col2\" >0.049396</td>\n",
              "      <td id=\"T_188dd_row5_col3\" class=\"data row5 col3\" >-0.001684</td>\n",
              "      <td id=\"T_188dd_row5_col4\" class=\"data row5 col4\" >0.000778</td>\n",
              "      <td id=\"T_188dd_row5_col5\" class=\"data row5 col5\" >1.000000</td>\n",
              "      <td id=\"T_188dd_row5_col6\" class=\"data row5 col6\" >0.006750</td>\n",
              "      <td id=\"T_188dd_row5_col7\" class=\"data row5 col7\" >1.000000</td>\n",
              "      <td id=\"T_188dd_row5_col8\" class=\"data row5 col8\" >0.007043</td>\n",
              "      <td id=\"T_188dd_row5_col9\" class=\"data row5 col9\" >0.015769</td>\n",
              "      <td id=\"T_188dd_row5_col10\" class=\"data row5 col10\" >0.007029</td>\n",
              "      <td id=\"T_188dd_row5_col11\" class=\"data row5 col11\" >0.004323</td>\n",
              "      <td id=\"T_188dd_row5_col12\" class=\"data row5 col12\" >0.022972</td>\n",
              "      <td id=\"T_188dd_row5_col13\" class=\"data row5 col13\" >0.004300</td>\n",
              "      <td id=\"T_188dd_row5_col14\" class=\"data row5 col14\" >-0.010155</td>\n",
              "      <td id=\"T_188dd_row5_col15\" class=\"data row5 col15\" >0.008033</td>\n",
              "      <td id=\"T_188dd_row5_col16\" class=\"data row5 col16\" >-0.010092</td>\n",
              "      <td id=\"T_188dd_row5_col17\" class=\"data row5 col17\" >-0.013423</td>\n",
              "      <td id=\"T_188dd_row5_col18\" class=\"data row5 col18\" >0.205151</td>\n",
              "    </tr>\n",
              "    <tr>\n",
              "      <th id=\"T_188dd_level0_row6\" class=\"row_heading level0 row6\" >Total day calls</th>\n",
              "      <td id=\"T_188dd_row6_col0\" class=\"data row6 col0\" >0.038470</td>\n",
              "      <td id=\"T_188dd_row6_col1\" class=\"data row6 col1\" >-0.009646</td>\n",
              "      <td id=\"T_188dd_row6_col2\" class=\"data row6 col2\" >0.003755</td>\n",
              "      <td id=\"T_188dd_row6_col3\" class=\"data row6 col3\" >-0.011086</td>\n",
              "      <td id=\"T_188dd_row6_col4\" class=\"data row6 col4\" >-0.009548</td>\n",
              "      <td id=\"T_188dd_row6_col5\" class=\"data row6 col5\" >0.006750</td>\n",
              "      <td id=\"T_188dd_row6_col6\" class=\"data row6 col6\" >1.000000</td>\n",
              "      <td id=\"T_188dd_row6_col7\" class=\"data row6 col7\" >0.006753</td>\n",
              "      <td id=\"T_188dd_row6_col8\" class=\"data row6 col8\" >-0.021451</td>\n",
              "      <td id=\"T_188dd_row6_col9\" class=\"data row6 col9\" >0.006462</td>\n",
              "      <td id=\"T_188dd_row6_col10\" class=\"data row6 col10\" >-0.021449</td>\n",
              "      <td id=\"T_188dd_row6_col11\" class=\"data row6 col11\" >0.022938</td>\n",
              "      <td id=\"T_188dd_row6_col12\" class=\"data row6 col12\" >-0.019557</td>\n",
              "      <td id=\"T_188dd_row6_col13\" class=\"data row6 col13\" >0.022927</td>\n",
              "      <td id=\"T_188dd_row6_col14\" class=\"data row6 col14\" >0.021565</td>\n",
              "      <td id=\"T_188dd_row6_col15\" class=\"data row6 col15\" >0.004574</td>\n",
              "      <td id=\"T_188dd_row6_col16\" class=\"data row6 col16\" >0.021666</td>\n",
              "      <td id=\"T_188dd_row6_col17\" class=\"data row6 col17\" >-0.018942</td>\n",
              "      <td id=\"T_188dd_row6_col18\" class=\"data row6 col18\" >0.018459</td>\n",
              "    </tr>\n",
              "    <tr>\n",
              "      <th id=\"T_188dd_level0_row7\" class=\"row_heading level0 row7\" >Total day charge</th>\n",
              "      <td id=\"T_188dd_row7_col0\" class=\"data row7 col0\" >0.006214</td>\n",
              "      <td id=\"T_188dd_row7_col1\" class=\"data row7 col1\" >-0.008264</td>\n",
              "      <td id=\"T_188dd_row7_col2\" class=\"data row7 col2\" >0.049398</td>\n",
              "      <td id=\"T_188dd_row7_col3\" class=\"data row7 col3\" >-0.001686</td>\n",
              "      <td id=\"T_188dd_row7_col4\" class=\"data row7 col4\" >0.000776</td>\n",
              "      <td id=\"T_188dd_row7_col5\" class=\"data row7 col5\" >1.000000</td>\n",
              "      <td id=\"T_188dd_row7_col6\" class=\"data row7 col6\" >0.006753</td>\n",
              "      <td id=\"T_188dd_row7_col7\" class=\"data row7 col7\" >1.000000</td>\n",
              "      <td id=\"T_188dd_row7_col8\" class=\"data row7 col8\" >0.007050</td>\n",
              "      <td id=\"T_188dd_row7_col9\" class=\"data row7 col9\" >0.015769</td>\n",
              "      <td id=\"T_188dd_row7_col10\" class=\"data row7 col10\" >0.007036</td>\n",
              "      <td id=\"T_188dd_row7_col11\" class=\"data row7 col11\" >0.004324</td>\n",
              "      <td id=\"T_188dd_row7_col12\" class=\"data row7 col12\" >0.022972</td>\n",
              "      <td id=\"T_188dd_row7_col13\" class=\"data row7 col13\" >0.004301</td>\n",
              "      <td id=\"T_188dd_row7_col14\" class=\"data row7 col14\" >-0.010157</td>\n",
              "      <td id=\"T_188dd_row7_col15\" class=\"data row7 col15\" >0.008032</td>\n",
              "      <td id=\"T_188dd_row7_col16\" class=\"data row7 col16\" >-0.010094</td>\n",
              "      <td id=\"T_188dd_row7_col17\" class=\"data row7 col17\" >-0.013427</td>\n",
              "      <td id=\"T_188dd_row7_col18\" class=\"data row7 col18\" >0.205151</td>\n",
              "    </tr>\n",
              "    <tr>\n",
              "      <th id=\"T_188dd_level0_row8\" class=\"row_heading level0 row8\" >Total eve minutes</th>\n",
              "      <td id=\"T_188dd_row8_col0\" class=\"data row8 col0\" >-0.006757</td>\n",
              "      <td id=\"T_188dd_row8_col1\" class=\"data row8 col1\" >0.003580</td>\n",
              "      <td id=\"T_188dd_row8_col2\" class=\"data row8 col2\" >0.019100</td>\n",
              "      <td id=\"T_188dd_row8_col3\" class=\"data row8 col3\" >0.021545</td>\n",
              "      <td id=\"T_188dd_row8_col4\" class=\"data row8 col4\" >0.017562</td>\n",
              "      <td id=\"T_188dd_row8_col5\" class=\"data row8 col5\" >0.007043</td>\n",
              "      <td id=\"T_188dd_row8_col6\" class=\"data row8 col6\" >-0.021451</td>\n",
              "      <td id=\"T_188dd_row8_col7\" class=\"data row8 col7\" >0.007050</td>\n",
              "      <td id=\"T_188dd_row8_col8\" class=\"data row8 col8\" >1.000000</td>\n",
              "      <td id=\"T_188dd_row8_col9\" class=\"data row8 col9\" >-0.011430</td>\n",
              "      <td id=\"T_188dd_row8_col10\" class=\"data row8 col10\" >1.000000</td>\n",
              "      <td id=\"T_188dd_row8_col11\" class=\"data row8 col11\" >-0.012584</td>\n",
              "      <td id=\"T_188dd_row8_col12\" class=\"data row8 col12\" >0.007586</td>\n",
              "      <td id=\"T_188dd_row8_col13\" class=\"data row8 col13\" >-0.012593</td>\n",
              "      <td id=\"T_188dd_row8_col14\" class=\"data row8 col14\" >-0.011035</td>\n",
              "      <td id=\"T_188dd_row8_col15\" class=\"data row8 col15\" >0.002541</td>\n",
              "      <td id=\"T_188dd_row8_col16\" class=\"data row8 col16\" >-0.011067</td>\n",
              "      <td id=\"T_188dd_row8_col17\" class=\"data row8 col17\" >-0.012985</td>\n",
              "      <td id=\"T_188dd_row8_col18\" class=\"data row8 col18\" >0.092796</td>\n",
              "    </tr>\n",
              "    <tr>\n",
              "      <th id=\"T_188dd_level0_row9\" class=\"row_heading level0 row9\" >Total eve calls</th>\n",
              "      <td id=\"T_188dd_row9_col0\" class=\"data row9 col0\" >0.019260</td>\n",
              "      <td id=\"T_188dd_row9_col1\" class=\"data row9 col1\" >-0.011886</td>\n",
              "      <td id=\"T_188dd_row9_col2\" class=\"data row9 col2\" >0.006114</td>\n",
              "      <td id=\"T_188dd_row9_col3\" class=\"data row9 col3\" >-0.006444</td>\n",
              "      <td id=\"T_188dd_row9_col4\" class=\"data row9 col4\" >-0.005864</td>\n",
              "      <td id=\"T_188dd_row9_col5\" class=\"data row9 col5\" >0.015769</td>\n",
              "      <td id=\"T_188dd_row9_col6\" class=\"data row9 col6\" >0.006462</td>\n",
              "      <td id=\"T_188dd_row9_col7\" class=\"data row9 col7\" >0.015769</td>\n",
              "      <td id=\"T_188dd_row9_col8\" class=\"data row9 col8\" >-0.011430</td>\n",
              "      <td id=\"T_188dd_row9_col9\" class=\"data row9 col9\" >1.000000</td>\n",
              "      <td id=\"T_188dd_row9_col10\" class=\"data row9 col10\" >-0.011423</td>\n",
              "      <td id=\"T_188dd_row9_col11\" class=\"data row9 col11\" >-0.002093</td>\n",
              "      <td id=\"T_188dd_row9_col12\" class=\"data row9 col12\" >0.007710</td>\n",
              "      <td id=\"T_188dd_row9_col13\" class=\"data row9 col13\" >-0.002056</td>\n",
              "      <td id=\"T_188dd_row9_col14\" class=\"data row9 col14\" >0.008703</td>\n",
              "      <td id=\"T_188dd_row9_col15\" class=\"data row9 col15\" >0.017434</td>\n",
              "      <td id=\"T_188dd_row9_col16\" class=\"data row9 col16\" >0.008674</td>\n",
              "      <td id=\"T_188dd_row9_col17\" class=\"data row9 col17\" >0.002423</td>\n",
              "      <td id=\"T_188dd_row9_col18\" class=\"data row9 col18\" >0.009233</td>\n",
              "    </tr>\n",
              "    <tr>\n",
              "      <th id=\"T_188dd_level0_row10\" class=\"row_heading level0 row10\" >Total eve charge</th>\n",
              "      <td id=\"T_188dd_row10_col0\" class=\"data row10 col0\" >-0.006745</td>\n",
              "      <td id=\"T_188dd_row10_col1\" class=\"data row10 col1\" >0.003607</td>\n",
              "      <td id=\"T_188dd_row10_col2\" class=\"data row10 col2\" >0.019106</td>\n",
              "      <td id=\"T_188dd_row10_col3\" class=\"data row10 col3\" >0.021559</td>\n",
              "      <td id=\"T_188dd_row10_col4\" class=\"data row10 col4\" >0.017578</td>\n",
              "      <td id=\"T_188dd_row10_col5\" class=\"data row10 col5\" >0.007029</td>\n",
              "      <td id=\"T_188dd_row10_col6\" class=\"data row10 col6\" >-0.021449</td>\n",
              "      <td id=\"T_188dd_row10_col7\" class=\"data row10 col7\" >0.007036</td>\n",
              "      <td id=\"T_188dd_row10_col8\" class=\"data row10 col8\" >1.000000</td>\n",
              "      <td id=\"T_188dd_row10_col9\" class=\"data row10 col9\" >-0.011423</td>\n",
              "      <td id=\"T_188dd_row10_col10\" class=\"data row10 col10\" >1.000000</td>\n",
              "      <td id=\"T_188dd_row10_col11\" class=\"data row10 col11\" >-0.012592</td>\n",
              "      <td id=\"T_188dd_row10_col12\" class=\"data row10 col12\" >0.007596</td>\n",
              "      <td id=\"T_188dd_row10_col13\" class=\"data row10 col13\" >-0.012601</td>\n",
              "      <td id=\"T_188dd_row10_col14\" class=\"data row10 col14\" >-0.011043</td>\n",
              "      <td id=\"T_188dd_row10_col15\" class=\"data row10 col15\" >0.002541</td>\n",
              "      <td id=\"T_188dd_row10_col16\" class=\"data row10 col16\" >-0.011074</td>\n",
              "      <td id=\"T_188dd_row10_col17\" class=\"data row10 col17\" >-0.012987</td>\n",
              "      <td id=\"T_188dd_row10_col18\" class=\"data row10 col18\" >0.092786</td>\n",
              "    </tr>\n",
              "    <tr>\n",
              "      <th id=\"T_188dd_level0_row11\" class=\"row_heading level0 row11\" >Total night minutes</th>\n",
              "      <td id=\"T_188dd_row11_col0\" class=\"data row11 col0\" >-0.008955</td>\n",
              "      <td id=\"T_188dd_row11_col1\" class=\"data row11 col1\" >-0.005825</td>\n",
              "      <td id=\"T_188dd_row11_col2\" class=\"data row11 col2\" >-0.028905</td>\n",
              "      <td id=\"T_188dd_row11_col3\" class=\"data row11 col3\" >0.006079</td>\n",
              "      <td id=\"T_188dd_row11_col4\" class=\"data row11 col4\" >0.007681</td>\n",
              "      <td id=\"T_188dd_row11_col5\" class=\"data row11 col5\" >0.004323</td>\n",
              "      <td id=\"T_188dd_row11_col6\" class=\"data row11 col6\" >0.022938</td>\n",
              "      <td id=\"T_188dd_row11_col7\" class=\"data row11 col7\" >0.004324</td>\n",
              "      <td id=\"T_188dd_row11_col8\" class=\"data row11 col8\" >-0.012584</td>\n",
              "      <td id=\"T_188dd_row11_col9\" class=\"data row11 col9\" >-0.002093</td>\n",
              "      <td id=\"T_188dd_row11_col10\" class=\"data row11 col10\" >-0.012592</td>\n",
              "      <td id=\"T_188dd_row11_col11\" class=\"data row11 col11\" >1.000000</td>\n",
              "      <td id=\"T_188dd_row11_col12\" class=\"data row11 col12\" >0.011204</td>\n",
              "      <td id=\"T_188dd_row11_col13\" class=\"data row11 col13\" >0.999999</td>\n",
              "      <td id=\"T_188dd_row11_col14\" class=\"data row11 col14\" >-0.015207</td>\n",
              "      <td id=\"T_188dd_row11_col15\" class=\"data row11 col15\" >-0.012353</td>\n",
              "      <td id=\"T_188dd_row11_col16\" class=\"data row11 col16\" >-0.015180</td>\n",
              "      <td id=\"T_188dd_row11_col17\" class=\"data row11 col17\" >-0.009288</td>\n",
              "      <td id=\"T_188dd_row11_col18\" class=\"data row11 col18\" >0.035493</td>\n",
              "    </tr>\n",
              "    <tr>\n",
              "      <th id=\"T_188dd_level0_row12\" class=\"row_heading level0 row12\" >Total night calls</th>\n",
              "      <td id=\"T_188dd_row12_col0\" class=\"data row12 col0\" >-0.013176</td>\n",
              "      <td id=\"T_188dd_row12_col1\" class=\"data row12 col1\" >0.016522</td>\n",
              "      <td id=\"T_188dd_row12_col2\" class=\"data row12 col2\" >0.012451</td>\n",
              "      <td id=\"T_188dd_row12_col3\" class=\"data row12 col3\" >0.015553</td>\n",
              "      <td id=\"T_188dd_row12_col4\" class=\"data row12 col4\" >0.007123</td>\n",
              "      <td id=\"T_188dd_row12_col5\" class=\"data row12 col5\" >0.022972</td>\n",
              "      <td id=\"T_188dd_row12_col6\" class=\"data row12 col6\" >-0.019557</td>\n",
              "      <td id=\"T_188dd_row12_col7\" class=\"data row12 col7\" >0.022972</td>\n",
              "      <td id=\"T_188dd_row12_col8\" class=\"data row12 col8\" >0.007586</td>\n",
              "      <td id=\"T_188dd_row12_col9\" class=\"data row12 col9\" >0.007710</td>\n",
              "      <td id=\"T_188dd_row12_col10\" class=\"data row12 col10\" >0.007596</td>\n",
              "      <td id=\"T_188dd_row12_col11\" class=\"data row12 col11\" >0.011204</td>\n",
              "      <td id=\"T_188dd_row12_col12\" class=\"data row12 col12\" >1.000000</td>\n",
              "      <td id=\"T_188dd_row12_col13\" class=\"data row12 col13\" >0.011188</td>\n",
              "      <td id=\"T_188dd_row12_col14\" class=\"data row12 col14\" >-0.013605</td>\n",
              "      <td id=\"T_188dd_row12_col15\" class=\"data row12 col15\" >0.000305</td>\n",
              "      <td id=\"T_188dd_row12_col16\" class=\"data row12 col16\" >-0.013630</td>\n",
              "      <td id=\"T_188dd_row12_col17\" class=\"data row12 col17\" >-0.012802</td>\n",
              "      <td id=\"T_188dd_row12_col18\" class=\"data row12 col18\" >0.006141</td>\n",
              "    </tr>\n",
              "    <tr>\n",
              "      <th id=\"T_188dd_level0_row13\" class=\"row_heading level0 row13\" >Total night charge</th>\n",
              "      <td id=\"T_188dd_row13_col0\" class=\"data row13 col0\" >-0.008960</td>\n",
              "      <td id=\"T_188dd_row13_col1\" class=\"data row13 col1\" >-0.005845</td>\n",
              "      <td id=\"T_188dd_row13_col2\" class=\"data row13 col2\" >-0.028913</td>\n",
              "      <td id=\"T_188dd_row13_col3\" class=\"data row13 col3\" >0.006064</td>\n",
              "      <td id=\"T_188dd_row13_col4\" class=\"data row13 col4\" >0.007663</td>\n",
              "      <td id=\"T_188dd_row13_col5\" class=\"data row13 col5\" >0.004300</td>\n",
              "      <td id=\"T_188dd_row13_col6\" class=\"data row13 col6\" >0.022927</td>\n",
              "      <td id=\"T_188dd_row13_col7\" class=\"data row13 col7\" >0.004301</td>\n",
              "      <td id=\"T_188dd_row13_col8\" class=\"data row13 col8\" >-0.012593</td>\n",
              "      <td id=\"T_188dd_row13_col9\" class=\"data row13 col9\" >-0.002056</td>\n",
              "      <td id=\"T_188dd_row13_col10\" class=\"data row13 col10\" >-0.012601</td>\n",
              "      <td id=\"T_188dd_row13_col11\" class=\"data row13 col11\" >0.999999</td>\n",
              "      <td id=\"T_188dd_row13_col12\" class=\"data row13 col12\" >0.011188</td>\n",
              "      <td id=\"T_188dd_row13_col13\" class=\"data row13 col13\" >1.000000</td>\n",
              "      <td id=\"T_188dd_row13_col14\" class=\"data row13 col14\" >-0.015214</td>\n",
              "      <td id=\"T_188dd_row13_col15\" class=\"data row13 col15\" >-0.012329</td>\n",
              "      <td id=\"T_188dd_row13_col16\" class=\"data row13 col16\" >-0.015186</td>\n",
              "      <td id=\"T_188dd_row13_col17\" class=\"data row13 col17\" >-0.009277</td>\n",
              "      <td id=\"T_188dd_row13_col18\" class=\"data row13 col18\" >0.035496</td>\n",
              "    </tr>\n",
              "    <tr>\n",
              "      <th id=\"T_188dd_level0_row14\" class=\"row_heading level0 row14\" >Total intl minutes</th>\n",
              "      <td id=\"T_188dd_row14_col0\" class=\"data row14 col0\" >0.009514</td>\n",
              "      <td id=\"T_188dd_row14_col1\" class=\"data row14 col1\" >-0.018288</td>\n",
              "      <td id=\"T_188dd_row14_col2\" class=\"data row14 col2\" >0.045871</td>\n",
              "      <td id=\"T_188dd_row14_col3\" class=\"data row14 col3\" >-0.001318</td>\n",
              "      <td id=\"T_188dd_row14_col4\" class=\"data row14 col4\" >0.002856</td>\n",
              "      <td id=\"T_188dd_row14_col5\" class=\"data row14 col5\" >-0.010155</td>\n",
              "      <td id=\"T_188dd_row14_col6\" class=\"data row14 col6\" >0.021565</td>\n",
              "      <td id=\"T_188dd_row14_col7\" class=\"data row14 col7\" >-0.010157</td>\n",
              "      <td id=\"T_188dd_row14_col8\" class=\"data row14 col8\" >-0.011035</td>\n",
              "      <td id=\"T_188dd_row14_col9\" class=\"data row14 col9\" >0.008703</td>\n",
              "      <td id=\"T_188dd_row14_col10\" class=\"data row14 col10\" >-0.011043</td>\n",
              "      <td id=\"T_188dd_row14_col11\" class=\"data row14 col11\" >-0.015207</td>\n",
              "      <td id=\"T_188dd_row14_col12\" class=\"data row14 col12\" >-0.013605</td>\n",
              "      <td id=\"T_188dd_row14_col13\" class=\"data row14 col13\" >-0.015214</td>\n",
              "      <td id=\"T_188dd_row14_col14\" class=\"data row14 col14\" >1.000000</td>\n",
              "      <td id=\"T_188dd_row14_col15\" class=\"data row14 col15\" >0.032304</td>\n",
              "      <td id=\"T_188dd_row14_col16\" class=\"data row14 col16\" >0.999993</td>\n",
              "      <td id=\"T_188dd_row14_col17\" class=\"data row14 col17\" >-0.009640</td>\n",
              "      <td id=\"T_188dd_row14_col18\" class=\"data row14 col18\" >0.068239</td>\n",
              "    </tr>\n",
              "    <tr>\n",
              "      <th id=\"T_188dd_level0_row15\" class=\"row_heading level0 row15\" >Total intl calls</th>\n",
              "      <td id=\"T_188dd_row15_col0\" class=\"data row15 col0\" >0.020661</td>\n",
              "      <td id=\"T_188dd_row15_col1\" class=\"data row15 col1\" >-0.024179</td>\n",
              "      <td id=\"T_188dd_row15_col2\" class=\"data row15 col2\" >0.017366</td>\n",
              "      <td id=\"T_188dd_row15_col3\" class=\"data row15 col3\" >0.007618</td>\n",
              "      <td id=\"T_188dd_row15_col4\" class=\"data row15 col4\" >0.013957</td>\n",
              "      <td id=\"T_188dd_row15_col5\" class=\"data row15 col5\" >0.008033</td>\n",
              "      <td id=\"T_188dd_row15_col6\" class=\"data row15 col6\" >0.004574</td>\n",
              "      <td id=\"T_188dd_row15_col7\" class=\"data row15 col7\" >0.008032</td>\n",
              "      <td id=\"T_188dd_row15_col8\" class=\"data row15 col8\" >0.002541</td>\n",
              "      <td id=\"T_188dd_row15_col9\" class=\"data row15 col9\" >0.017434</td>\n",
              "      <td id=\"T_188dd_row15_col10\" class=\"data row15 col10\" >0.002541</td>\n",
              "      <td id=\"T_188dd_row15_col11\" class=\"data row15 col11\" >-0.012353</td>\n",
              "      <td id=\"T_188dd_row15_col12\" class=\"data row15 col12\" >0.000305</td>\n",
              "      <td id=\"T_188dd_row15_col13\" class=\"data row15 col13\" >-0.012329</td>\n",
              "      <td id=\"T_188dd_row15_col14\" class=\"data row15 col14\" >0.032304</td>\n",
              "      <td id=\"T_188dd_row15_col15\" class=\"data row15 col15\" >1.000000</td>\n",
              "      <td id=\"T_188dd_row15_col16\" class=\"data row15 col16\" >0.032372</td>\n",
              "      <td id=\"T_188dd_row15_col17\" class=\"data row15 col17\" >-0.017561</td>\n",
              "      <td id=\"T_188dd_row15_col18\" class=\"data row15 col18\" >-0.052844</td>\n",
              "    </tr>\n",
              "    <tr>\n",
              "      <th id=\"T_188dd_level0_row16\" class=\"row_heading level0 row16\" >Total intl charge</th>\n",
              "      <td id=\"T_188dd_row16_col0\" class=\"data row16 col0\" >0.009546</td>\n",
              "      <td id=\"T_188dd_row16_col1\" class=\"data row16 col1\" >-0.018395</td>\n",
              "      <td id=\"T_188dd_row16_col2\" class=\"data row16 col2\" >0.045780</td>\n",
              "      <td id=\"T_188dd_row16_col3\" class=\"data row16 col3\" >-0.001276</td>\n",
              "      <td id=\"T_188dd_row16_col4\" class=\"data row16 col4\" >0.002884</td>\n",
              "      <td id=\"T_188dd_row16_col5\" class=\"data row16 col5\" >-0.010092</td>\n",
              "      <td id=\"T_188dd_row16_col6\" class=\"data row16 col6\" >0.021666</td>\n",
              "      <td id=\"T_188dd_row16_col7\" class=\"data row16 col7\" >-0.010094</td>\n",
              "      <td id=\"T_188dd_row16_col8\" class=\"data row16 col8\" >-0.011067</td>\n",
              "      <td id=\"T_188dd_row16_col9\" class=\"data row16 col9\" >0.008674</td>\n",
              "      <td id=\"T_188dd_row16_col10\" class=\"data row16 col10\" >-0.011074</td>\n",
              "      <td id=\"T_188dd_row16_col11\" class=\"data row16 col11\" >-0.015180</td>\n",
              "      <td id=\"T_188dd_row16_col12\" class=\"data row16 col12\" >-0.013630</td>\n",
              "      <td id=\"T_188dd_row16_col13\" class=\"data row16 col13\" >-0.015186</td>\n",
              "      <td id=\"T_188dd_row16_col14\" class=\"data row16 col14\" >0.999993</td>\n",
              "      <td id=\"T_188dd_row16_col15\" class=\"data row16 col15\" >0.032372</td>\n",
              "      <td id=\"T_188dd_row16_col16\" class=\"data row16 col16\" >1.000000</td>\n",
              "      <td id=\"T_188dd_row16_col17\" class=\"data row16 col17\" >-0.009675</td>\n",
              "      <td id=\"T_188dd_row16_col18\" class=\"data row16 col18\" >0.068259</td>\n",
              "    </tr>\n",
              "    <tr>\n",
              "      <th id=\"T_188dd_level0_row17\" class=\"row_heading level0 row17\" >Customer service calls</th>\n",
              "      <td id=\"T_188dd_row17_col0\" class=\"data row17 col0\" >-0.003796</td>\n",
              "      <td id=\"T_188dd_row17_col1\" class=\"data row17 col1\" >0.027572</td>\n",
              "      <td id=\"T_188dd_row17_col2\" class=\"data row17 col2\" >-0.024522</td>\n",
              "      <td id=\"T_188dd_row17_col3\" class=\"data row17 col3\" >-0.017824</td>\n",
              "      <td id=\"T_188dd_row17_col4\" class=\"data row17 col4\" >-0.013263</td>\n",
              "      <td id=\"T_188dd_row17_col5\" class=\"data row17 col5\" >-0.013423</td>\n",
              "      <td id=\"T_188dd_row17_col6\" class=\"data row17 col6\" >-0.018942</td>\n",
              "      <td id=\"T_188dd_row17_col7\" class=\"data row17 col7\" >-0.013427</td>\n",
              "      <td id=\"T_188dd_row17_col8\" class=\"data row17 col8\" >-0.012985</td>\n",
              "      <td id=\"T_188dd_row17_col9\" class=\"data row17 col9\" >0.002423</td>\n",
              "      <td id=\"T_188dd_row17_col10\" class=\"data row17 col10\" >-0.012987</td>\n",
              "      <td id=\"T_188dd_row17_col11\" class=\"data row17 col11\" >-0.009288</td>\n",
              "      <td id=\"T_188dd_row17_col12\" class=\"data row17 col12\" >-0.012802</td>\n",
              "      <td id=\"T_188dd_row17_col13\" class=\"data row17 col13\" >-0.009277</td>\n",
              "      <td id=\"T_188dd_row17_col14\" class=\"data row17 col14\" >-0.009640</td>\n",
              "      <td id=\"T_188dd_row17_col15\" class=\"data row17 col15\" >-0.017561</td>\n",
              "      <td id=\"T_188dd_row17_col16\" class=\"data row17 col16\" >-0.009675</td>\n",
              "      <td id=\"T_188dd_row17_col17\" class=\"data row17 col17\" >1.000000</td>\n",
              "      <td id=\"T_188dd_row17_col18\" class=\"data row17 col18\" >0.208750</td>\n",
              "    </tr>\n",
              "    <tr>\n",
              "      <th id=\"T_188dd_level0_row18\" class=\"row_heading level0 row18\" >Churn</th>\n",
              "      <td id=\"T_188dd_row18_col0\" class=\"data row18 col0\" >0.016541</td>\n",
              "      <td id=\"T_188dd_row18_col1\" class=\"data row18 col1\" >0.006174</td>\n",
              "      <td id=\"T_188dd_row18_col2\" class=\"data row18 col2\" >0.259852</td>\n",
              "      <td id=\"T_188dd_row18_col3\" class=\"data row18 col3\" >-0.102148</td>\n",
              "      <td id=\"T_188dd_row18_col4\" class=\"data row18 col4\" >-0.089728</td>\n",
              "      <td id=\"T_188dd_row18_col5\" class=\"data row18 col5\" >0.205151</td>\n",
              "      <td id=\"T_188dd_row18_col6\" class=\"data row18 col6\" >0.018459</td>\n",
              "      <td id=\"T_188dd_row18_col7\" class=\"data row18 col7\" >0.205151</td>\n",
              "      <td id=\"T_188dd_row18_col8\" class=\"data row18 col8\" >0.092796</td>\n",
              "      <td id=\"T_188dd_row18_col9\" class=\"data row18 col9\" >0.009233</td>\n",
              "      <td id=\"T_188dd_row18_col10\" class=\"data row18 col10\" >0.092786</td>\n",
              "      <td id=\"T_188dd_row18_col11\" class=\"data row18 col11\" >0.035493</td>\n",
              "      <td id=\"T_188dd_row18_col12\" class=\"data row18 col12\" >0.006141</td>\n",
              "      <td id=\"T_188dd_row18_col13\" class=\"data row18 col13\" >0.035496</td>\n",
              "      <td id=\"T_188dd_row18_col14\" class=\"data row18 col14\" >0.068239</td>\n",
              "      <td id=\"T_188dd_row18_col15\" class=\"data row18 col15\" >-0.052844</td>\n",
              "      <td id=\"T_188dd_row18_col16\" class=\"data row18 col16\" >0.068259</td>\n",
              "      <td id=\"T_188dd_row18_col17\" class=\"data row18 col17\" >0.208750</td>\n",
              "      <td id=\"T_188dd_row18_col18\" class=\"data row18 col18\" >1.000000</td>\n",
              "    </tr>\n",
              "  </tbody>\n",
              "</table>\n"
            ]
          },
          "metadata": {},
          "execution_count": 27
        }
      ],
      "source": [
        "corr = tc.corr()\n",
        "corr.style.background_gradient(cmap='coolwarm')"
      ]
    },
    {
      "cell_type": "markdown",
      "source": [
        "Из пар Total minutes и charge оставим только минуты (все по два столбца фактически повторяют друг друга), также удалим Number vmail messages, он сильно коррелирует с Voice mail plan."
      ],
      "metadata": {
        "id": "Wukf7gSPJJlq"
      }
    },
    {
      "cell_type": "code",
      "execution_count": null,
      "metadata": {
        "id": "uGwSH6gHn65C"
      },
      "outputs": [],
      "source": [
        "newtc = tc.drop(\"Total day charge\", axis = 1).drop(\"Total night charge\", axis = 1).drop(\"Total intl charge\", axis = 1).drop(\"Total eve charge\", axis = 1).drop(\"Voice mail plan\", axis = 1)"
      ]
    },
    {
      "cell_type": "code",
      "execution_count": null,
      "metadata": {
        "colab": {
          "base_uri": "https://localhost:8080/",
          "height": 189
        },
        "id": "8Y_udZqTpzcB",
        "outputId": "46130faf-b97f-4cbd-8502-0350cb93dc51"
      },
      "outputs": [
        {
          "output_type": "error",
          "ename": "NameError",
          "evalue": "ignored",
          "traceback": [
            "\u001b[0;31m---------------------------------------------------------------------------\u001b[0m",
            "\u001b[0;31mNameError\u001b[0m                                 Traceback (most recent call last)",
            "\u001b[0;32m<ipython-input-1-9dbd400d1372>\u001b[0m in \u001b[0;36m<cell line: 1>\u001b[0;34m()\u001b[0m\n\u001b[0;32m----> 1\u001b[0;31m \u001b[0mcorr\u001b[0m \u001b[0;34m=\u001b[0m \u001b[0mnewtc\u001b[0m\u001b[0;34m.\u001b[0m\u001b[0mcorr\u001b[0m\u001b[0;34m(\u001b[0m\u001b[0;34m)\u001b[0m\u001b[0;34m\u001b[0m\u001b[0;34m\u001b[0m\u001b[0m\n\u001b[0m\u001b[1;32m      2\u001b[0m \u001b[0mcorr\u001b[0m\u001b[0;34m.\u001b[0m\u001b[0mstyle\u001b[0m\u001b[0;34m.\u001b[0m\u001b[0mbackground_gradient\u001b[0m\u001b[0;34m(\u001b[0m\u001b[0mcmap\u001b[0m\u001b[0;34m=\u001b[0m\u001b[0;34m'coolwarm'\u001b[0m\u001b[0;34m)\u001b[0m\u001b[0;34m\u001b[0m\u001b[0;34m\u001b[0m\u001b[0m\n",
            "\u001b[0;31mNameError\u001b[0m: name 'newtc' is not defined"
          ]
        }
      ],
      "source": [
        "corr = newtc.corr()\n",
        "corr.style.background_gradient(cmap='coolwarm')"
      ]
    },
    {
      "cell_type": "markdown",
      "source": [
        "Также удалим Area code и Account length, а также Total day calls, Total eve calls и Total night calls которые очень слабо коррелируют с целевой переменной."
      ],
      "metadata": {
        "id": "_wWuedzhJx1i"
      }
    },
    {
      "cell_type": "code",
      "execution_count": null,
      "metadata": {
        "id": "XpXV0r-ap1m1"
      },
      "outputs": [],
      "source": [
        "newtc = newtc.drop(\"Area code\", axis = 1).drop(\"Account length\", axis = 1).drop(\"Total day calls\", axis = 1).drop(\"Total eve calls\", axis = 1).drop(\"Total night calls\", axis = 1)"
      ]
    },
    {
      "cell_type": "markdown",
      "source": [
        "# **Задание C** #"
      ],
      "metadata": {
        "id": "lZf-kj0xJ906"
      }
    },
    {
      "cell_type": "code",
      "source": [
        "X = newtc.drop(\"Churn\", axis = 1)\n",
        "\n",
        "X1 = pd.get_dummies(X[\"State\"].values)\n",
        "X = X1.join(X).drop(\"State\", axis = 1)"
      ],
      "metadata": {
        "id": "B3RQ6cK_4W52"
      },
      "execution_count": null,
      "outputs": []
    },
    {
      "cell_type": "code",
      "source": [
        "from sklearn.pipeline import make_pipeline\n",
        "pipeline2 = make_pipeline(StandardScaler(), PolynomialFeatures(2),\n",
        "    GridSearchCV(LogisticRegression(max_iter=10000), param_grid={\"C\": [0.01, 0.1, 1, 10, 100]}, scoring='f1', cv=5))\n",
        "\n",
        "pipeline2.fit(Xtrain, ytrain)"
      ],
      "metadata": {
        "colab": {
          "base_uri": "https://localhost:8080/",
          "height": 288
        },
        "id": "z1gfpGqj8t8y",
        "outputId": "1ca07814-90d8-4f8c-ce76-ab4ea1771534"
      },
      "execution_count": null,
      "outputs": [
        {
          "output_type": "execute_result",
          "data": {
            "text/plain": [
              "Pipeline(steps=[('standardscaler', StandardScaler()),\n",
              "                ('polynomialfeatures', PolynomialFeatures()),\n",
              "                ('gridsearchcv',\n",
              "                 GridSearchCV(cv=5,\n",
              "                              estimator=LogisticRegression(max_iter=10000),\n",
              "                              param_grid={'C': [0.01, 0.1, 1, 10, 100]},\n",
              "                              scoring='f1'))])"
            ],
            "text/html": [
              "<style>#sk-container-id-4 {color: black;background-color: white;}#sk-container-id-4 pre{padding: 0;}#sk-container-id-4 div.sk-toggleable {background-color: white;}#sk-container-id-4 label.sk-toggleable__label {cursor: pointer;display: block;width: 100%;margin-bottom: 0;padding: 0.3em;box-sizing: border-box;text-align: center;}#sk-container-id-4 label.sk-toggleable__label-arrow:before {content: \"▸\";float: left;margin-right: 0.25em;color: #696969;}#sk-container-id-4 label.sk-toggleable__label-arrow:hover:before {color: black;}#sk-container-id-4 div.sk-estimator:hover label.sk-toggleable__label-arrow:before {color: black;}#sk-container-id-4 div.sk-toggleable__content {max-height: 0;max-width: 0;overflow: hidden;text-align: left;background-color: #f0f8ff;}#sk-container-id-4 div.sk-toggleable__content pre {margin: 0.2em;color: black;border-radius: 0.25em;background-color: #f0f8ff;}#sk-container-id-4 input.sk-toggleable__control:checked~div.sk-toggleable__content {max-height: 200px;max-width: 100%;overflow: auto;}#sk-container-id-4 input.sk-toggleable__control:checked~label.sk-toggleable__label-arrow:before {content: \"▾\";}#sk-container-id-4 div.sk-estimator input.sk-toggleable__control:checked~label.sk-toggleable__label {background-color: #d4ebff;}#sk-container-id-4 div.sk-label input.sk-toggleable__control:checked~label.sk-toggleable__label {background-color: #d4ebff;}#sk-container-id-4 input.sk-hidden--visually {border: 0;clip: rect(1px 1px 1px 1px);clip: rect(1px, 1px, 1px, 1px);height: 1px;margin: -1px;overflow: hidden;padding: 0;position: absolute;width: 1px;}#sk-container-id-4 div.sk-estimator {font-family: monospace;background-color: #f0f8ff;border: 1px dotted black;border-radius: 0.25em;box-sizing: border-box;margin-bottom: 0.5em;}#sk-container-id-4 div.sk-estimator:hover {background-color: #d4ebff;}#sk-container-id-4 div.sk-parallel-item::after {content: \"\";width: 100%;border-bottom: 1px solid gray;flex-grow: 1;}#sk-container-id-4 div.sk-label:hover label.sk-toggleable__label {background-color: #d4ebff;}#sk-container-id-4 div.sk-serial::before {content: \"\";position: absolute;border-left: 1px solid gray;box-sizing: border-box;top: 0;bottom: 0;left: 50%;z-index: 0;}#sk-container-id-4 div.sk-serial {display: flex;flex-direction: column;align-items: center;background-color: white;padding-right: 0.2em;padding-left: 0.2em;position: relative;}#sk-container-id-4 div.sk-item {position: relative;z-index: 1;}#sk-container-id-4 div.sk-parallel {display: flex;align-items: stretch;justify-content: center;background-color: white;position: relative;}#sk-container-id-4 div.sk-item::before, #sk-container-id-4 div.sk-parallel-item::before {content: \"\";position: absolute;border-left: 1px solid gray;box-sizing: border-box;top: 0;bottom: 0;left: 50%;z-index: -1;}#sk-container-id-4 div.sk-parallel-item {display: flex;flex-direction: column;z-index: 1;position: relative;background-color: white;}#sk-container-id-4 div.sk-parallel-item:first-child::after {align-self: flex-end;width: 50%;}#sk-container-id-4 div.sk-parallel-item:last-child::after {align-self: flex-start;width: 50%;}#sk-container-id-4 div.sk-parallel-item:only-child::after {width: 0;}#sk-container-id-4 div.sk-dashed-wrapped {border: 1px dashed gray;margin: 0 0.4em 0.5em 0.4em;box-sizing: border-box;padding-bottom: 0.4em;background-color: white;}#sk-container-id-4 div.sk-label label {font-family: monospace;font-weight: bold;display: inline-block;line-height: 1.2em;}#sk-container-id-4 div.sk-label-container {text-align: center;}#sk-container-id-4 div.sk-container {/* jupyter's `normalize.less` sets `[hidden] { display: none; }` but bootstrap.min.css set `[hidden] { display: none !important; }` so we also need the `!important` here to be able to override the default hidden behavior on the sphinx rendered scikit-learn.org. See: https://github.com/scikit-learn/scikit-learn/issues/21755 */display: inline-block !important;position: relative;}#sk-container-id-4 div.sk-text-repr-fallback {display: none;}</style><div id=\"sk-container-id-4\" class=\"sk-top-container\"><div class=\"sk-text-repr-fallback\"><pre>Pipeline(steps=[(&#x27;standardscaler&#x27;, StandardScaler()),\n",
              "                (&#x27;polynomialfeatures&#x27;, PolynomialFeatures()),\n",
              "                (&#x27;gridsearchcv&#x27;,\n",
              "                 GridSearchCV(cv=5,\n",
              "                              estimator=LogisticRegression(max_iter=10000),\n",
              "                              param_grid={&#x27;C&#x27;: [0.01, 0.1, 1, 10, 100]},\n",
              "                              scoring=&#x27;f1&#x27;))])</pre><b>In a Jupyter environment, please rerun this cell to show the HTML representation or trust the notebook. <br />On GitHub, the HTML representation is unable to render, please try loading this page with nbviewer.org.</b></div><div class=\"sk-container\" hidden><div class=\"sk-item sk-dashed-wrapped\"><div class=\"sk-label-container\"><div class=\"sk-label sk-toggleable\"><input class=\"sk-toggleable__control sk-hidden--visually\" id=\"sk-estimator-id-12\" type=\"checkbox\" ><label for=\"sk-estimator-id-12\" class=\"sk-toggleable__label sk-toggleable__label-arrow\">Pipeline</label><div class=\"sk-toggleable__content\"><pre>Pipeline(steps=[(&#x27;standardscaler&#x27;, StandardScaler()),\n",
              "                (&#x27;polynomialfeatures&#x27;, PolynomialFeatures()),\n",
              "                (&#x27;gridsearchcv&#x27;,\n",
              "                 GridSearchCV(cv=5,\n",
              "                              estimator=LogisticRegression(max_iter=10000),\n",
              "                              param_grid={&#x27;C&#x27;: [0.01, 0.1, 1, 10, 100]},\n",
              "                              scoring=&#x27;f1&#x27;))])</pre></div></div></div><div class=\"sk-serial\"><div class=\"sk-item\"><div class=\"sk-estimator sk-toggleable\"><input class=\"sk-toggleable__control sk-hidden--visually\" id=\"sk-estimator-id-13\" type=\"checkbox\" ><label for=\"sk-estimator-id-13\" class=\"sk-toggleable__label sk-toggleable__label-arrow\">StandardScaler</label><div class=\"sk-toggleable__content\"><pre>StandardScaler()</pre></div></div></div><div class=\"sk-item\"><div class=\"sk-estimator sk-toggleable\"><input class=\"sk-toggleable__control sk-hidden--visually\" id=\"sk-estimator-id-14\" type=\"checkbox\" ><label for=\"sk-estimator-id-14\" class=\"sk-toggleable__label sk-toggleable__label-arrow\">PolynomialFeatures</label><div class=\"sk-toggleable__content\"><pre>PolynomialFeatures()</pre></div></div></div><div class=\"sk-item sk-dashed-wrapped\"><div class=\"sk-label-container\"><div class=\"sk-label sk-toggleable\"><input class=\"sk-toggleable__control sk-hidden--visually\" id=\"sk-estimator-id-15\" type=\"checkbox\" ><label for=\"sk-estimator-id-15\" class=\"sk-toggleable__label sk-toggleable__label-arrow\">gridsearchcv: GridSearchCV</label><div class=\"sk-toggleable__content\"><pre>GridSearchCV(cv=5, estimator=LogisticRegression(max_iter=10000),\n",
              "             param_grid={&#x27;C&#x27;: [0.01, 0.1, 1, 10, 100]}, scoring=&#x27;f1&#x27;)</pre></div></div></div><div class=\"sk-parallel\"><div class=\"sk-parallel-item\"><div class=\"sk-item\"><div class=\"sk-label-container\"><div class=\"sk-label sk-toggleable\"><input class=\"sk-toggleable__control sk-hidden--visually\" id=\"sk-estimator-id-16\" type=\"checkbox\" ><label for=\"sk-estimator-id-16\" class=\"sk-toggleable__label sk-toggleable__label-arrow\">estimator: LogisticRegression</label><div class=\"sk-toggleable__content\"><pre>LogisticRegression(max_iter=10000)</pre></div></div></div><div class=\"sk-serial\"><div class=\"sk-item\"><div class=\"sk-estimator sk-toggleable\"><input class=\"sk-toggleable__control sk-hidden--visually\" id=\"sk-estimator-id-17\" type=\"checkbox\" ><label for=\"sk-estimator-id-17\" class=\"sk-toggleable__label sk-toggleable__label-arrow\">LogisticRegression</label><div class=\"sk-toggleable__content\"><pre>LogisticRegression(max_iter=10000)</pre></div></div></div></div></div></div></div></div></div></div></div></div>"
            ]
          },
          "metadata": {},
          "execution_count": 32
        }
      ]
    },
    {
      "cell_type": "code",
      "source": [
        "print(\"train:\", classification_report(ytrain, pipeline.predict(Xtrain)), \"\\ntest:\", classification_report(ytest, pipeline.predict(Xtest)))"
      ],
      "metadata": {
        "colab": {
          "base_uri": "https://localhost:8080/"
        },
        "id": "5RRHZW7P-AJ6",
        "outputId": "ae84208a-eea4-44e2-e3d1-50814bb5684a"
      },
      "execution_count": null,
      "outputs": [
        {
          "output_type": "stream",
          "name": "stdout",
          "text": [
            "train:               precision    recall  f1-score   support\n",
            "\n",
            "           0       0.95      0.78      0.86      1993\n",
            "           1       0.37      0.77      0.50       340\n",
            "\n",
            "    accuracy                           0.78      2333\n",
            "   macro avg       0.66      0.77      0.68      2333\n",
            "weighted avg       0.87      0.78      0.81      2333\n",
            " \n",
            "test:               precision    recall  f1-score   support\n",
            "\n",
            "           0       0.95      0.75      0.84       857\n",
            "           1       0.34      0.76      0.47       143\n",
            "\n",
            "    accuracy                           0.76      1000\n",
            "   macro avg       0.64      0.76      0.65      1000\n",
            "weighted avg       0.86      0.76      0.79      1000\n",
            "\n"
          ]
        }
      ]
    },
    {
      "cell_type": "code",
      "source": [
        "print(\"F1-score:\", \"\\ntrain:\", f(ytrain, pipeline2.predict(Xtrain)), \"\\ntest:\", f(ytest, pipeline2.predict(Xtest)))\n",
        "print(\"\\n\\nROC-AUC:\", \"\\ntrain:\", ra(ytrain, pipeline2.predict(Xtrain)), \"\\ntest:\", ra(ytest, pipeline2.predict(Xtest)))"
      ],
      "metadata": {
        "id": "Wr_g6tzvMohl",
        "colab": {
          "base_uri": "https://localhost:8080/"
        },
        "outputId": "f64aa7b6-d7c9-4628-84ba-422c47e10811"
      },
      "execution_count": null,
      "outputs": [
        {
          "output_type": "stream",
          "name": "stdout",
          "text": [
            "F1-score: \n",
            "train: 0.8813008130081301 \n",
            "test: 0.5043478260869565\n",
            "\n",
            "\n",
            "ROC-AUC: \n",
            "train: 0.8975258994716803 \n",
            "test: 0.6858777162161059\n"
          ]
        }
      ]
    },
    {
      "cell_type": "markdown",
      "source": [
        "Модель оооооочень сильно переобучилась, но! По сравнению с остальными моделями качество на тесте лучше)))"
      ],
      "metadata": {
        "id": "FngxdcmvgS36"
      }
    },
    {
      "cell_type": "code",
      "source": [
        "from sklearn.pipeline import make_pipeline\n",
        "pipeline3 = make_pipeline(StandardScaler(), PolynomialFeatures(3),\n",
        "    GridSearchCV(LogisticRegression(), param_grid={\"C\": [0.01, 0.1, 1, 10, 100]}, scoring='f1', cv=5))\n",
        "\n",
        "pipeline3.fit(Xtrain, ytrain)\n",
        "\n",
        "print(\"train:\", classification_report(ytrain, pipeline3.predict(Xtrain)), \"\\ntest:\", classification_report(ytest, pipeline3.predict(Xtest)))"
      ],
      "metadata": {
        "colab": {
          "base_uri": "https://localhost:8080/"
        },
        "id": "b5NWxM_9aYTg",
        "outputId": "4fdc0975-8560-4b03-dc8c-9f2637cf8014"
      },
      "execution_count": null,
      "outputs": [
        {
          "output_type": "stream",
          "name": "stderr",
          "text": [
            "/usr/local/lib/python3.9/dist-packages/sklearn/linear_model/_logistic.py:458: ConvergenceWarning: lbfgs failed to converge (status=1):\n",
            "STOP: TOTAL NO. of ITERATIONS REACHED LIMIT.\n",
            "\n",
            "Increase the number of iterations (max_iter) or scale the data as shown in:\n",
            "    https://scikit-learn.org/stable/modules/preprocessing.html\n",
            "Please also refer to the documentation for alternative solver options:\n",
            "    https://scikit-learn.org/stable/modules/linear_model.html#logistic-regression\n",
            "  n_iter_i = _check_optimize_result(\n",
            "/usr/local/lib/python3.9/dist-packages/sklearn/linear_model/_logistic.py:458: ConvergenceWarning: lbfgs failed to converge (status=1):\n",
            "STOP: TOTAL NO. of ITERATIONS REACHED LIMIT.\n",
            "\n",
            "Increase the number of iterations (max_iter) or scale the data as shown in:\n",
            "    https://scikit-learn.org/stable/modules/preprocessing.html\n",
            "Please also refer to the documentation for alternative solver options:\n",
            "    https://scikit-learn.org/stable/modules/linear_model.html#logistic-regression\n",
            "  n_iter_i = _check_optimize_result(\n",
            "/usr/local/lib/python3.9/dist-packages/sklearn/linear_model/_logistic.py:458: ConvergenceWarning: lbfgs failed to converge (status=1):\n",
            "STOP: TOTAL NO. of ITERATIONS REACHED LIMIT.\n",
            "\n",
            "Increase the number of iterations (max_iter) or scale the data as shown in:\n",
            "    https://scikit-learn.org/stable/modules/preprocessing.html\n",
            "Please also refer to the documentation for alternative solver options:\n",
            "    https://scikit-learn.org/stable/modules/linear_model.html#logistic-regression\n",
            "  n_iter_i = _check_optimize_result(\n",
            "/usr/local/lib/python3.9/dist-packages/sklearn/linear_model/_logistic.py:458: ConvergenceWarning: lbfgs failed to converge (status=1):\n",
            "STOP: TOTAL NO. of ITERATIONS REACHED LIMIT.\n",
            "\n",
            "Increase the number of iterations (max_iter) or scale the data as shown in:\n",
            "    https://scikit-learn.org/stable/modules/preprocessing.html\n",
            "Please also refer to the documentation for alternative solver options:\n",
            "    https://scikit-learn.org/stable/modules/linear_model.html#logistic-regression\n",
            "  n_iter_i = _check_optimize_result(\n",
            "/usr/local/lib/python3.9/dist-packages/sklearn/linear_model/_logistic.py:458: ConvergenceWarning: lbfgs failed to converge (status=1):\n",
            "STOP: TOTAL NO. of ITERATIONS REACHED LIMIT.\n",
            "\n",
            "Increase the number of iterations (max_iter) or scale the data as shown in:\n",
            "    https://scikit-learn.org/stable/modules/preprocessing.html\n",
            "Please also refer to the documentation for alternative solver options:\n",
            "    https://scikit-learn.org/stable/modules/linear_model.html#logistic-regression\n",
            "  n_iter_i = _check_optimize_result(\n",
            "/usr/local/lib/python3.9/dist-packages/sklearn/linear_model/_logistic.py:458: ConvergenceWarning: lbfgs failed to converge (status=1):\n",
            "STOP: TOTAL NO. of ITERATIONS REACHED LIMIT.\n",
            "\n",
            "Increase the number of iterations (max_iter) or scale the data as shown in:\n",
            "    https://scikit-learn.org/stable/modules/preprocessing.html\n",
            "Please also refer to the documentation for alternative solver options:\n",
            "    https://scikit-learn.org/stable/modules/linear_model.html#logistic-regression\n",
            "  n_iter_i = _check_optimize_result(\n",
            "/usr/local/lib/python3.9/dist-packages/sklearn/linear_model/_logistic.py:458: ConvergenceWarning: lbfgs failed to converge (status=1):\n",
            "STOP: TOTAL NO. of ITERATIONS REACHED LIMIT.\n",
            "\n",
            "Increase the number of iterations (max_iter) or scale the data as shown in:\n",
            "    https://scikit-learn.org/stable/modules/preprocessing.html\n",
            "Please also refer to the documentation for alternative solver options:\n",
            "    https://scikit-learn.org/stable/modules/linear_model.html#logistic-regression\n",
            "  n_iter_i = _check_optimize_result(\n",
            "/usr/local/lib/python3.9/dist-packages/sklearn/linear_model/_logistic.py:458: ConvergenceWarning: lbfgs failed to converge (status=1):\n",
            "STOP: TOTAL NO. of ITERATIONS REACHED LIMIT.\n",
            "\n",
            "Increase the number of iterations (max_iter) or scale the data as shown in:\n",
            "    https://scikit-learn.org/stable/modules/preprocessing.html\n",
            "Please also refer to the documentation for alternative solver options:\n",
            "    https://scikit-learn.org/stable/modules/linear_model.html#logistic-regression\n",
            "  n_iter_i = _check_optimize_result(\n",
            "/usr/local/lib/python3.9/dist-packages/sklearn/linear_model/_logistic.py:458: ConvergenceWarning: lbfgs failed to converge (status=1):\n",
            "STOP: TOTAL NO. of ITERATIONS REACHED LIMIT.\n",
            "\n",
            "Increase the number of iterations (max_iter) or scale the data as shown in:\n",
            "    https://scikit-learn.org/stable/modules/preprocessing.html\n",
            "Please also refer to the documentation for alternative solver options:\n",
            "    https://scikit-learn.org/stable/modules/linear_model.html#logistic-regression\n",
            "  n_iter_i = _check_optimize_result(\n",
            "/usr/local/lib/python3.9/dist-packages/sklearn/linear_model/_logistic.py:458: ConvergenceWarning: lbfgs failed to converge (status=1):\n",
            "STOP: TOTAL NO. of ITERATIONS REACHED LIMIT.\n",
            "\n",
            "Increase the number of iterations (max_iter) or scale the data as shown in:\n",
            "    https://scikit-learn.org/stable/modules/preprocessing.html\n",
            "Please also refer to the documentation for alternative solver options:\n",
            "    https://scikit-learn.org/stable/modules/linear_model.html#logistic-regression\n",
            "  n_iter_i = _check_optimize_result(\n",
            "/usr/local/lib/python3.9/dist-packages/sklearn/linear_model/_logistic.py:458: ConvergenceWarning: lbfgs failed to converge (status=1):\n",
            "STOP: TOTAL NO. of ITERATIONS REACHED LIMIT.\n",
            "\n",
            "Increase the number of iterations (max_iter) or scale the data as shown in:\n",
            "    https://scikit-learn.org/stable/modules/preprocessing.html\n",
            "Please also refer to the documentation for alternative solver options:\n",
            "    https://scikit-learn.org/stable/modules/linear_model.html#logistic-regression\n",
            "  n_iter_i = _check_optimize_result(\n",
            "/usr/local/lib/python3.9/dist-packages/sklearn/linear_model/_logistic.py:458: ConvergenceWarning: lbfgs failed to converge (status=1):\n",
            "STOP: TOTAL NO. of ITERATIONS REACHED LIMIT.\n",
            "\n",
            "Increase the number of iterations (max_iter) or scale the data as shown in:\n",
            "    https://scikit-learn.org/stable/modules/preprocessing.html\n",
            "Please also refer to the documentation for alternative solver options:\n",
            "    https://scikit-learn.org/stable/modules/linear_model.html#logistic-regression\n",
            "  n_iter_i = _check_optimize_result(\n",
            "/usr/local/lib/python3.9/dist-packages/sklearn/linear_model/_logistic.py:458: ConvergenceWarning: lbfgs failed to converge (status=1):\n",
            "STOP: TOTAL NO. of ITERATIONS REACHED LIMIT.\n",
            "\n",
            "Increase the number of iterations (max_iter) or scale the data as shown in:\n",
            "    https://scikit-learn.org/stable/modules/preprocessing.html\n",
            "Please also refer to the documentation for alternative solver options:\n",
            "    https://scikit-learn.org/stable/modules/linear_model.html#logistic-regression\n",
            "  n_iter_i = _check_optimize_result(\n",
            "/usr/local/lib/python3.9/dist-packages/sklearn/linear_model/_logistic.py:458: ConvergenceWarning: lbfgs failed to converge (status=1):\n",
            "STOP: TOTAL NO. of ITERATIONS REACHED LIMIT.\n",
            "\n",
            "Increase the number of iterations (max_iter) or scale the data as shown in:\n",
            "    https://scikit-learn.org/stable/modules/preprocessing.html\n",
            "Please also refer to the documentation for alternative solver options:\n",
            "    https://scikit-learn.org/stable/modules/linear_model.html#logistic-regression\n",
            "  n_iter_i = _check_optimize_result(\n",
            "/usr/local/lib/python3.9/dist-packages/sklearn/linear_model/_logistic.py:458: ConvergenceWarning: lbfgs failed to converge (status=1):\n",
            "STOP: TOTAL NO. of ITERATIONS REACHED LIMIT.\n",
            "\n",
            "Increase the number of iterations (max_iter) or scale the data as shown in:\n",
            "    https://scikit-learn.org/stable/modules/preprocessing.html\n",
            "Please also refer to the documentation for alternative solver options:\n",
            "    https://scikit-learn.org/stable/modules/linear_model.html#logistic-regression\n",
            "  n_iter_i = _check_optimize_result(\n",
            "/usr/local/lib/python3.9/dist-packages/sklearn/linear_model/_logistic.py:458: ConvergenceWarning: lbfgs failed to converge (status=1):\n",
            "STOP: TOTAL NO. of ITERATIONS REACHED LIMIT.\n",
            "\n",
            "Increase the number of iterations (max_iter) or scale the data as shown in:\n",
            "    https://scikit-learn.org/stable/modules/preprocessing.html\n",
            "Please also refer to the documentation for alternative solver options:\n",
            "    https://scikit-learn.org/stable/modules/linear_model.html#logistic-regression\n",
            "  n_iter_i = _check_optimize_result(\n",
            "/usr/local/lib/python3.9/dist-packages/sklearn/linear_model/_logistic.py:458: ConvergenceWarning: lbfgs failed to converge (status=1):\n",
            "STOP: TOTAL NO. of ITERATIONS REACHED LIMIT.\n",
            "\n",
            "Increase the number of iterations (max_iter) or scale the data as shown in:\n",
            "    https://scikit-learn.org/stable/modules/preprocessing.html\n",
            "Please also refer to the documentation for alternative solver options:\n",
            "    https://scikit-learn.org/stable/modules/linear_model.html#logistic-regression\n",
            "  n_iter_i = _check_optimize_result(\n",
            "/usr/local/lib/python3.9/dist-packages/sklearn/linear_model/_logistic.py:458: ConvergenceWarning: lbfgs failed to converge (status=1):\n",
            "STOP: TOTAL NO. of ITERATIONS REACHED LIMIT.\n",
            "\n",
            "Increase the number of iterations (max_iter) or scale the data as shown in:\n",
            "    https://scikit-learn.org/stable/modules/preprocessing.html\n",
            "Please also refer to the documentation for alternative solver options:\n",
            "    https://scikit-learn.org/stable/modules/linear_model.html#logistic-regression\n",
            "  n_iter_i = _check_optimize_result(\n",
            "/usr/local/lib/python3.9/dist-packages/sklearn/linear_model/_logistic.py:458: ConvergenceWarning: lbfgs failed to converge (status=1):\n",
            "STOP: TOTAL NO. of ITERATIONS REACHED LIMIT.\n",
            "\n",
            "Increase the number of iterations (max_iter) or scale the data as shown in:\n",
            "    https://scikit-learn.org/stable/modules/preprocessing.html\n",
            "Please also refer to the documentation for alternative solver options:\n",
            "    https://scikit-learn.org/stable/modules/linear_model.html#logistic-regression\n",
            "  n_iter_i = _check_optimize_result(\n",
            "/usr/local/lib/python3.9/dist-packages/sklearn/linear_model/_logistic.py:458: ConvergenceWarning: lbfgs failed to converge (status=1):\n",
            "STOP: TOTAL NO. of ITERATIONS REACHED LIMIT.\n",
            "\n",
            "Increase the number of iterations (max_iter) or scale the data as shown in:\n",
            "    https://scikit-learn.org/stable/modules/preprocessing.html\n",
            "Please also refer to the documentation for alternative solver options:\n",
            "    https://scikit-learn.org/stable/modules/linear_model.html#logistic-regression\n",
            "  n_iter_i = _check_optimize_result(\n",
            "/usr/local/lib/python3.9/dist-packages/sklearn/linear_model/_logistic.py:458: ConvergenceWarning: lbfgs failed to converge (status=1):\n",
            "STOP: TOTAL NO. of ITERATIONS REACHED LIMIT.\n",
            "\n",
            "Increase the number of iterations (max_iter) or scale the data as shown in:\n",
            "    https://scikit-learn.org/stable/modules/preprocessing.html\n",
            "Please also refer to the documentation for alternative solver options:\n",
            "    https://scikit-learn.org/stable/modules/linear_model.html#logistic-regression\n",
            "  n_iter_i = _check_optimize_result(\n",
            "/usr/local/lib/python3.9/dist-packages/sklearn/linear_model/_logistic.py:458: ConvergenceWarning: lbfgs failed to converge (status=1):\n",
            "STOP: TOTAL NO. of ITERATIONS REACHED LIMIT.\n",
            "\n",
            "Increase the number of iterations (max_iter) or scale the data as shown in:\n",
            "    https://scikit-learn.org/stable/modules/preprocessing.html\n",
            "Please also refer to the documentation for alternative solver options:\n",
            "    https://scikit-learn.org/stable/modules/linear_model.html#logistic-regression\n",
            "  n_iter_i = _check_optimize_result(\n",
            "/usr/local/lib/python3.9/dist-packages/sklearn/linear_model/_logistic.py:458: ConvergenceWarning: lbfgs failed to converge (status=1):\n",
            "STOP: TOTAL NO. of ITERATIONS REACHED LIMIT.\n",
            "\n",
            "Increase the number of iterations (max_iter) or scale the data as shown in:\n",
            "    https://scikit-learn.org/stable/modules/preprocessing.html\n",
            "Please also refer to the documentation for alternative solver options:\n",
            "    https://scikit-learn.org/stable/modules/linear_model.html#logistic-regression\n",
            "  n_iter_i = _check_optimize_result(\n",
            "/usr/local/lib/python3.9/dist-packages/sklearn/linear_model/_logistic.py:458: ConvergenceWarning: lbfgs failed to converge (status=1):\n",
            "STOP: TOTAL NO. of ITERATIONS REACHED LIMIT.\n",
            "\n",
            "Increase the number of iterations (max_iter) or scale the data as shown in:\n",
            "    https://scikit-learn.org/stable/modules/preprocessing.html\n",
            "Please also refer to the documentation for alternative solver options:\n",
            "    https://scikit-learn.org/stable/modules/linear_model.html#logistic-regression\n",
            "  n_iter_i = _check_optimize_result(\n",
            "/usr/local/lib/python3.9/dist-packages/sklearn/linear_model/_logistic.py:458: ConvergenceWarning: lbfgs failed to converge (status=1):\n",
            "STOP: TOTAL NO. of ITERATIONS REACHED LIMIT.\n",
            "\n",
            "Increase the number of iterations (max_iter) or scale the data as shown in:\n",
            "    https://scikit-learn.org/stable/modules/preprocessing.html\n",
            "Please also refer to the documentation for alternative solver options:\n",
            "    https://scikit-learn.org/stable/modules/linear_model.html#logistic-regression\n",
            "  n_iter_i = _check_optimize_result(\n",
            "/usr/local/lib/python3.9/dist-packages/sklearn/linear_model/_logistic.py:458: ConvergenceWarning: lbfgs failed to converge (status=1):\n",
            "STOP: TOTAL NO. of ITERATIONS REACHED LIMIT.\n",
            "\n",
            "Increase the number of iterations (max_iter) or scale the data as shown in:\n",
            "    https://scikit-learn.org/stable/modules/preprocessing.html\n",
            "Please also refer to the documentation for alternative solver options:\n",
            "    https://scikit-learn.org/stable/modules/linear_model.html#logistic-regression\n",
            "  n_iter_i = _check_optimize_result(\n"
          ]
        },
        {
          "output_type": "stream",
          "name": "stdout",
          "text": [
            "train:               precision    recall  f1-score   support\n",
            "\n",
            "           0       1.00      1.00      1.00      1993\n",
            "           1       1.00      1.00      1.00       340\n",
            "\n",
            "    accuracy                           1.00      2333\n",
            "   macro avg       1.00      1.00      1.00      2333\n",
            "weighted avg       1.00      1.00      1.00      2333\n",
            " \n",
            "test:               precision    recall  f1-score   support\n",
            "\n",
            "           0       0.90      0.93      0.91       857\n",
            "           1       0.46      0.36      0.41       143\n",
            "\n",
            "    accuracy                           0.85      1000\n",
            "   macro avg       0.68      0.65      0.66      1000\n",
            "weighted avg       0.83      0.85      0.84      1000\n",
            "\n"
          ]
        }
      ]
    },
    {
      "cell_type": "code",
      "source": [
        "print(\"F1-score:\", \"\\ntrain:\", f(ytrain, pipeline3.predict(Xtrain)), \"\\ntest:\", f(ytest, pipeline3.predict(Xtest)))\n",
        "print(\"\\n\\nROC-AUC:\", \"\\ntrain:\", ra(ytrain, pipeline3.predict(Xtrain)), \"\\ntest:\", ra(ytest, pipeline3.predict(Xtest)))"
      ],
      "metadata": {
        "id": "1gZ_X1c-Mbvb",
        "colab": {
          "base_uri": "https://localhost:8080/"
        },
        "outputId": "f23c98bd-81d9-439d-da3c-ece856c1ae77"
      },
      "execution_count": null,
      "outputs": [
        {
          "output_type": "stream",
          "name": "stdout",
          "text": [
            "F1-score: \n",
            "train: 1.0 \n",
            "test: 0.40625000000000006\n",
            "\n",
            "\n",
            "ROC-AUC: \n",
            "train: 1.0 \n",
            "test: 0.6462289169407023\n"
          ]
        }
      ]
    },
    {
      "cell_type": "markdown",
      "source": [
        "Добавление признаков степени 3 только усилило переобучение и ухудшило качество на тесте."
      ],
      "metadata": {
        "id": "ythLPv8-lJfs"
      }
    },
    {
      "cell_type": "markdown",
      "source": [
        "# **Задание E** #"
      ],
      "metadata": {
        "id": "Jpl01GTcvUe0"
      }
    },
    {
      "cell_type": "markdown",
      "source": [
        "**a)** Вывод: обычная логистическая регрессия плохо решает задачу, SVC с линейным ядром спраляется куда лучше (f1 0.5 и 0.47 (на трейне и на тесте), а ROC-AUC так и вообще 0.77 и 0,76!). Интересная ситуация происходит при добавлении полиномиальных признаков степени 2: модель переобучается, качество на трейне взлетает, но на тесте оно примерно примерно такое же (чуть лучше относительно f1-score и средне хуже относительно ROC-AUC), как и при применении SVC.\n",
        "\n",
        "**Логистическая регрессия:**\n",
        "\n",
        "F1-score:\n",
        "train: 0.39014373716632444\n",
        "test: 0.3251231527093596\n",
        "\n",
        "\n",
        "ROC-AUC:\n",
        "train: 0.6266602225436085\n",
        "test: 0.5996319899470425\n",
        "\n",
        "**SVC:**\n",
        "\n",
        "F1-score:\n",
        "train: 0.5028790786948176\n",
        "test: 0.4685466377440347\n",
        "\n",
        "\n",
        "ROC-AUC:\n",
        "train: 0.774907765414244\n",
        "test: 0.755101957552366\n",
        "\n",
        "**polynomial(2):**\n",
        "\n",
        "F1-score:\n",
        "train: 0.8813008130081301\n",
        "test: 0.5043478260869565\n",
        "\n",
        "\n",
        "ROC-AUC:\n",
        "train: 0.8975258994716803\n",
        "test: 0.6858777162161059\n",
        "\n",
        "\n",
        "\n",
        "\n",
        "**b)** были добавлены полиномиальные признаки, удалены\n",
        "  1) слабокоррелирующие с целевой переменной признаки Area code и Account length, а также Total day calls, Total eve calls и Total night calls\n",
        "  2) сильнокррелирующие с другим признаком Total day charge, Total night charge, Total intl charge, Total eve charge, Voice mail plan.\n",
        "\n",
        "**c)** Да. Переобучение практически отсутствует при прирменении метода SCV: качество f1 на трейне и тесте 0.5 и 0,47 соответственно, а ROC-AUC так и вообще 0.77 и 0.76."
      ],
      "metadata": {
        "id": "Fc7LN0bpJDCp"
      }
    }
  ],
  "metadata": {
    "colab": {
      "provenance": []
    },
    "kernelspec": {
      "display_name": "Python 3",
      "name": "python3"
    },
    "language_info": {
      "name": "python"
    }
  },
  "nbformat": 4,
  "nbformat_minor": 0
}