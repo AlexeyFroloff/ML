{
  "nbformat": 4,
  "nbformat_minor": 0,
  "metadata": {
    "colab": {
      "provenance": []
    },
    "kernelspec": {
      "name": "python3",
      "display_name": "Python 3"
    },
    "language_info": {
      "name": "python"
    }
  },
  "cells": [
    {
      "cell_type": "code",
      "source": [
        "import numpy as np\n",
        "import pandas as pd\n",
        "import matplotlib.pyplot as plt"
      ],
      "metadata": {
        "id": "MwYZscycbF_M"
      },
      "execution_count": null,
      "outputs": []
    },
    {
      "cell_type": "markdown",
      "source": [
        "Задание 1.1 (0.5 балла) Пусть известно, что в вершину решающего дерева попали 10 объектов, 8 из которых имеют метку класса $k_1$, а 2 имеют метку класса $k_2$. Рассчитайте энтропию такого распределения классов (с натуральным логарифмом). Ответ округлите до двух знаков после запятой."
      ],
      "metadata": {
        "id": "Njniyjnpa2Hd"
      }
    },
    {
      "cell_type": "code",
      "execution_count": null,
      "metadata": {
        "colab": {
          "base_uri": "https://localhost:8080/"
        },
        "id": "z5urDaJ4Xl4t",
        "outputId": "b1dc8ea3-0297-4392-a799-bd06385d0e58"
      },
      "outputs": [
        {
          "output_type": "stream",
          "name": "stdout",
          "text": [
            "0.5004024235381879 〜> 0.5\n"
          ]
        }
      ],
      "source": [
        "import math\n",
        "arr = [2, 8]\n",
        "print(-sum(( el/sum(arr))*math.log(el/sum(arr)) for el in arr), '〜>', round(-sum(( el/sum(arr))*math.log(el/sum(arr)) for el in arr), 2) )\n"
      ]
    },
    {
      "cell_type": "code",
      "source": [
        "a = {\"a\", \"b\"}\n",
        "print(a[\"a\"])"
      ],
      "metadata": {
        "colab": {
          "base_uri": "https://localhost:8080/",
          "height": 224
        },
        "id": "ixxF2v5bm7LZ",
        "outputId": "51f9b8b2-c5c9-4efb-cf0e-66fcf0176fd3"
      },
      "execution_count": null,
      "outputs": [
        {
          "output_type": "error",
          "ename": "TypeError",
          "evalue": "ignored",
          "traceback": [
            "\u001b[0;31m---------------------------------------------------------------------------\u001b[0m",
            "\u001b[0;31mTypeError\u001b[0m                                 Traceback (most recent call last)",
            "\u001b[0;32m<ipython-input-1-c02feb060755>\u001b[0m in \u001b[0;36m<cell line: 2>\u001b[0;34m()\u001b[0m\n\u001b[1;32m      1\u001b[0m \u001b[0ma\u001b[0m \u001b[0;34m=\u001b[0m \u001b[0;34m{\u001b[0m\u001b[0;34m\"a\"\u001b[0m\u001b[0;34m,\u001b[0m \u001b[0;34m\"b\"\u001b[0m\u001b[0;34m}\u001b[0m\u001b[0;34m\u001b[0m\u001b[0;34m\u001b[0m\u001b[0m\n\u001b[0;32m----> 2\u001b[0;31m \u001b[0mprint\u001b[0m\u001b[0;34m(\u001b[0m\u001b[0ma\u001b[0m\u001b[0;34m[\u001b[0m\u001b[0;34m\"a\"\u001b[0m\u001b[0;34m]\u001b[0m\u001b[0;34m)\u001b[0m\u001b[0;34m\u001b[0m\u001b[0;34m\u001b[0m\u001b[0m\n\u001b[0m",
            "\u001b[0;31mTypeError\u001b[0m: 'set' object is not subscriptable"
          ]
        }
      ]
    },
    {
      "cell_type": "markdown",
      "source": [
        "Задание 1.2 (0.5 балла)\n",
        "Пусть дополнительно известно, что вершина из предыдущего задания не является листовой и возможно такое разбиение, что в левое поддерево попадут все объекты класса $k_1$, а в правое - класса $k_2$. Посчитайте критерий информативности:\n",
        "\n",
        "$\\Large Q(R_M, j, t) = H(R_M) - \\frac{\\left| R_l \\right|}{\\left| R_m \\right|} H(R_l) - \\frac{\\left| R_r \\right|}{\\left| R_m \\right|} H(R_r)$\n",
        "\n",
        "$\\Large H(R_M) = 0.8*0.2 + 0.2*0.8 = 0.32$\n",
        "\n",
        "$\\Large H(R_l) = H(R_l) = 1*0 = 0$\n",
        "\n",
        "ОТВЕТ:     $\\LARGE 0.32$"
      ],
      "metadata": {
        "id": "wSAC5NXRSxUV"
      }
    },
    {
      "cell_type": "markdown",
      "source": [
        "Задание 1.3 (0.5 балла)\n",
        "Пусть при построении дерева образовалась листовая вершина с 10 объектами, значения целевой переменной для которых следующие: $[1, 10, 5, 18, 100, 30, 50, 61, 84, 47]$ (решается задача регрессии). Чему будут равны предсказания модели для этих объектов?"
      ],
      "metadata": {
        "id": "2yU_j9KZfjKc"
      }
    },
    {
      "cell_type": "code",
      "source": [
        "a = np.array([1, 10, 5, 18, 100, 30, 50, 61, 84, 47])\n",
        "\n",
        "print(a.mean())"
      ],
      "metadata": {
        "colab": {
          "base_uri": "https://localhost:8080/"
        },
        "id": "AT7oHlRtfo5J",
        "outputId": "cf97ee96-aa83-4476-99e9-5b1a0becd3ac"
      },
      "execution_count": null,
      "outputs": [
        {
          "output_type": "stream",
          "name": "stdout",
          "text": [
            "40.6\n"
          ]
        }
      ]
    },
    {
      "cell_type": "markdown",
      "source": [
        "На лекции было, что это среднее значение целевых переменных объектов, попавших в лист."
      ],
      "metadata": {
        "id": "KknKmIvhtKF3"
      }
    },
    {
      "cell_type": "markdown",
      "source": [
        "# **Часть 2** #\n",
        "\n"
      ],
      "metadata": {
        "id": "dYBKus3iYFEv"
      }
    },
    {
      "cell_type": "markdown",
      "source": [
        "Задание 2.1"
      ],
      "metadata": {
        "id": "sVJgkFpnREeX"
      }
    },
    {
      "cell_type": "code",
      "source": [
        "from collections import Counter\n",
        "from typing import Dict, List, Tuple, Union"
      ],
      "metadata": {
        "id": "_UCnczIpnFxz"
      },
      "execution_count": null,
      "outputs": []
    },
    {
      "cell_type": "code",
      "source": [
        "def find_best_split(\n",
        "    feature_vector: Union[np.ndarray, pd.DataFrame],\n",
        "    target_vector: Union[np.ndarray, pd.Series],\n",
        "    task: str = \"classification\",\n",
        "    feature_type: str = \"real\"\n",
        ") -> Tuple[np.ndarray, np.ndarray, float, float]:\n",
        "    \"\"\"\n",
        "    Указания:\n",
        "    * Пороги, приводящие к попаданию в одно из поддеревьев пустого множества объектов, не рассматриваются.\n",
        "    * В качестве порогов, нужно брать среднее двух сосдених (при сортировке) значений признака\n",
        "    * Поведение функции в случае константного признака может быть любым.\n",
        "    * При одинаковых приростах Джини или дисперсии нужно выбирать минимальный сплит.\n",
        "    * За наличие в функции циклов балл будет снижен. Векторизуйте! :)\n",
        "\n",
        "    :param feature_vector: вещественнозначный вектор значений приif task знака\n",
        "    :param target_vector: вектор классов объектов,  len(feature_vector) == len(target_vector)\n",
        "    :param task: либо `classification`, либо `regression`\n",
        "    :param feature_type: либо `real`, либо `categorical`\n",
        "\n",
        "    :return thresholds: отсортированный по возрастанию вектор со всеми возможными порогами, по которым объекты можно\n",
        "     разделить на две различные подвыборки, или поддерева\n",
        "    :return ginis: вектор со значениями критерия Джини для каждого из порогов в thresholds len(ginis) == len(thresholds)\n",
        "    :return threshold_best: оптимальный порог (число)\n",
        "    :return gini_best: оптимальное значение критерия Джини (число)\n",
        "\n",
        "    в случае регрессии возвращаем не Джини, а дисперсию\n",
        "    \"\"\"\n",
        "\n",
        "\n",
        "    def disp(X):\n",
        "      return np.var(X)\n",
        "    def Gini(X):\n",
        "      size, count = len(X), np.unique(X, return_counts = True)[1]\n",
        "      return sum(count/size - (count/size)**2)\n",
        "\n",
        "    if isinstance(feature_vector, pd.DataFrame):\n",
        "        feature_vector = feature_vector.values\n",
        "\n",
        "    if isinstance(target_vector, pd.Series):\n",
        "        target_vector = target_vector.values\n",
        "\n",
        "    best_gini_value = np.inf\n",
        "    best_thres = None\n",
        "\n",
        "\n",
        "    indexs = np.argsort(feature_vector)\n",
        "    vector = feature_vector[indexs]\n",
        "    target = target_vector[indexs]\n",
        "\n",
        "\n",
        "\n",
        "    for i in range(len(vector)-1):\n",
        "      if feature_type == \"real\":\n",
        "        thres = 0.5*vector[i] + 0.5*vector[i+1]\n",
        "\n",
        "\n",
        "      elif feature_type == \"categorial\":\n",
        "        thres = vector[i+1]\n",
        "\n",
        "\n",
        "      l_ind = vector == (thres)\n",
        "\n",
        "\n",
        "      left = vector[l_ind]\n",
        "      right = vector[~l_ind]\n",
        "\n",
        "\n",
        "\n",
        "      if task == \"classification\":\n",
        "        Lgini = Gini(left)\n",
        "        Rgini = Gini(right)\n",
        "        gini_value = (Lgini*len(left) + Rgini*len(right))/(len(left)+len(right))\n",
        "      elif task == \"regression\":\n",
        "        Ldisp = disp(left)\n",
        "        Rdisp = disp(right)\n",
        "        gini_value = (Ldisp*len(left) + Rdisp*len(right))/(len(left)+len(right))\n",
        "\n",
        "      best_gini_value = gini_value if gini_value<best_gini_value else best_gini_value\n",
        "      best_thres = thres if gini_value<best_gini_value else thres\n",
        "\n",
        "    threses = np.unique(vector)\n",
        "    ginis = np.zeros_like(threses)\n",
        "\n",
        "    for j, k in enumerate(threses):\n",
        "            Left = vector <= k\n",
        "            left_targ = target[Left]\n",
        "            right_targ = target[~Left]\n",
        "            if task == \"classification\":\n",
        "                gini_left = Gini(left_targ)\n",
        "                gini_right = Gini(right_targ)\n",
        "                ginis[j] = (len(left_targ) * gini_left + len(gini_targ) * gini_right) / len(target)\n",
        "            else:\n",
        "                Ldisp = disp(left_targ)\n",
        "                Rdisp = disp(right_targ)\n",
        "                ginis[j] = (len(left_targ) * Ldisp + len(right_targ) * Rdisp) / len(target)\n",
        "\n",
        "\n",
        "    return threses, ginis, best_thres, best_gini_value\n"
      ],
      "metadata": {
        "id": "QqnDlRsXQZhg"
      },
      "execution_count": null,
      "outputs": []
    },
    {
      "cell_type": "code",
      "source": [
        "from sklearn.datasets import fetch_california_housing\n",
        "\n",
        "california = fetch_california_housing()\n",
        "X = pd.DataFrame(data=california[\"data\"], columns=california[\"feature_names\"])\n",
        "y = california[\"target\"]\n",
        "print(X.head())\n",
        "\n",
        "print(california[\"DESCR\"])\n",
        "\n",
        "a, b, c, d = (find_best_split(\n",
        "    X[\"MedInc\"].to_numpy(),\n",
        "    y,\n",
        "    task=\"regression\",\n",
        "    feature_type=\"real\"\n",
        "))"
      ],
      "metadata": {
        "colab": {
          "base_uri": "https://localhost:8080/"
        },
        "id": "8YY02YxmVA5f",
        "outputId": "258e3cbe-e784-4e19-f39e-a0a57b879777"
      },
      "execution_count": null,
      "outputs": [
        {
          "output_type": "stream",
          "name": "stdout",
          "text": [
            "   MedInc  HouseAge  AveRooms  AveBedrms  Population  AveOccup  Latitude  \\\n",
            "0  8.3252      41.0  6.984127   1.023810       322.0  2.555556     37.88   \n",
            "1  8.3014      21.0  6.238137   0.971880      2401.0  2.109842     37.86   \n",
            "2  7.2574      52.0  8.288136   1.073446       496.0  2.802260     37.85   \n",
            "3  5.6431      52.0  5.817352   1.073059       558.0  2.547945     37.85   \n",
            "4  3.8462      52.0  6.281853   1.081081       565.0  2.181467     37.85   \n",
            "\n",
            "   Longitude  \n",
            "0    -122.23  \n",
            "1    -122.22  \n",
            "2    -122.24  \n",
            "3    -122.25  \n",
            "4    -122.25  \n",
            ".. _california_housing_dataset:\n",
            "\n",
            "California Housing dataset\n",
            "--------------------------\n",
            "\n",
            "**Data Set Characteristics:**\n",
            "\n",
            "    :Number of Instances: 20640\n",
            "\n",
            "    :Number of Attributes: 8 numeric, predictive attributes and the target\n",
            "\n",
            "    :Attribute Information:\n",
            "        - MedInc        median income in block group\n",
            "        - HouseAge      median house age in block group\n",
            "        - AveRooms      average number of rooms per household\n",
            "        - AveBedrms     average number of bedrooms per household\n",
            "        - Population    block group population\n",
            "        - AveOccup      average number of household members\n",
            "        - Latitude      block group latitude\n",
            "        - Longitude     block group longitude\n",
            "\n",
            "    :Missing Attribute Values: None\n",
            "\n",
            "This dataset was obtained from the StatLib repository.\n",
            "https://www.dcc.fc.up.pt/~ltorgo/Regression/cal_housing.html\n",
            "\n",
            "The target variable is the median house value for California districts,\n",
            "expressed in hundreds of thousands of dollars ($100,000).\n",
            "\n",
            "This dataset was derived from the 1990 U.S. census, using one row per census\n",
            "block group. A block group is the smallest geographical unit for which the U.S.\n",
            "Census Bureau publishes sample data (a block group typically has a population\n",
            "of 600 to 3,000 people).\n",
            "\n",
            "A household is a group of people residing within a home. Since the average\n",
            "number of rooms and bedrooms in this dataset are provided per household, these\n",
            "columns may take surprisingly large values for block groups with few households\n",
            "and many empty houses, such as vacation resorts.\n",
            "\n",
            "It can be downloaded/loaded using the\n",
            ":func:`sklearn.datasets.fetch_california_housing` function.\n",
            "\n",
            ".. topic:: References\n",
            "\n",
            "    - Pace, R. Kelley and Ronald Barry, Sparse Spatial Autoregressions,\n",
            "      Statistics and Probability Letters, 33 (1997) 291-297\n",
            "\n"
          ]
        },
        {
          "output_type": "stream",
          "name": "stderr",
          "text": [
            "/usr/local/lib/python3.10/dist-packages/numpy/core/fromnumeric.py:3757: RuntimeWarning: Degrees of freedom <= 0 for slice\n",
            "  return _methods._var(a, axis=axis, dtype=dtype, out=out, ddof=ddof,\n",
            "/usr/local/lib/python3.10/dist-packages/numpy/core/_methods.py:222: RuntimeWarning: invalid value encountered in true_divide\n",
            "  arrmean = um.true_divide(arrmean, div, out=arrmean, casting='unsafe',\n",
            "/usr/local/lib/python3.10/dist-packages/numpy/core/_methods.py:256: RuntimeWarning: invalid value encountered in double_scalars\n",
            "  ret = ret.dtype.type(ret / rcount)\n"
          ]
        }
      ]
    },
    {
      "cell_type": "code",
      "source": [
        "a, b, c, d"
      ],
      "metadata": {
        "colab": {
          "base_uri": "https://localhost:8080/"
        },
        "id": "Ee6AAUEeQ_0J",
        "outputId": "08d62287-6c37-44c5-f44b-b4b852efd9cb"
      },
      "execution_count": null,
      "outputs": [
        {
          "output_type": "execute_result",
          "data": {
            "text/plain": [
              "(array([ 0.4999,  0.536 ,  0.5495, ..., 14.9009, 15.    , 15.0001]),\n",
              " array([1.3314415 , 1.3313647 , 1.3313254 , ..., 1.31198934, 1.31282443,\n",
              "               nan]),\n",
              " 15.0001,\n",
              " 3.3143904996500724)"
            ]
          },
          "metadata": {},
          "execution_count": 7
        }
      ]
    },
    {
      "cell_type": "markdown",
      "source": [],
      "metadata": {
        "id": "el43raChRKi-"
      }
    },
    {
      "cell_type": "markdown",
      "source": [
        "# **Часть 3** #"
      ],
      "metadata": {
        "id": "63v2z6P2YTKR"
      }
    },
    {
      "cell_type": "code",
      "source": [
        "from sklearn.ensemble import BaggingClassifier, RandomForestClassifier\n",
        "from sklearn.metrics import accuracy_score as accuracy, precision_score as precision, recall_score as recall, roc_auc_score as roc_auc\n",
        "from sklearn.model_selection import train_test_split\n",
        "from sklearn.tree import DecisionTreeClassifier\n",
        "from sklearn.model_selection import GridSearchCV\n",
        "\n",
        "data = pd.read_csv('https://github.com/Murcha1990/ML_math_2022/raw/2a512ab0ec6ee4936cbe6c3dc041bce31e05e8c0/%D0%94%D0%BE%D0%BC%D0%B0%D1%88%D0%BA%D0%B8/HW_4/Data/diabetes.csv')\n",
        "print(f\"Dataset shape: {data.shape}\")\n",
        "data.head()\n",
        "\n",
        "data['Outcome'].hist()\n",
        "plt.show()"
      ],
      "metadata": {
        "colab": {
          "base_uri": "https://localhost:8080/",
          "height": 448
        },
        "id": "zthf3P2kYbZA",
        "outputId": "13bebaff-478f-4ea6-a4fa-0f926b63cf72"
      },
      "execution_count": null,
      "outputs": [
        {
          "output_type": "stream",
          "name": "stdout",
          "text": [
            "Dataset shape: (768, 9)\n"
          ]
        },
        {
          "output_type": "display_data",
          "data": {
            "text/plain": [
              "<Figure size 640x480 with 1 Axes>"
            ],
            "image/png": "[encoded data removed]"
          },
          "metadata": {}
        }
      ]
    },
    {
      "cell_type": "code",
      "source": [
        "data.head()"
      ],
      "metadata": {
        "colab": {
          "base_uri": "https://localhost:8080/",
          "height": 206
        },
        "id": "0kcV-heHbaLt",
        "outputId": "fa147ffa-3018-43d9-b111-93418853d81e"
      },
      "execution_count": null,
      "outputs": [
        {
          "output_type": "execute_result",
          "data": {
            "text/plain": [
              "   Pregnancies  Glucose  BloodPressure  SkinThickness  Insulin   BMI  \\\n",
              "0            6      148             72             35        0  33.6   \n",
              "1            1       85             66             29        0  26.6   \n",
              "2            8      183             64              0        0  23.3   \n",
              "3            1       89             66             23       94  28.1   \n",
              "4            0      137             40             35      168  43.1   \n",
              "\n",
              "   DiabetesPedigreeFunction  Age  Outcome  \n",
              "0                     0.627   50        1  \n",
              "1                     0.351   31        0  \n",
              "2                     0.672   32        1  \n",
              "3                     0.167   21        0  \n",
              "4                     2.288   33        1  "
            ],
            "text/html": [
              "\n",
              "  <div id=\"df-b6eaf9a0-47cc-48b5-80c3-7e3c5ec276e4\">\n",
              "    <div class=\"colab-df-container\">\n",
              "      <div>\n",
              "<style scoped>\n",
              "    .dataframe tbody tr th:only-of-type {\n",
              "        vertical-align: middle;\n",
              "    }\n",
              "\n",
              "    .dataframe tbody tr th {\n",
              "        vertical-align: top;\n",
              "    }\n",
              "\n",
              "    .dataframe thead th {\n",
              "        text-align: right;\n",
              "    }\n",
              "</style>\n",
              "<table border=\"1\" class=\"dataframe\">\n",
              "  <thead>\n",
              "    <tr style=\"text-align: right;\">\n",
              "      <th></th>\n",
              "      <th>Pregnancies</th>\n",
              "      <th>Glucose</th>\n",
              "      <th>BloodPressure</th>\n",
              "      <th>SkinThickness</th>\n",
              "      <th>Insulin</th>\n",
              "      <th>BMI</th>\n",
              "      <th>DiabetesPedigreeFunction</th>\n",
              "      <th>Age</th>\n",
              "      <th>Outcome</th>\n",
              "    </tr>\n",
              "  </thead>\n",
              "  <tbody>\n",
              "    <tr>\n",
              "      <th>0</th>\n",
              "      <td>6</td>\n",
              "      <td>148</td>\n",
              "      <td>72</td>\n",
              "      <td>35</td>\n",
              "      <td>0</td>\n",
              "      <td>33.6</td>\n",
              "      <td>0.627</td>\n",
              "      <td>50</td>\n",
              "      <td>1</td>\n",
              "    </tr>\n",
              "    <tr>\n",
              "      <th>1</th>\n",
              "      <td>1</td>\n",
              "      <td>85</td>\n",
              "      <td>66</td>\n",
              "      <td>29</td>\n",
              "      <td>0</td>\n",
              "      <td>26.6</td>\n",
              "      <td>0.351</td>\n",
              "      <td>31</td>\n",
              "      <td>0</td>\n",
              "    </tr>\n",
              "    <tr>\n",
              "      <th>2</th>\n",
              "      <td>8</td>\n",
              "      <td>183</td>\n",
              "      <td>64</td>\n",
              "      <td>0</td>\n",
              "      <td>0</td>\n",
              "      <td>23.3</td>\n",
              "      <td>0.672</td>\n",
              "      <td>32</td>\n",
              "      <td>1</td>\n",
              "    </tr>\n",
              "    <tr>\n",
              "      <th>3</th>\n",
              "      <td>1</td>\n",
              "      <td>89</td>\n",
              "      <td>66</td>\n",
              "      <td>23</td>\n",
              "      <td>94</td>\n",
              "      <td>28.1</td>\n",
              "      <td>0.167</td>\n",
              "      <td>21</td>\n",
              "      <td>0</td>\n",
              "    </tr>\n",
              "    <tr>\n",
              "      <th>4</th>\n",
              "      <td>0</td>\n",
              "      <td>137</td>\n",
              "      <td>40</td>\n",
              "      <td>35</td>\n",
              "      <td>168</td>\n",
              "      <td>43.1</td>\n",
              "      <td>2.288</td>\n",
              "      <td>33</td>\n",
              "      <td>1</td>\n",
              "    </tr>\n",
              "  </tbody>\n",
              "</table>\n",
              "</div>\n",
              "      <button class=\"colab-df-convert\" onclick=\"convertToInteractive('df-b6eaf9a0-47cc-48b5-80c3-7e3c5ec276e4')\"\n",
              "              title=\"Convert this dataframe to an interactive table.\"\n",
              "              style=\"display:none;\">\n",
              "        \n",
              "  <svg xmlns=\"http://www.w3.org/2000/svg\" height=\"24px\"viewBox=\"0 0 24 24\"\n",
              "       width=\"24px\">\n",
              "    <path d=\"M0 0h24v24H0V0z\" fill=\"none\"/>\n",
              "    <path d=\"M18.56 5.44l.94 2.06.94-2.06 2.06-.94-2.06-.94-.94-2.06-.94 2.06-2.06.94zm-11 1L8.5 8.5l.94-2.06 2.06-.94-2.06-.94L8.5 2.5l-.94 2.06-2.06.94zm10 10l.94 2.06.94-2.06 2.06-.94-2.06-.94-.94-2.06-.94 2.06-2.06.94z\"/><path d=\"M17.41 7.96l-1.37-1.37c-.4-.4-.92-.59-1.43-.59-.52 0-1.04.2-1.43.59L10.3 9.45l-7.72 7.72c-.78.78-.78 2.05 0 2.83L4 21.41c.39.39.9.59 1.41.59.51 0 1.02-.2 1.41-.59l7.78-7.78 2.81-2.81c.8-.78.8-2.07 0-2.86zM5.41 20L4 18.59l7.72-7.72 1.47 1.35L5.41 20z\"/>\n",
              "  </svg>\n",
              "      </button>\n",
              "      \n",
              "  <style>\n",
              "    .colab-df-container {\n",
              "      display:flex;\n",
              "      flex-wrap:wrap;\n",
              "      gap: 12px;\n",
              "    }\n",
              "\n",
              "    .colab-df-convert {\n",
              "      background-color: #E8F0FE;\n",
              "      border: none;\n",
              "      border-radius: 50%;\n",
              "      cursor: pointer;\n",
              "      display: none;\n",
              "      fill: #1967D2;\n",
              "      height: 32px;\n",
              "      padding: 0 0 0 0;\n",
              "      width: 32px;\n",
              "    }\n",
              "\n",
              "    .colab-df-convert:hover {\n",
              "      background-color: #E2EBFA;\n",
              "      box-shadow: 0px 1px 2px rgba(60, 64, 67, 0.3), 0px 1px 3px 1px rgba(60, 64, 67, 0.15);\n",
              "      fill: #174EA6;\n",
              "    }\n",
              "\n",
              "    [theme=dark] .colab-df-convert {\n",
              "      background-color: #3B4455;\n",
              "      fill: #D2E3FC;\n",
              "    }\n",
              "\n",
              "    [theme=dark] .colab-df-convert:hover {\n",
              "      background-color: #434B5C;\n",
              "      box-shadow: 0px 1px 3px 1px rgba(0, 0, 0, 0.15);\n",
              "      filter: drop-shadow(0px 1px 2px rgba(0, 0, 0, 0.3));\n",
              "      fill: #FFFFFF;\n",
              "    }\n",
              "  </style>\n",
              "\n",
              "      <script>\n",
              "        const buttonEl =\n",
              "          document.querySelector('#df-b6eaf9a0-47cc-48b5-80c3-7e3c5ec276e4 button.colab-df-convert');\n",
              "        buttonEl.style.display =\n",
              "          google.colab.kernel.accessAllowed ? 'block' : 'none';\n",
              "\n",
              "        async function convertToInteractive(key) {\n",
              "          const element = document.querySelector('#df-b6eaf9a0-47cc-48b5-80c3-7e3c5ec276e4');\n",
              "          const dataTable =\n",
              "            await google.colab.kernel.invokeFunction('convertToInteractive',\n",
              "                                                     [key], {});\n",
              "          if (!dataTable) return;\n",
              "\n",
              "          const docLinkHtml = 'Like what you see? Visit the ' +\n",
              "            '<a target=\"_blank\" href=https://colab.research.google.com/notebooks/data_table.ipynb>data table notebook</a>'\n",
              "            + ' to learn more about interactive tables.';\n",
              "          element.innerHTML = '';\n",
              "          dataTable['output_type'] = 'display_data';\n",
              "          await google.colab.output.renderOutput(dataTable, element);\n",
              "          const docLink = document.createElement('div');\n",
              "          docLink.innerHTML = docLinkHtml;\n",
              "          element.appendChild(docLink);\n",
              "        }\n",
              "      </script>\n",
              "    </div>\n",
              "  </div>\n",
              "  "
            ]
          },
          "metadata": {},
          "execution_count": 9
        }
      ]
    },
    {
      "cell_type": "code",
      "source": [
        "X, y = data.drop('Outcome', axis = 1), data[\"Outcome\"]\n",
        "\n",
        "Xtrain, Xtest, ytrain, ytest = train_test_split(X, y, test_size = 0.3, random_state = 25)\n",
        "\n",
        "X_tran_train, X_train_valid, y_train_train, y_train_valid = train_test_split(Xtrain, ytrain, test_size = 0.3, random_state = 25)"
      ],
      "metadata": {
        "id": "4Nu76eS9bSDi"
      },
      "execution_count": null,
      "outputs": []
    },
    {
      "cell_type": "code",
      "source": [
        "params = {'max_depth' : np.arange(2,10),\n",
        "          'min_samples_leaf': np.arange(1,10)}\n",
        "\n",
        "model1 = GridSearchCV(DecisionTreeClassifier(), params, cv=3, scoring='f1', verbose=2)\n",
        "\n",
        "model1.fit(X_train_valid, y_train_valid)"
      ],
      "metadata": {
        "colab": {
          "base_uri": "https://localhost:8080/",
          "height": 1000
        },
        "id": "ZgTFLPX-bMDr",
        "outputId": "8d4a54b7-5655-48e2-9b5e-98f4e8b4180e"
      },
      "execution_count": null,
      "outputs": [
        {
          "output_type": "stream",
          "name": "stdout",
          "text": [
            "Fitting 3 folds for each of 72 candidates, totalling 216 fits\n",
            "[CV] END ....................max_depth=2, min_samples_leaf=1; total time=   0.0s\n",
            "[CV] END ....................max_depth=2, min_samples_leaf=1; total time=   0.1s\n",
            "[CV] END ....................max_depth=2, min_samples_leaf=1; total time=   0.0s\n",
            "[CV] END ....................max_depth=2, min_samples_leaf=2; total time=   0.1s\n",
            "[CV] END ....................max_depth=2, min_samples_leaf=2; total time=   0.0s\n",
            "[CV] END ....................max_depth=2, min_samples_leaf=2; total time=   0.0s\n",
            "[CV] END ....................max_depth=2, min_samples_leaf=3; total time=   0.0s\n",
            "[CV] END ....................max_depth=2, min_samples_leaf=3; total time=   0.0s\n",
            "[CV] END ....................max_depth=2, min_samples_leaf=3; total time=   0.0s\n",
            "[CV] END ....................max_depth=2, min_samples_leaf=4; total time=   0.0s\n",
            "[CV] END ....................max_depth=2, min_samples_leaf=4; total time=   0.0s\n",
            "[CV] END ....................max_depth=2, min_samples_leaf=4; total time=   0.0s\n",
            "[CV] END ....................max_depth=2, min_samples_leaf=5; total time=   0.0s\n",
            "[CV] END ....................max_depth=2, min_samples_leaf=5; total time=   0.0s\n",
            "[CV] END ....................max_depth=2, min_samples_leaf=5; total time=   0.0s\n",
            "[CV] END ....................max_depth=2, min_samples_leaf=6; total time=   0.0s\n",
            "[CV] END ....................max_depth=2, min_samples_leaf=6; total time=   0.0s\n",
            "[CV] END ....................max_depth=2, min_samples_leaf=6; total time=   0.0s\n",
            "[CV] END ....................max_depth=2, min_samples_leaf=7; total time=   0.0s\n",
            "[CV] END ....................max_depth=2, min_samples_leaf=7; total time=   0.0s\n",
            "[CV] END ....................max_depth=2, min_samples_leaf=7; total time=   0.0s\n",
            "[CV] END ....................max_depth=2, min_samples_leaf=8; total time=   0.0s\n",
            "[CV] END ....................max_depth=2, min_samples_leaf=8; total time=   0.0s\n",
            "[CV] END ....................max_depth=2, min_samples_leaf=8; total time=   0.0s\n",
            "[CV] END ....................max_depth=2, min_samples_leaf=9; total time=   0.0s\n",
            "[CV] END ....................max_depth=2, min_samples_leaf=9; total time=   0.0s\n",
            "[CV] END ....................max_depth=2, min_samples_leaf=9; total time=   0.0s\n",
            "[CV] END ....................max_depth=3, min_samples_leaf=1; total time=   0.0s\n",
            "[CV] END ....................max_depth=3, min_samples_leaf=1; total time=   0.0s\n",
            "[CV] END ....................max_depth=3, min_samples_leaf=1; total time=   0.0s\n",
            "[CV] END ....................max_depth=3, min_samples_leaf=2; total time=   0.0s\n",
            "[CV] END ....................max_depth=3, min_samples_leaf=2; total time=   0.0s\n",
            "[CV] END ....................max_depth=3, min_samples_leaf=2; total time=   0.0s\n",
            "[CV] END ....................max_depth=3, min_samples_leaf=3; total time=   0.0s\n",
            "[CV] END ....................max_depth=3, min_samples_leaf=3; total time=   0.0s\n",
            "[CV] END ....................max_depth=3, min_samples_leaf=3; total time=   0.0s\n",
            "[CV] END ....................max_depth=3, min_samples_leaf=4; total time=   0.0s\n",
            "[CV] END ....................max_depth=3, min_samples_leaf=4; total time=   0.0s\n",
            "[CV] END ....................max_depth=3, min_samples_leaf=4; total time=   0.0s\n",
            "[CV] END ....................max_depth=3, min_samples_leaf=5; total time=   0.0s\n",
            "[CV] END ....................max_depth=3, min_samples_leaf=5; total time=   0.0s\n",
            "[CV] END ....................max_depth=3, min_samples_leaf=5; total time=   0.0s\n",
            "[CV] END ....................max_depth=3, min_samples_leaf=6; total time=   0.0s\n",
            "[CV] END ....................max_depth=3, min_samples_leaf=6; total time=   0.0s\n",
            "[CV] END ....................max_depth=3, min_samples_leaf=6; total time=   0.0s\n",
            "[CV] END ....................max_depth=3, min_samples_leaf=7; total time=   0.0s\n",
            "[CV] END ....................max_depth=3, min_samples_leaf=7; total time=   0.0s\n",
            "[CV] END ....................max_depth=3, min_samples_leaf=7; total time=   0.0s\n",
            "[CV] END ....................max_depth=3, min_samples_leaf=8; total time=   0.0s\n",
            "[CV] END ....................max_depth=3, min_samples_leaf=8; total time=   0.0s\n",
            "[CV] END ....................max_depth=3, min_samples_leaf=8; total time=   0.0s\n",
            "[CV] END ....................max_depth=3, min_samples_leaf=9; total time=   0.0s\n",
            "[CV] END ....................max_depth=3, min_samples_leaf=9; total time=   0.0s\n",
            "[CV] END ....................max_depth=3, min_samples_leaf=9; total time=   0.0s\n",
            "[CV] END ....................max_depth=4, min_samples_leaf=1; total time=   0.0s\n",
            "[CV] END ....................max_depth=4, min_samples_leaf=1; total time=   0.0s\n",
            "[CV] END ....................max_depth=4, min_samples_leaf=1; total time=   0.0s\n",
            "[CV] END ....................max_depth=4, min_samples_leaf=2; total time=   0.0s\n",
            "[CV] END ....................max_depth=4, min_samples_leaf=2; total time=   0.0s\n",
            "[CV] END ....................max_depth=4, min_samples_leaf=2; total time=   0.0s\n",
            "[CV] END ....................max_depth=4, min_samples_leaf=3; total time=   0.0s\n",
            "[CV] END ....................max_depth=4, min_samples_leaf=3; total time=   0.0s\n",
            "[CV] END ....................max_depth=4, min_samples_leaf=3; total time=   0.0s\n",
            "[CV] END ....................max_depth=4, min_samples_leaf=4; total time=   0.0s\n",
            "[CV] END ....................max_depth=4, min_samples_leaf=4; total time=   0.1s\n",
            "[CV] END ....................max_depth=4, min_samples_leaf=4; total time=   0.0s\n",
            "[CV] END ....................max_depth=4, min_samples_leaf=5; total time=   0.0s\n",
            "[CV] END ....................max_depth=4, min_samples_leaf=5; total time=   0.0s\n",
            "[CV] END ....................max_depth=4, min_samples_leaf=5; total time=   0.0s\n",
            "[CV] END ....................max_depth=4, min_samples_leaf=6; total time=   0.1s\n",
            "[CV] END ....................max_depth=4, min_samples_leaf=6; total time=   0.0s\n",
            "[CV] END ....................max_depth=4, min_samples_leaf=6; total time=   0.0s\n",
            "[CV] END ....................max_depth=4, min_samples_leaf=7; total time=   0.0s\n",
            "[CV] END ....................max_depth=4, min_samples_leaf=7; total time=   0.0s\n",
            "[CV] END ....................max_depth=4, min_samples_leaf=7; total time=   0.0s\n",
            "[CV] END ....................max_depth=4, min_samples_leaf=8; total time=   0.0s\n",
            "[CV] END ....................max_depth=4, min_samples_leaf=8; total time=   0.1s\n",
            "[CV] END ....................max_depth=4, min_samples_leaf=8; total time=   0.0s\n",
            "[CV] END ....................max_depth=4, min_samples_leaf=9; total time=   0.0s\n",
            "[CV] END ....................max_depth=4, min_samples_leaf=9; total time=   0.0s\n",
            "[CV] END ....................max_depth=4, min_samples_leaf=9; total time=   0.1s\n",
            "[CV] END ....................max_depth=5, min_samples_leaf=1; total time=   0.1s\n",
            "[CV] END ....................max_depth=5, min_samples_leaf=1; total time=   0.1s\n",
            "[CV] END ....................max_depth=5, min_samples_leaf=1; total time=   0.1s\n",
            "[CV] END ....................max_depth=5, min_samples_leaf=2; total time=   0.0s\n",
            "[CV] END ....................max_depth=5, min_samples_leaf=2; total time=   0.0s\n",
            "[CV] END ....................max_depth=5, min_samples_leaf=2; total time=   0.0s\n",
            "[CV] END ....................max_depth=5, min_samples_leaf=3; total time=   0.0s\n",
            "[CV] END ....................max_depth=5, min_samples_leaf=3; total time=   0.0s\n",
            "[CV] END ....................max_depth=5, min_samples_leaf=3; total time=   0.1s\n",
            "[CV] END ....................max_depth=5, min_samples_leaf=4; total time=   0.1s\n",
            "[CV] END ....................max_depth=5, min_samples_leaf=4; total time=   0.0s\n",
            "[CV] END ....................max_depth=5, min_samples_leaf=4; total time=   0.0s\n",
            "[CV] END ....................max_depth=5, min_samples_leaf=5; total time=   0.1s\n",
            "[CV] END ....................max_depth=5, min_samples_leaf=5; total time=   0.0s\n",
            "[CV] END ....................max_depth=5, min_samples_leaf=5; total time=   0.0s\n",
            "[CV] END ....................max_depth=5, min_samples_leaf=6; total time=   0.0s\n",
            "[CV] END ....................max_depth=5, min_samples_leaf=6; total time=   0.1s\n",
            "[CV] END ....................max_depth=5, min_samples_leaf=6; total time=   0.0s\n",
            "[CV] END ....................max_depth=5, min_samples_leaf=7; total time=   0.0s\n",
            "[CV] END ....................max_depth=5, min_samples_leaf=7; total time=   0.1s\n",
            "[CV] END ....................max_depth=5, min_samples_leaf=7; total time=   0.1s\n",
            "[CV] END ....................max_depth=5, min_samples_leaf=8; total time=   0.1s\n",
            "[CV] END ....................max_depth=5, min_samples_leaf=8; total time=   0.1s\n",
            "[CV] END ....................max_depth=5, min_samples_leaf=8; total time=   0.1s\n",
            "[CV] END ....................max_depth=5, min_samples_leaf=9; total time=   0.1s\n",
            "[CV] END ....................max_depth=5, min_samples_leaf=9; total time=   0.0s\n",
            "[CV] END ....................max_depth=5, min_samples_leaf=9; total time=   0.0s\n",
            "[CV] END ....................max_depth=6, min_samples_leaf=1; total time=   0.1s\n",
            "[CV] END ....................max_depth=6, min_samples_leaf=1; total time=   0.0s\n",
            "[CV] END ....................max_depth=6, min_samples_leaf=1; total time=   0.0s\n",
            "[CV] END ....................max_depth=6, min_samples_leaf=2; total time=   0.0s\n",
            "[CV] END ....................max_depth=6, min_samples_leaf=2; total time=   0.0s\n",
            "[CV] END ....................max_depth=6, min_samples_leaf=2; total time=   0.0s\n",
            "[CV] END ....................max_depth=6, min_samples_leaf=3; total time=   0.0s\n",
            "[CV] END ....................max_depth=6, min_samples_leaf=3; total time=   0.0s\n",
            "[CV] END ....................max_depth=6, min_samples_leaf=3; total time=   0.0s\n",
            "[CV] END ....................max_depth=6, min_samples_leaf=4; total time=   0.0s\n",
            "[CV] END ....................max_depth=6, min_samples_leaf=4; total time=   0.0s\n",
            "[CV] END ....................max_depth=6, min_samples_leaf=4; total time=   0.0s\n",
            "[CV] END ....................max_depth=6, min_samples_leaf=5; total time=   0.1s\n",
            "[CV] END ....................max_depth=6, min_samples_leaf=5; total time=   0.0s\n",
            "[CV] END ....................max_depth=6, min_samples_leaf=5; total time=   0.0s\n",
            "[CV] END ....................max_depth=6, min_samples_leaf=6; total time=   0.1s\n",
            "[CV] END ....................max_depth=6, min_samples_leaf=6; total time=   0.0s\n",
            "[CV] END ....................max_depth=6, min_samples_leaf=6; total time=   0.0s\n",
            "[CV] END ....................max_depth=6, min_samples_leaf=7; total time=   0.0s\n",
            "[CV] END ....................max_depth=6, min_samples_leaf=7; total time=   0.0s\n",
            "[CV] END ....................max_depth=6, min_samples_leaf=7; total time=   0.0s\n",
            "[CV] END ....................max_depth=6, min_samples_leaf=8; total time=   0.0s\n",
            "[CV] END ....................max_depth=6, min_samples_leaf=8; total time=   0.0s\n",
            "[CV] END ....................max_depth=6, min_samples_leaf=8; total time=   0.0s\n",
            "[CV] END ....................max_depth=6, min_samples_leaf=9; total time=   0.0s\n",
            "[CV] END ....................max_depth=6, min_samples_leaf=9; total time=   0.0s\n",
            "[CV] END ....................max_depth=6, min_samples_leaf=9; total time=   0.0s\n",
            "[CV] END ....................max_depth=7, min_samples_leaf=1; total time=   0.0s\n",
            "[CV] END ....................max_depth=7, min_samples_leaf=1; total time=   0.0s\n",
            "[CV] END ....................max_depth=7, min_samples_leaf=1; total time=   0.0s\n",
            "[CV] END ....................max_depth=7, min_samples_leaf=2; total time=   0.0s\n",
            "[CV] END ....................max_depth=7, min_samples_leaf=2; total time=   0.0s\n",
            "[CV] END ....................max_depth=7, min_samples_leaf=2; total time=   0.0s\n",
            "[CV] END ....................max_depth=7, min_samples_leaf=3; total time=   0.0s\n",
            "[CV] END ....................max_depth=7, min_samples_leaf=3; total time=   0.0s\n",
            "[CV] END ....................max_depth=7, min_samples_leaf=3; total time=   0.0s\n",
            "[CV] END ....................max_depth=7, min_samples_leaf=4; total time=   0.0s\n",
            "[CV] END ....................max_depth=7, min_samples_leaf=4; total time=   0.1s\n",
            "[CV] END ....................max_depth=7, min_samples_leaf=4; total time=   0.1s\n",
            "[CV] END ....................max_depth=7, min_samples_leaf=5; total time=   0.0s\n",
            "[CV] END ....................max_depth=7, min_samples_leaf=5; total time=   0.0s\n",
            "[CV] END ....................max_depth=7, min_samples_leaf=5; total time=   0.0s\n",
            "[CV] END ....................max_depth=7, min_samples_leaf=6; total time=   0.0s\n",
            "[CV] END ....................max_depth=7, min_samples_leaf=6; total time=   0.0s\n",
            "[CV] END ....................max_depth=7, min_samples_leaf=6; total time=   0.0s\n",
            "[CV] END ....................max_depth=7, min_samples_leaf=7; total time=   0.0s\n",
            "[CV] END ....................max_depth=7, min_samples_leaf=7; total time=   0.0s\n",
            "[CV] END ....................max_depth=7, min_samples_leaf=7; total time=   0.0s\n",
            "[CV] END ....................max_depth=7, min_samples_leaf=8; total time=   0.0s\n",
            "[CV] END ....................max_depth=7, min_samples_leaf=8; total time=   0.0s\n",
            "[CV] END ....................max_depth=7, min_samples_leaf=8; total time=   0.0s\n",
            "[CV] END ....................max_depth=7, min_samples_leaf=9; total time=   0.0s\n",
            "[CV] END ....................max_depth=7, min_samples_leaf=9; total time=   0.0s\n",
            "[CV] END ....................max_depth=7, min_samples_leaf=9; total time=   0.0s\n",
            "[CV] END ....................max_depth=8, min_samples_leaf=1; total time=   0.0s\n",
            "[CV] END ....................max_depth=8, min_samples_leaf=1; total time=   0.0s\n",
            "[CV] END ....................max_depth=8, min_samples_leaf=1; total time=   0.0s\n",
            "[CV] END ....................max_depth=8, min_samples_leaf=2; total time=   0.1s\n",
            "[CV] END ....................max_depth=8, min_samples_leaf=2; total time=   0.0s\n",
            "[CV] END ....................max_depth=8, min_samples_leaf=2; total time=   0.0s\n",
            "[CV] END ....................max_depth=8, min_samples_leaf=3; total time=   0.0s\n",
            "[CV] END ....................max_depth=8, min_samples_leaf=3; total time=   0.0s\n",
            "[CV] END ....................max_depth=8, min_samples_leaf=3; total time=   0.0s\n",
            "[CV] END ....................max_depth=8, min_samples_leaf=4; total time=   0.1s\n",
            "[CV] END ....................max_depth=8, min_samples_leaf=4; total time=   0.1s\n",
            "[CV] END ....................max_depth=8, min_samples_leaf=4; total time=   0.1s\n",
            "[CV] END ....................max_depth=8, min_samples_leaf=5; total time=   0.0s\n",
            "[CV] END ....................max_depth=8, min_samples_leaf=5; total time=   0.0s\n",
            "[CV] END ....................max_depth=8, min_samples_leaf=5; total time=   0.0s\n",
            "[CV] END ....................max_depth=8, min_samples_leaf=6; total time=   0.0s\n",
            "[CV] END ....................max_depth=8, min_samples_leaf=6; total time=   0.0s\n",
            "[CV] END ....................max_depth=8, min_samples_leaf=6; total time=   0.0s\n",
            "[CV] END ....................max_depth=8, min_samples_leaf=7; total time=   0.1s\n",
            "[CV] END ....................max_depth=8, min_samples_leaf=7; total time=   0.0s\n",
            "[CV] END ....................max_depth=8, min_samples_leaf=7; total time=   0.0s\n",
            "[CV] END ....................max_depth=8, min_samples_leaf=8; total time=   0.1s\n",
            "[CV] END ....................max_depth=8, min_samples_leaf=8; total time=   0.2s\n",
            "[CV] END ....................max_depth=8, min_samples_leaf=8; total time=   0.0s\n",
            "[CV] END ....................max_depth=8, min_samples_leaf=9; total time=   0.0s\n",
            "[CV] END ....................max_depth=8, min_samples_leaf=9; total time=   0.0s\n",
            "[CV] END ....................max_depth=8, min_samples_leaf=9; total time=   0.0s\n",
            "[CV] END ....................max_depth=9, min_samples_leaf=1; total time=   0.0s\n",
            "[CV] END ....................max_depth=9, min_samples_leaf=1; total time=   0.0s\n",
            "[CV] END ....................max_depth=9, min_samples_leaf=1; total time=   0.0s\n",
            "[CV] END ....................max_depth=9, min_samples_leaf=2; total time=   0.0s\n",
            "[CV] END ....................max_depth=9, min_samples_leaf=2; total time=   0.1s\n",
            "[CV] END ....................max_depth=9, min_samples_leaf=2; total time=   0.1s\n",
            "[CV] END ....................max_depth=9, min_samples_leaf=3; total time=   0.0s\n",
            "[CV] END ....................max_depth=9, min_samples_leaf=3; total time=   0.0s\n",
            "[CV] END ....................max_depth=9, min_samples_leaf=3; total time=   0.1s\n",
            "[CV] END ....................max_depth=9, min_samples_leaf=4; total time=   0.1s\n",
            "[CV] END ....................max_depth=9, min_samples_leaf=4; total time=   0.0s\n",
            "[CV] END ....................max_depth=9, min_samples_leaf=4; total time=   0.0s\n",
            "[CV] END ....................max_depth=9, min_samples_leaf=5; total time=   0.0s\n",
            "[CV] END ....................max_depth=9, min_samples_leaf=5; total time=   0.0s\n",
            "[CV] END ....................max_depth=9, min_samples_leaf=5; total time=   0.0s\n",
            "[CV] END ....................max_depth=9, min_samples_leaf=6; total time=   0.0s\n",
            "[CV] END ....................max_depth=9, min_samples_leaf=6; total time=   0.0s\n",
            "[CV] END ....................max_depth=9, min_samples_leaf=6; total time=   0.1s\n",
            "[CV] END ....................max_depth=9, min_samples_leaf=7; total time=   0.0s\n",
            "[CV] END ....................max_depth=9, min_samples_leaf=7; total time=   0.0s\n",
            "[CV] END ....................max_depth=9, min_samples_leaf=7; total time=   0.0s\n",
            "[CV] END ....................max_depth=9, min_samples_leaf=8; total time=   0.0s\n",
            "[CV] END ....................max_depth=9, min_samples_leaf=8; total time=   0.0s\n",
            "[CV] END ....................max_depth=9, min_samples_leaf=8; total time=   0.0s\n",
            "[CV] END ....................max_depth=9, min_samples_leaf=9; total time=   0.0s\n",
            "[CV] END ....................max_depth=9, min_samples_leaf=9; total time=   0.0s\n",
            "[CV] END ....................max_depth=9, min_samples_leaf=9; total time=   0.0s\n"
          ]
        },
        {
          "output_type": "execute_result",
          "data": {
            "text/plain": [
              "GridSearchCV(cv=3, estimator=DecisionTreeClassifier(),\n",
              "             param_grid={'max_depth': array([2, 3, 4, 5, 6, 7, 8, 9]),\n",
              "                         'min_samples_leaf': array([1, 2, 3, 4, 5, 6, 7, 8, 9])},\n",
              "             scoring='f1', verbose=2)"
            ],
            "text/html": [
              "<style>#sk-container-id-1 {color: black;background-color: white;}#sk-container-id-1 pre{padding: 0;}#sk-container-id-1 div.sk-toggleable {background-color: white;}#sk-container-id-1 label.sk-toggleable__label {cursor: pointer;display: block;width: 100%;margin-bottom: 0;padding: 0.3em;box-sizing: border-box;text-align: center;}#sk-container-id-1 label.sk-toggleable__label-arrow:before {content: \"▸\";float: left;margin-right: 0.25em;color: #696969;}#sk-container-id-1 label.sk-toggleable__label-arrow:hover:before {color: black;}#sk-container-id-1 div.sk-estimator:hover label.sk-toggleable__label-arrow:before {color: black;}#sk-container-id-1 div.sk-toggleable__content {max-height: 0;max-width: 0;overflow: hidden;text-align: left;background-color: #f0f8ff;}#sk-container-id-1 div.sk-toggleable__content pre {margin: 0.2em;color: black;border-radius: 0.25em;background-color: #f0f8ff;}#sk-container-id-1 input.sk-toggleable__control:checked~div.sk-toggleable__content {max-height: 200px;max-width: 100%;overflow: auto;}#sk-container-id-1 input.sk-toggleable__control:checked~label.sk-toggleable__label-arrow:before {content: \"▾\";}#sk-container-id-1 div.sk-estimator input.sk-toggleable__control:checked~label.sk-toggleable__label {background-color: #d4ebff;}#sk-container-id-1 div.sk-label input.sk-toggleable__control:checked~label.sk-toggleable__label {background-color: #d4ebff;}#sk-container-id-1 input.sk-hidden--visually {border: 0;clip: rect(1px 1px 1px 1px);clip: rect(1px, 1px, 1px, 1px);height: 1px;margin: -1px;overflow: hidden;padding: 0;position: absolute;width: 1px;}#sk-container-id-1 div.sk-estimator {font-family: monospace;background-color: #f0f8ff;border: 1px dotted black;border-radius: 0.25em;box-sizing: border-box;margin-bottom: 0.5em;}#sk-container-id-1 div.sk-estimator:hover {background-color: #d4ebff;}#sk-container-id-1 div.sk-parallel-item::after {content: \"\";width: 100%;border-bottom: 1px solid gray;flex-grow: 1;}#sk-container-id-1 div.sk-label:hover label.sk-toggleable__label {background-color: #d4ebff;}#sk-container-id-1 div.sk-serial::before {content: \"\";position: absolute;border-left: 1px solid gray;box-sizing: border-box;top: 0;bottom: 0;left: 50%;z-index: 0;}#sk-container-id-1 div.sk-serial {display: flex;flex-direction: column;align-items: center;background-color: white;padding-right: 0.2em;padding-left: 0.2em;position: relative;}#sk-container-id-1 div.sk-item {position: relative;z-index: 1;}#sk-container-id-1 div.sk-parallel {display: flex;align-items: stretch;justify-content: center;background-color: white;position: relative;}#sk-container-id-1 div.sk-item::before, #sk-container-id-1 div.sk-parallel-item::before {content: \"\";position: absolute;border-left: 1px solid gray;box-sizing: border-box;top: 0;bottom: 0;left: 50%;z-index: -1;}#sk-container-id-1 div.sk-parallel-item {display: flex;flex-direction: column;z-index: 1;position: relative;background-color: white;}#sk-container-id-1 div.sk-parallel-item:first-child::after {align-self: flex-end;width: 50%;}#sk-container-id-1 div.sk-parallel-item:last-child::after {align-self: flex-start;width: 50%;}#sk-container-id-1 div.sk-parallel-item:only-child::after {width: 0;}#sk-container-id-1 div.sk-dashed-wrapped {border: 1px dashed gray;margin: 0 0.4em 0.5em 0.4em;box-sizing: border-box;padding-bottom: 0.4em;background-color: white;}#sk-container-id-1 div.sk-label label {font-family: monospace;font-weight: bold;display: inline-block;line-height: 1.2em;}#sk-container-id-1 div.sk-label-container {text-align: center;}#sk-container-id-1 div.sk-container {/* jupyter's `normalize.less` sets `[hidden] { display: none; }` but bootstrap.min.css set `[hidden] { display: none !important; }` so we also need the `!important` here to be able to override the default hidden behavior on the sphinx rendered scikit-learn.org. See: https://github.com/scikit-learn/scikit-learn/issues/21755 */display: inline-block !important;position: relative;}#sk-container-id-1 div.sk-text-repr-fallback {display: none;}</style><div id=\"sk-container-id-1\" class=\"sk-top-container\"><div class=\"sk-text-repr-fallback\"><pre>GridSearchCV(cv=3, estimator=DecisionTreeClassifier(),\n",
              "             param_grid={&#x27;max_depth&#x27;: array([2, 3, 4, 5, 6, 7, 8, 9]),\n",
              "                         &#x27;min_samples_leaf&#x27;: array([1, 2, 3, 4, 5, 6, 7, 8, 9])},\n",
              "             scoring=&#x27;f1&#x27;, verbose=2)</pre><b>In a Jupyter environment, please rerun this cell to show the HTML representation or trust the notebook. <br />On GitHub, the HTML representation is unable to render, please try loading this page with nbviewer.org.</b></div><div class=\"sk-container\" hidden><div class=\"sk-item sk-dashed-wrapped\"><div class=\"sk-label-container\"><div class=\"sk-label sk-toggleable\"><input class=\"sk-toggleable__control sk-hidden--visually\" id=\"sk-estimator-id-1\" type=\"checkbox\" ><label for=\"sk-estimator-id-1\" class=\"sk-toggleable__label sk-toggleable__label-arrow\">GridSearchCV</label><div class=\"sk-toggleable__content\"><pre>GridSearchCV(cv=3, estimator=DecisionTreeClassifier(),\n",
              "             param_grid={&#x27;max_depth&#x27;: array([2, 3, 4, 5, 6, 7, 8, 9]),\n",
              "                         &#x27;min_samples_leaf&#x27;: array([1, 2, 3, 4, 5, 6, 7, 8, 9])},\n",
              "             scoring=&#x27;f1&#x27;, verbose=2)</pre></div></div></div><div class=\"sk-parallel\"><div class=\"sk-parallel-item\"><div class=\"sk-item\"><div class=\"sk-label-container\"><div class=\"sk-label sk-toggleable\"><input class=\"sk-toggleable__control sk-hidden--visually\" id=\"sk-estimator-id-2\" type=\"checkbox\" ><label for=\"sk-estimator-id-2\" class=\"sk-toggleable__label sk-toggleable__label-arrow\">estimator: DecisionTreeClassifier</label><div class=\"sk-toggleable__content\"><pre>DecisionTreeClassifier()</pre></div></div></div><div class=\"sk-serial\"><div class=\"sk-item\"><div class=\"sk-estimator sk-toggleable\"><input class=\"sk-toggleable__control sk-hidden--visually\" id=\"sk-estimator-id-3\" type=\"checkbox\" ><label for=\"sk-estimator-id-3\" class=\"sk-toggleable__label sk-toggleable__label-arrow\">DecisionTreeClassifier</label><div class=\"sk-toggleable__content\"><pre>DecisionTreeClassifier()</pre></div></div></div></div></div></div></div></div></div></div>"
            ]
          },
          "metadata": {},
          "execution_count": 11
        }
      ]
    },
    {
      "cell_type": "code",
      "source": [
        "print(\"Accuracy:\", accuracy(model1.predict(Xtest), ytest))\n",
        "print(\"Presicion:\", precision(model1.predict(Xtest), ytest))\n",
        "print(\"Recall:\", recall(model1.predict(Xtest), ytest))\n",
        "print(\"ROC_AUC:\", roc_auc(model1.predict(Xtest), ytest))"
      ],
      "metadata": {
        "colab": {
          "base_uri": "https://localhost:8080/"
        },
        "id": "HwGL4POOKLx1",
        "outputId": "86124c13-bf88-4d91-c112-a45d141c6e92"
      },
      "execution_count": null,
      "outputs": [
        {
          "output_type": "stream",
          "name": "stdout",
          "text": [
            "Accuracy: 0.7229437229437229\n",
            "Presicion: 0.6338028169014085\n",
            "Recall: 0.5421686746987951\n",
            "ROC_AUC: 0.6832464995115598\n"
          ]
        }
      ]
    },
    {
      "cell_type": "markdown",
      "source": [
        "Качество далеко от хорошего, точность и полнота совсем хромают, что неудивительно при обучении на малой части выборке"
      ],
      "metadata": {
        "id": "zOrvog-eSzbA"
      }
    },
    {
      "cell_type": "code",
      "source": [
        "model2 = BaggingClassifier(base_estimator = RandomForestClassifier(),\n",
        "                          n_estimators = 50,\n",
        "                          random_state = 28\n",
        "                          )\n",
        "model2.fit(Xtrain, ytrain)"
      ],
      "metadata": {
        "colab": {
          "base_uri": "https://localhost:8080/",
          "height": 175
        },
        "id": "eopmEueLD88M",
        "outputId": "6d20e7ba-5786-4ebe-cf5d-3a8a07ba3439"
      },
      "execution_count": null,
      "outputs": [
        {
          "output_type": "stream",
          "name": "stderr",
          "text": [
            "/usr/local/lib/python3.10/dist-packages/sklearn/ensemble/_base.py:166: FutureWarning: `base_estimator` was renamed to `estimator` in version 1.2 and will be removed in 1.4.\n",
            "  warnings.warn(\n"
          ]
        },
        {
          "output_type": "execute_result",
          "data": {
            "text/plain": [
              "BaggingClassifier(base_estimator=RandomForestClassifier(), n_estimators=50,\n",
              "                  random_state=28)"
            ],
            "text/html": [
              "<style>#sk-container-id-2 {color: black;background-color: white;}#sk-container-id-2 pre{padding: 0;}#sk-container-id-2 div.sk-toggleable {background-color: white;}#sk-container-id-2 label.sk-toggleable__label {cursor: pointer;display: block;width: 100%;margin-bottom: 0;padding: 0.3em;box-sizing: border-box;text-align: center;}#sk-container-id-2 label.sk-toggleable__label-arrow:before {content: \"▸\";float: left;margin-right: 0.25em;color: #696969;}#sk-container-id-2 label.sk-toggleable__label-arrow:hover:before {color: black;}#sk-container-id-2 div.sk-estimator:hover label.sk-toggleable__label-arrow:before {color: black;}#sk-container-id-2 div.sk-toggleable__content {max-height: 0;max-width: 0;overflow: hidden;text-align: left;background-color: #f0f8ff;}#sk-container-id-2 div.sk-toggleable__content pre {margin: 0.2em;color: black;border-radius: 0.25em;background-color: #f0f8ff;}#sk-container-id-2 input.sk-toggleable__control:checked~div.sk-toggleable__content {max-height: 200px;max-width: 100%;overflow: auto;}#sk-container-id-2 input.sk-toggleable__control:checked~label.sk-toggleable__label-arrow:before {content: \"▾\";}#sk-container-id-2 div.sk-estimator input.sk-toggleable__control:checked~label.sk-toggleable__label {background-color: #d4ebff;}#sk-container-id-2 div.sk-label input.sk-toggleable__control:checked~label.sk-toggleable__label {background-color: #d4ebff;}#sk-container-id-2 input.sk-hidden--visually {border: 0;clip: rect(1px 1px 1px 1px);clip: rect(1px, 1px, 1px, 1px);height: 1px;margin: -1px;overflow: hidden;padding: 0;position: absolute;width: 1px;}#sk-container-id-2 div.sk-estimator {font-family: monospace;background-color: #f0f8ff;border: 1px dotted black;border-radius: 0.25em;box-sizing: border-box;margin-bottom: 0.5em;}#sk-container-id-2 div.sk-estimator:hover {background-color: #d4ebff;}#sk-container-id-2 div.sk-parallel-item::after {content: \"\";width: 100%;border-bottom: 1px solid gray;flex-grow: 1;}#sk-container-id-2 div.sk-label:hover label.sk-toggleable__label {background-color: #d4ebff;}#sk-container-id-2 div.sk-serial::before {content: \"\";position: absolute;border-left: 1px solid gray;box-sizing: border-box;top: 0;bottom: 0;left: 50%;z-index: 0;}#sk-container-id-2 div.sk-serial {display: flex;flex-direction: column;align-items: center;background-color: white;padding-right: 0.2em;padding-left: 0.2em;position: relative;}#sk-container-id-2 div.sk-item {position: relative;z-index: 1;}#sk-container-id-2 div.sk-parallel {display: flex;align-items: stretch;justify-content: center;background-color: white;position: relative;}#sk-container-id-2 div.sk-item::before, #sk-container-id-2 div.sk-parallel-item::before {content: \"\";position: absolute;border-left: 1px solid gray;box-sizing: border-box;top: 0;bottom: 0;left: 50%;z-index: -1;}#sk-container-id-2 div.sk-parallel-item {display: flex;flex-direction: column;z-index: 1;position: relative;background-color: white;}#sk-container-id-2 div.sk-parallel-item:first-child::after {align-self: flex-end;width: 50%;}#sk-container-id-2 div.sk-parallel-item:last-child::after {align-self: flex-start;width: 50%;}#sk-container-id-2 div.sk-parallel-item:only-child::after {width: 0;}#sk-container-id-2 div.sk-dashed-wrapped {border: 1px dashed gray;margin: 0 0.4em 0.5em 0.4em;box-sizing: border-box;padding-bottom: 0.4em;background-color: white;}#sk-container-id-2 div.sk-label label {font-family: monospace;font-weight: bold;display: inline-block;line-height: 1.2em;}#sk-container-id-2 div.sk-label-container {text-align: center;}#sk-container-id-2 div.sk-container {/* jupyter's `normalize.less` sets `[hidden] { display: none; }` but bootstrap.min.css set `[hidden] { display: none !important; }` so we also need the `!important` here to be able to override the default hidden behavior on the sphinx rendered scikit-learn.org. See: https://github.com/scikit-learn/scikit-learn/issues/21755 */display: inline-block !important;position: relative;}#sk-container-id-2 div.sk-text-repr-fallback {display: none;}</style><div id=\"sk-container-id-2\" class=\"sk-top-container\"><div class=\"sk-text-repr-fallback\"><pre>BaggingClassifier(base_estimator=RandomForestClassifier(), n_estimators=50,\n",
              "                  random_state=28)</pre><b>In a Jupyter environment, please rerun this cell to show the HTML representation or trust the notebook. <br />On GitHub, the HTML representation is unable to render, please try loading this page with nbviewer.org.</b></div><div class=\"sk-container\" hidden><div class=\"sk-item sk-dashed-wrapped\"><div class=\"sk-label-container\"><div class=\"sk-label sk-toggleable\"><input class=\"sk-toggleable__control sk-hidden--visually\" id=\"sk-estimator-id-4\" type=\"checkbox\" ><label for=\"sk-estimator-id-4\" class=\"sk-toggleable__label sk-toggleable__label-arrow\">BaggingClassifier</label><div class=\"sk-toggleable__content\"><pre>BaggingClassifier(base_estimator=RandomForestClassifier(), n_estimators=50,\n",
              "                  random_state=28)</pre></div></div></div><div class=\"sk-parallel\"><div class=\"sk-parallel-item\"><div class=\"sk-item\"><div class=\"sk-label-container\"><div class=\"sk-label sk-toggleable\"><input class=\"sk-toggleable__control sk-hidden--visually\" id=\"sk-estimator-id-5\" type=\"checkbox\" ><label for=\"sk-estimator-id-5\" class=\"sk-toggleable__label sk-toggleable__label-arrow\">base_estimator: RandomForestClassifier</label><div class=\"sk-toggleable__content\"><pre>RandomForestClassifier()</pre></div></div></div><div class=\"sk-serial\"><div class=\"sk-item\"><div class=\"sk-estimator sk-toggleable\"><input class=\"sk-toggleable__control sk-hidden--visually\" id=\"sk-estimator-id-6\" type=\"checkbox\" ><label for=\"sk-estimator-id-6\" class=\"sk-toggleable__label sk-toggleable__label-arrow\">RandomForestClassifier</label><div class=\"sk-toggleable__content\"><pre>RandomForestClassifier()</pre></div></div></div></div></div></div></div></div></div></div>"
            ]
          },
          "metadata": {},
          "execution_count": 13
        }
      ]
    },
    {
      "cell_type": "code",
      "source": [
        "print(\"Accuracy:\", accuracy(model2.predict(Xtest), ytest))\n",
        "print(\"Presicion:\", precision(model2.predict(Xtest), ytest))\n",
        "print(\"Recall:\", recall(model2.predict(Xtest), ytest))\n",
        "print(\"ROC_AUC:\", roc_auc(model2.predict(Xtest), ytest))"
      ],
      "metadata": {
        "colab": {
          "base_uri": "https://localhost:8080/"
        },
        "id": "7xr771aeG-tr",
        "outputId": "4fd3976e-262a-4731-90a7-6a0adca3e981"
      },
      "execution_count": null,
      "outputs": [
        {
          "output_type": "stream",
          "name": "stdout",
          "text": [
            "Accuracy: 0.8095238095238095\n",
            "Presicion: 0.6901408450704225\n",
            "Recall: 0.6901408450704225\n",
            "ROC_AUC: 0.7763204225352113\n"
          ]
        }
      ]
    },
    {
      "cell_type": "markdown",
      "source": [
        "Баггинг, обучаясь на 70% всех данных чуть лучше справился задачей, если сравнивать с предыдущей моделью"
      ],
      "metadata": {
        "id": "sYFCHhVYUPib"
      }
    },
    {
      "cell_type": "code",
      "source": [
        "params = {'max_depth' : np.arange(2,10),\n",
        "          'min_samples_split' : np.arange(2,10,1)}\n",
        "\n",
        "model3 = GridSearchCV(RandomForestClassifier(n_estimators = 50), params, cv=3, scoring='f1', verbose=2)\n",
        "\n",
        "model3.fit(Xtrain, ytrain)"
      ],
      "metadata": {
        "colab": {
          "base_uri": "https://localhost:8080/",
          "height": 1000
        },
        "id": "epOaSVIqIr64",
        "outputId": "43389747-4f90-4cc2-ad35-75a5caad4680"
      },
      "execution_count": null,
      "outputs": [
        {
          "output_type": "stream",
          "name": "stdout",
          "text": [
            "Fitting 3 folds for each of 64 candidates, totalling 192 fits\n",
            "[CV] END ...................max_depth=2, min_samples_split=2; total time=   0.2s\n",
            "[CV] END ...................max_depth=2, min_samples_split=2; total time=   0.4s\n",
            "[CV] END ...................max_depth=2, min_samples_split=2; total time=   0.3s\n",
            "[CV] END ...................max_depth=2, min_samples_split=3; total time=   0.4s\n",
            "[CV] END ...................max_depth=2, min_samples_split=3; total time=   0.3s\n",
            "[CV] END ...................max_depth=2, min_samples_split=3; total time=   0.5s\n",
            "[CV] END ...................max_depth=2, min_samples_split=4; total time=   0.5s\n",
            "[CV] END ...................max_depth=2, min_samples_split=4; total time=   0.4s\n",
            "[CV] END ...................max_depth=2, min_samples_split=4; total time=   0.5s\n",
            "[CV] END ...................max_depth=2, min_samples_split=5; total time=   0.6s\n",
            "[CV] END ...................max_depth=2, min_samples_split=5; total time=   0.3s\n",
            "[CV] END ...................max_depth=2, min_samples_split=5; total time=   0.2s\n",
            "[CV] END ...................max_depth=2, min_samples_split=6; total time=   0.2s\n",
            "[CV] END ...................max_depth=2, min_samples_split=6; total time=   0.2s\n",
            "[CV] END ...................max_depth=2, min_samples_split=6; total time=   0.3s\n",
            "[CV] END ...................max_depth=2, min_samples_split=7; total time=   0.2s\n",
            "[CV] END ...................max_depth=2, min_samples_split=7; total time=   0.2s\n",
            "[CV] END ...................max_depth=2, min_samples_split=7; total time=   0.2s\n",
            "[CV] END ...................max_depth=2, min_samples_split=8; total time=   0.2s\n",
            "[CV] END ...................max_depth=2, min_samples_split=8; total time=   0.2s\n",
            "[CV] END ...................max_depth=2, min_samples_split=8; total time=   0.3s\n",
            "[CV] END ...................max_depth=2, min_samples_split=9; total time=   0.3s\n",
            "[CV] END ...................max_depth=2, min_samples_split=9; total time=   0.3s\n",
            "[CV] END ...................max_depth=2, min_samples_split=9; total time=   0.2s\n",
            "[CV] END ...................max_depth=3, min_samples_split=2; total time=   0.2s\n",
            "[CV] END ...................max_depth=3, min_samples_split=2; total time=   0.3s\n",
            "[CV] END ...................max_depth=3, min_samples_split=2; total time=   0.3s\n",
            "[CV] END ...................max_depth=3, min_samples_split=3; total time=   0.3s\n",
            "[CV] END ...................max_depth=3, min_samples_split=3; total time=   0.2s\n",
            "[CV] END ...................max_depth=3, min_samples_split=3; total time=   0.2s\n",
            "[CV] END ...................max_depth=3, min_samples_split=4; total time=   0.2s\n",
            "[CV] END ...................max_depth=3, min_samples_split=4; total time=   0.4s\n",
            "[CV] END ...................max_depth=3, min_samples_split=4; total time=   0.2s\n",
            "[CV] END ...................max_depth=3, min_samples_split=5; total time=   0.2s\n",
            "[CV] END ...................max_depth=3, min_samples_split=5; total time=   0.2s\n",
            "[CV] END ...................max_depth=3, min_samples_split=5; total time=   0.2s\n",
            "[CV] END ...................max_depth=3, min_samples_split=6; total time=   0.2s\n",
            "[CV] END ...................max_depth=3, min_samples_split=6; total time=   0.3s\n",
            "[CV] END ...................max_depth=3, min_samples_split=6; total time=   0.3s\n",
            "[CV] END ...................max_depth=3, min_samples_split=7; total time=   0.3s\n",
            "[CV] END ...................max_depth=3, min_samples_split=7; total time=   0.2s\n",
            "[CV] END ...................max_depth=3, min_samples_split=7; total time=   0.2s\n",
            "[CV] END ...................max_depth=3, min_samples_split=8; total time=   0.2s\n",
            "[CV] END ...................max_depth=3, min_samples_split=8; total time=   0.2s\n",
            "[CV] END ...................max_depth=3, min_samples_split=8; total time=   0.3s\n",
            "[CV] END ...................max_depth=3, min_samples_split=9; total time=   0.3s\n",
            "[CV] END ...................max_depth=3, min_samples_split=9; total time=   0.3s\n",
            "[CV] END ...................max_depth=3, min_samples_split=9; total time=   0.3s\n",
            "[CV] END ...................max_depth=4, min_samples_split=2; total time=   0.3s\n",
            "[CV] END ...................max_depth=4, min_samples_split=2; total time=   0.6s\n",
            "[CV] END ...................max_depth=4, min_samples_split=2; total time=   0.4s\n",
            "[CV] END ...................max_depth=4, min_samples_split=3; total time=   0.5s\n",
            "[CV] END ...................max_depth=4, min_samples_split=3; total time=   0.3s\n",
            "[CV] END ...................max_depth=4, min_samples_split=3; total time=   0.4s\n",
            "[CV] END ...................max_depth=4, min_samples_split=4; total time=   0.6s\n",
            "[CV] END ...................max_depth=4, min_samples_split=4; total time=   0.5s\n",
            "[CV] END ...................max_depth=4, min_samples_split=4; total time=   0.4s\n",
            "[CV] END ...................max_depth=4, min_samples_split=5; total time=   0.2s\n",
            "[CV] END ...................max_depth=4, min_samples_split=5; total time=   0.3s\n",
            "[CV] END ...................max_depth=4, min_samples_split=5; total time=   0.2s\n",
            "[CV] END ...................max_depth=4, min_samples_split=6; total time=   0.2s\n",
            "[CV] END ...................max_depth=4, min_samples_split=6; total time=   0.3s\n",
            "[CV] END ...................max_depth=4, min_samples_split=6; total time=   0.2s\n",
            "[CV] END ...................max_depth=4, min_samples_split=7; total time=   0.2s\n",
            "[CV] END ...................max_depth=4, min_samples_split=7; total time=   0.2s\n",
            "[CV] END ...................max_depth=4, min_samples_split=7; total time=   0.2s\n",
            "[CV] END ...................max_depth=4, min_samples_split=8; total time=   0.2s\n",
            "[CV] END ...................max_depth=4, min_samples_split=8; total time=   0.1s\n",
            "[CV] END ...................max_depth=4, min_samples_split=8; total time=   0.1s\n",
            "[CV] END ...................max_depth=4, min_samples_split=9; total time=   0.2s\n",
            "[CV] END ...................max_depth=4, min_samples_split=9; total time=   0.3s\n",
            "[CV] END ...................max_depth=4, min_samples_split=9; total time=   0.3s\n",
            "[CV] END ...................max_depth=5, min_samples_split=2; total time=   0.2s\n",
            "[CV] END ...................max_depth=5, min_samples_split=2; total time=   0.2s\n",
            "[CV] END ...................max_depth=5, min_samples_split=2; total time=   0.2s\n",
            "[CV] END ...................max_depth=5, min_samples_split=3; total time=   0.5s\n",
            "[CV] END ...................max_depth=5, min_samples_split=3; total time=   0.4s\n",
            "[CV] END ...................max_depth=5, min_samples_split=3; total time=   0.3s\n",
            "[CV] END ...................max_depth=5, min_samples_split=4; total time=   0.2s\n",
            "[CV] END ...................max_depth=5, min_samples_split=4; total time=   0.2s\n",
            "[CV] END ...................max_depth=5, min_samples_split=4; total time=   0.2s\n",
            "[CV] END ...................max_depth=5, min_samples_split=5; total time=   0.2s\n",
            "[CV] END ...................max_depth=5, min_samples_split=5; total time=   0.2s\n",
            "[CV] END ...................max_depth=5, min_samples_split=5; total time=   0.1s\n",
            "[CV] END ...................max_depth=5, min_samples_split=6; total time=   0.1s\n",
            "[CV] END ...................max_depth=5, min_samples_split=6; total time=   0.1s\n",
            "[CV] END ...................max_depth=5, min_samples_split=6; total time=   0.1s\n",
            "[CV] END ...................max_depth=5, min_samples_split=7; total time=   0.1s\n",
            "[CV] END ...................max_depth=5, min_samples_split=7; total time=   0.1s\n",
            "[CV] END ...................max_depth=5, min_samples_split=7; total time=   0.1s\n",
            "[CV] END ...................max_depth=5, min_samples_split=8; total time=   0.1s\n",
            "[CV] END ...................max_depth=5, min_samples_split=8; total time=   0.1s\n",
            "[CV] END ...................max_depth=5, min_samples_split=8; total time=   0.1s\n",
            "[CV] END ...................max_depth=5, min_samples_split=9; total time=   0.1s\n",
            "[CV] END ...................max_depth=5, min_samples_split=9; total time=   0.1s\n",
            "[CV] END ...................max_depth=5, min_samples_split=9; total time=   0.1s\n",
            "[CV] END ...................max_depth=6, min_samples_split=2; total time=   0.1s\n",
            "[CV] END ...................max_depth=6, min_samples_split=2; total time=   0.1s\n",
            "[CV] END ...................max_depth=6, min_samples_split=2; total time=   0.1s\n",
            "[CV] END ...................max_depth=6, min_samples_split=3; total time=   0.1s\n",
            "[CV] END ...................max_depth=6, min_samples_split=3; total time=   0.1s\n",
            "[CV] END ...................max_depth=6, min_samples_split=3; total time=   0.1s\n",
            "[CV] END ...................max_depth=6, min_samples_split=4; total time=   0.1s\n",
            "[CV] END ...................max_depth=6, min_samples_split=4; total time=   0.1s\n",
            "[CV] END ...................max_depth=6, min_samples_split=4; total time=   0.1s\n",
            "[CV] END ...................max_depth=6, min_samples_split=5; total time=   0.1s\n",
            "[CV] END ...................max_depth=6, min_samples_split=5; total time=   0.1s\n",
            "[CV] END ...................max_depth=6, min_samples_split=5; total time=   0.1s\n",
            "[CV] END ...................max_depth=6, min_samples_split=6; total time=   0.1s\n",
            "[CV] END ...................max_depth=6, min_samples_split=6; total time=   0.1s\n",
            "[CV] END ...................max_depth=6, min_samples_split=6; total time=   0.1s\n",
            "[CV] END ...................max_depth=6, min_samples_split=7; total time=   0.1s\n",
            "[CV] END ...................max_depth=6, min_samples_split=7; total time=   0.1s\n",
            "[CV] END ...................max_depth=6, min_samples_split=7; total time=   0.1s\n",
            "[CV] END ...................max_depth=6, min_samples_split=8; total time=   0.1s\n",
            "[CV] END ...................max_depth=6, min_samples_split=8; total time=   0.1s\n",
            "[CV] END ...................max_depth=6, min_samples_split=8; total time=   0.1s\n",
            "[CV] END ...................max_depth=6, min_samples_split=9; total time=   0.1s\n",
            "[CV] END ...................max_depth=6, min_samples_split=9; total time=   0.2s\n",
            "[CV] END ...................max_depth=6, min_samples_split=9; total time=   0.2s\n",
            "[CV] END ...................max_depth=7, min_samples_split=2; total time=   0.2s\n",
            "[CV] END ...................max_depth=7, min_samples_split=2; total time=   0.2s\n",
            "[CV] END ...................max_depth=7, min_samples_split=2; total time=   0.2s\n",
            "[CV] END ...................max_depth=7, min_samples_split=3; total time=   0.2s\n",
            "[CV] END ...................max_depth=7, min_samples_split=3; total time=   0.2s\n",
            "[CV] END ...................max_depth=7, min_samples_split=3; total time=   0.2s\n",
            "[CV] END ...................max_depth=7, min_samples_split=4; total time=   0.2s\n",
            "[CV] END ...................max_depth=7, min_samples_split=4; total time=   0.2s\n",
            "[CV] END ...................max_depth=7, min_samples_split=4; total time=   0.2s\n",
            "[CV] END ...................max_depth=7, min_samples_split=5; total time=   0.2s\n",
            "[CV] END ...................max_depth=7, min_samples_split=5; total time=   0.2s\n",
            "[CV] END ...................max_depth=7, min_samples_split=5; total time=   0.2s\n",
            "[CV] END ...................max_depth=7, min_samples_split=6; total time=   0.2s\n",
            "[CV] END ...................max_depth=7, min_samples_split=6; total time=   0.2s\n",
            "[CV] END ...................max_depth=7, min_samples_split=6; total time=   0.1s\n",
            "[CV] END ...................max_depth=7, min_samples_split=7; total time=   0.1s\n",
            "[CV] END ...................max_depth=7, min_samples_split=7; total time=   0.1s\n",
            "[CV] END ...................max_depth=7, min_samples_split=7; total time=   0.1s\n",
            "[CV] END ...................max_depth=7, min_samples_split=8; total time=   0.1s\n",
            "[CV] END ...................max_depth=7, min_samples_split=8; total time=   0.1s\n",
            "[CV] END ...................max_depth=7, min_samples_split=8; total time=   0.1s\n",
            "[CV] END ...................max_depth=7, min_samples_split=9; total time=   0.1s\n",
            "[CV] END ...................max_depth=7, min_samples_split=9; total time=   0.1s\n",
            "[CV] END ...................max_depth=7, min_samples_split=9; total time=   0.1s\n",
            "[CV] END ...................max_depth=8, min_samples_split=2; total time=   0.1s\n",
            "[CV] END ...................max_depth=8, min_samples_split=2; total time=   0.1s\n",
            "[CV] END ...................max_depth=8, min_samples_split=2; total time=   0.1s\n",
            "[CV] END ...................max_depth=8, min_samples_split=3; total time=   0.1s\n",
            "[CV] END ...................max_depth=8, min_samples_split=3; total time=   0.1s\n",
            "[CV] END ...................max_depth=8, min_samples_split=3; total time=   0.1s\n",
            "[CV] END ...................max_depth=8, min_samples_split=4; total time=   0.1s\n",
            "[CV] END ...................max_depth=8, min_samples_split=4; total time=   0.1s\n",
            "[CV] END ...................max_depth=8, min_samples_split=4; total time=   0.1s\n",
            "[CV] END ...................max_depth=8, min_samples_split=5; total time=   0.1s\n",
            "[CV] END ...................max_depth=8, min_samples_split=5; total time=   0.1s\n",
            "[CV] END ...................max_depth=8, min_samples_split=5; total time=   0.1s\n",
            "[CV] END ...................max_depth=8, min_samples_split=6; total time=   0.1s\n",
            "[CV] END ...................max_depth=8, min_samples_split=6; total time=   0.1s\n",
            "[CV] END ...................max_depth=8, min_samples_split=6; total time=   0.1s\n",
            "[CV] END ...................max_depth=8, min_samples_split=7; total time=   0.1s\n",
            "[CV] END ...................max_depth=8, min_samples_split=7; total time=   0.1s\n",
            "[CV] END ...................max_depth=8, min_samples_split=7; total time=   0.1s\n",
            "[CV] END ...................max_depth=8, min_samples_split=8; total time=   0.1s\n",
            "[CV] END ...................max_depth=8, min_samples_split=8; total time=   0.1s\n",
            "[CV] END ...................max_depth=8, min_samples_split=8; total time=   0.4s\n",
            "[CV] END ...................max_depth=8, min_samples_split=9; total time=   0.3s\n",
            "[CV] END ...................max_depth=8, min_samples_split=9; total time=   0.1s\n",
            "[CV] END ...................max_depth=8, min_samples_split=9; total time=   0.1s\n",
            "[CV] END ...................max_depth=9, min_samples_split=2; total time=   0.1s\n",
            "[CV] END ...................max_depth=9, min_samples_split=2; total time=   0.1s\n",
            "[CV] END ...................max_depth=9, min_samples_split=2; total time=   0.1s\n",
            "[CV] END ...................max_depth=9, min_samples_split=3; total time=   0.1s\n",
            "[CV] END ...................max_depth=9, min_samples_split=3; total time=   0.1s\n",
            "[CV] END ...................max_depth=9, min_samples_split=3; total time=   0.1s\n",
            "[CV] END ...................max_depth=9, min_samples_split=4; total time=   0.1s\n",
            "[CV] END ...................max_depth=9, min_samples_split=4; total time=   0.1s\n",
            "[CV] END ...................max_depth=9, min_samples_split=4; total time=   0.1s\n",
            "[CV] END ...................max_depth=9, min_samples_split=5; total time=   0.1s\n",
            "[CV] END ...................max_depth=9, min_samples_split=5; total time=   0.1s\n",
            "[CV] END ...................max_depth=9, min_samples_split=5; total time=   0.1s\n",
            "[CV] END ...................max_depth=9, min_samples_split=6; total time=   0.1s\n",
            "[CV] END ...................max_depth=9, min_samples_split=6; total time=   0.1s\n",
            "[CV] END ...................max_depth=9, min_samples_split=6; total time=   0.1s\n",
            "[CV] END ...................max_depth=9, min_samples_split=7; total time=   0.1s\n",
            "[CV] END ...................max_depth=9, min_samples_split=7; total time=   0.2s\n",
            "[CV] END ...................max_depth=9, min_samples_split=7; total time=   0.1s\n",
            "[CV] END ...................max_depth=9, min_samples_split=8; total time=   0.1s\n",
            "[CV] END ...................max_depth=9, min_samples_split=8; total time=   0.1s\n",
            "[CV] END ...................max_depth=9, min_samples_split=8; total time=   0.2s\n",
            "[CV] END ...................max_depth=9, min_samples_split=9; total time=   0.1s\n",
            "[CV] END ...................max_depth=9, min_samples_split=9; total time=   0.1s\n",
            "[CV] END ...................max_depth=9, min_samples_split=9; total time=   0.1s\n"
          ]
        },
        {
          "output_type": "execute_result",
          "data": {
            "text/plain": [
              "GridSearchCV(cv=3, estimator=RandomForestClassifier(n_estimators=50),\n",
              "             param_grid={'max_depth': array([2, 3, 4, 5, 6, 7, 8, 9]),\n",
              "                         'min_samples_split': array([2, 3, 4, 5, 6, 7, 8, 9])},\n",
              "             scoring='f1', verbose=2)"
            ],
            "text/html": [
              "<style>#sk-container-id-3 {color: black;background-color: white;}#sk-container-id-3 pre{padding: 0;}#sk-container-id-3 div.sk-toggleable {background-color: white;}#sk-container-id-3 label.sk-toggleable__label {cursor: pointer;display: block;width: 100%;margin-bottom: 0;padding: 0.3em;box-sizing: border-box;text-align: center;}#sk-container-id-3 label.sk-toggleable__label-arrow:before {content: \"▸\";float: left;margin-right: 0.25em;color: #696969;}#sk-container-id-3 label.sk-toggleable__label-arrow:hover:before {color: black;}#sk-container-id-3 div.sk-estimator:hover label.sk-toggleable__label-arrow:before {color: black;}#sk-container-id-3 div.sk-toggleable__content {max-height: 0;max-width: 0;overflow: hidden;text-align: left;background-color: #f0f8ff;}#sk-container-id-3 div.sk-toggleable__content pre {margin: 0.2em;color: black;border-radius: 0.25em;background-color: #f0f8ff;}#sk-container-id-3 input.sk-toggleable__control:checked~div.sk-toggleable__content {max-height: 200px;max-width: 100%;overflow: auto;}#sk-container-id-3 input.sk-toggleable__control:checked~label.sk-toggleable__label-arrow:before {content: \"▾\";}#sk-container-id-3 div.sk-estimator input.sk-toggleable__control:checked~label.sk-toggleable__label {background-color: #d4ebff;}#sk-container-id-3 div.sk-label input.sk-toggleable__control:checked~label.sk-toggleable__label {background-color: #d4ebff;}#sk-container-id-3 input.sk-hidden--visually {border: 0;clip: rect(1px 1px 1px 1px);clip: rect(1px, 1px, 1px, 1px);height: 1px;margin: -1px;overflow: hidden;padding: 0;position: absolute;width: 1px;}#sk-container-id-3 div.sk-estimator {font-family: monospace;background-color: #f0f8ff;border: 1px dotted black;border-radius: 0.25em;box-sizing: border-box;margin-bottom: 0.5em;}#sk-container-id-3 div.sk-estimator:hover {background-color: #d4ebff;}#sk-container-id-3 div.sk-parallel-item::after {content: \"\";width: 100%;border-bottom: 1px solid gray;flex-grow: 1;}#sk-container-id-3 div.sk-label:hover label.sk-toggleable__label {background-color: #d4ebff;}#sk-container-id-3 div.sk-serial::before {content: \"\";position: absolute;border-left: 1px solid gray;box-sizing: border-box;top: 0;bottom: 0;left: 50%;z-index: 0;}#sk-container-id-3 div.sk-serial {display: flex;flex-direction: column;align-items: center;background-color: white;padding-right: 0.2em;padding-left: 0.2em;position: relative;}#sk-container-id-3 div.sk-item {position: relative;z-index: 1;}#sk-container-id-3 div.sk-parallel {display: flex;align-items: stretch;justify-content: center;background-color: white;position: relative;}#sk-container-id-3 div.sk-item::before, #sk-container-id-3 div.sk-parallel-item::before {content: \"\";position: absolute;border-left: 1px solid gray;box-sizing: border-box;top: 0;bottom: 0;left: 50%;z-index: -1;}#sk-container-id-3 div.sk-parallel-item {display: flex;flex-direction: column;z-index: 1;position: relative;background-color: white;}#sk-container-id-3 div.sk-parallel-item:first-child::after {align-self: flex-end;width: 50%;}#sk-container-id-3 div.sk-parallel-item:last-child::after {align-self: flex-start;width: 50%;}#sk-container-id-3 div.sk-parallel-item:only-child::after {width: 0;}#sk-container-id-3 div.sk-dashed-wrapped {border: 1px dashed gray;margin: 0 0.4em 0.5em 0.4em;box-sizing: border-box;padding-bottom: 0.4em;background-color: white;}#sk-container-id-3 div.sk-label label {font-family: monospace;font-weight: bold;display: inline-block;line-height: 1.2em;}#sk-container-id-3 div.sk-label-container {text-align: center;}#sk-container-id-3 div.sk-container {/* jupyter's `normalize.less` sets `[hidden] { display: none; }` but bootstrap.min.css set `[hidden] { display: none !important; }` so we also need the `!important` here to be able to override the default hidden behavior on the sphinx rendered scikit-learn.org. See: https://github.com/scikit-learn/scikit-learn/issues/21755 */display: inline-block !important;position: relative;}#sk-container-id-3 div.sk-text-repr-fallback {display: none;}</style><div id=\"sk-container-id-3\" class=\"sk-top-container\"><div class=\"sk-text-repr-fallback\"><pre>GridSearchCV(cv=3, estimator=RandomForestClassifier(n_estimators=50),\n",
              "             param_grid={&#x27;max_depth&#x27;: array([2, 3, 4, 5, 6, 7, 8, 9]),\n",
              "                         &#x27;min_samples_split&#x27;: array([2, 3, 4, 5, 6, 7, 8, 9])},\n",
              "             scoring=&#x27;f1&#x27;, verbose=2)</pre><b>In a Jupyter environment, please rerun this cell to show the HTML representation or trust the notebook. <br />On GitHub, the HTML representation is unable to render, please try loading this page with nbviewer.org.</b></div><div class=\"sk-container\" hidden><div class=\"sk-item sk-dashed-wrapped\"><div class=\"sk-label-container\"><div class=\"sk-label sk-toggleable\"><input class=\"sk-toggleable__control sk-hidden--visually\" id=\"sk-estimator-id-7\" type=\"checkbox\" ><label for=\"sk-estimator-id-7\" class=\"sk-toggleable__label sk-toggleable__label-arrow\">GridSearchCV</label><div class=\"sk-toggleable__content\"><pre>GridSearchCV(cv=3, estimator=RandomForestClassifier(n_estimators=50),\n",
              "             param_grid={&#x27;max_depth&#x27;: array([2, 3, 4, 5, 6, 7, 8, 9]),\n",
              "                         &#x27;min_samples_split&#x27;: array([2, 3, 4, 5, 6, 7, 8, 9])},\n",
              "             scoring=&#x27;f1&#x27;, verbose=2)</pre></div></div></div><div class=\"sk-parallel\"><div class=\"sk-parallel-item\"><div class=\"sk-item\"><div class=\"sk-label-container\"><div class=\"sk-label sk-toggleable\"><input class=\"sk-toggleable__control sk-hidden--visually\" id=\"sk-estimator-id-8\" type=\"checkbox\" ><label for=\"sk-estimator-id-8\" class=\"sk-toggleable__label sk-toggleable__label-arrow\">estimator: RandomForestClassifier</label><div class=\"sk-toggleable__content\"><pre>RandomForestClassifier(n_estimators=50)</pre></div></div></div><div class=\"sk-serial\"><div class=\"sk-item\"><div class=\"sk-estimator sk-toggleable\"><input class=\"sk-toggleable__control sk-hidden--visually\" id=\"sk-estimator-id-9\" type=\"checkbox\" ><label for=\"sk-estimator-id-9\" class=\"sk-toggleable__label sk-toggleable__label-arrow\">RandomForestClassifier</label><div class=\"sk-toggleable__content\"><pre>RandomForestClassifier(n_estimators=50)</pre></div></div></div></div></div></div></div></div></div></div>"
            ]
          },
          "metadata": {},
          "execution_count": 15
        }
      ]
    },
    {
      "cell_type": "code",
      "source": [
        "print(\"Accuracy:\", accuracy(model3.predict(Xtest), ytest))\n",
        "print(\"Presicion:\", precision(model3.predict(Xtest), ytest))\n",
        "print(\"Recall:\", recall(model3.predict(Xtest), ytest))\n",
        "print(\"ROC_AUC:\", roc_auc(model3.predict(Xtest), ytest))"
      ],
      "metadata": {
        "colab": {
          "base_uri": "https://localhost:8080/"
        },
        "id": "NRa5Y6BEJvHX",
        "outputId": "0720bf5e-bdf2-4c2f-c111-ff8896a33259"
      },
      "execution_count": null,
      "outputs": [
        {
          "output_type": "stream",
          "name": "stdout",
          "text": [
            "Accuracy: 0.7748917748917749\n",
            "Presicion: 0.6197183098591549\n",
            "Recall: 0.6376811594202898\n",
            "ROC_AUC: 0.7355072463768116\n"
          ]
        }
      ]
    },
    {
      "cell_type": "markdown",
      "source": [
        "Случайный лес хорошо справился с задачей, но чуть хуже, чем Баггинг. Так же, как и в баггинге точность не очень хорошая."
      ],
      "metadata": {
        "id": "jf6G172nTj_J"
      }
    },
    {
      "cell_type": "code",
      "source": [
        "model3.best_estimator_"
      ],
      "metadata": {
        "id": "dMqhGrbnKaKr",
        "colab": {
          "base_uri": "https://localhost:8080/",
          "height": 92
        },
        "outputId": "a80fc1aa-5518-46b0-8c08-03f562b1e8d3"
      },
      "execution_count": null,
      "outputs": [
        {
          "output_type": "execute_result",
          "data": {
            "text/plain": [
              "RandomForestClassifier(max_depth=9, min_samples_split=9, n_estimators=50)"
            ],
            "text/html": [
              "<style>#sk-container-id-7 {color: black;background-color: white;}#sk-container-id-7 pre{padding: 0;}#sk-container-id-7 div.sk-toggleable {background-color: white;}#sk-container-id-7 label.sk-toggleable__label {cursor: pointer;display: block;width: 100%;margin-bottom: 0;padding: 0.3em;box-sizing: border-box;text-align: center;}#sk-container-id-7 label.sk-toggleable__label-arrow:before {content: \"▸\";float: left;margin-right: 0.25em;color: #696969;}#sk-container-id-7 label.sk-toggleable__label-arrow:hover:before {color: black;}#sk-container-id-7 div.sk-estimator:hover label.sk-toggleable__label-arrow:before {color: black;}#sk-container-id-7 div.sk-toggleable__content {max-height: 0;max-width: 0;overflow: hidden;text-align: left;background-color: #f0f8ff;}#sk-container-id-7 div.sk-toggleable__content pre {margin: 0.2em;color: black;border-radius: 0.25em;background-color: #f0f8ff;}#sk-container-id-7 input.sk-toggleable__control:checked~div.sk-toggleable__content {max-height: 200px;max-width: 100%;overflow: auto;}#sk-container-id-7 input.sk-toggleable__control:checked~label.sk-toggleable__label-arrow:before {content: \"▾\";}#sk-container-id-7 div.sk-estimator input.sk-toggleable__control:checked~label.sk-toggleable__label {background-color: #d4ebff;}#sk-container-id-7 div.sk-label input.sk-toggleable__control:checked~label.sk-toggleable__label {background-color: #d4ebff;}#sk-container-id-7 input.sk-hidden--visually {border: 0;clip: rect(1px 1px 1px 1px);clip: rect(1px, 1px, 1px, 1px);height: 1px;margin: -1px;overflow: hidden;padding: 0;position: absolute;width: 1px;}#sk-container-id-7 div.sk-estimator {font-family: monospace;background-color: #f0f8ff;border: 1px dotted black;border-radius: 0.25em;box-sizing: border-box;margin-bottom: 0.5em;}#sk-container-id-7 div.sk-estimator:hover {background-color: #d4ebff;}#sk-container-id-7 div.sk-parallel-item::after {content: \"\";width: 100%;border-bottom: 1px solid gray;flex-grow: 1;}#sk-container-id-7 div.sk-label:hover label.sk-toggleable__label {background-color: #d4ebff;}#sk-container-id-7 div.sk-serial::before {content: \"\";position: absolute;border-left: 1px solid gray;box-sizing: border-box;top: 0;bottom: 0;left: 50%;z-index: 0;}#sk-container-id-7 div.sk-serial {display: flex;flex-direction: column;align-items: center;background-color: white;padding-right: 0.2em;padding-left: 0.2em;position: relative;}#sk-container-id-7 div.sk-item {position: relative;z-index: 1;}#sk-container-id-7 div.sk-parallel {display: flex;align-items: stretch;justify-content: center;background-color: white;position: relative;}#sk-container-id-7 div.sk-item::before, #sk-container-id-7 div.sk-parallel-item::before {content: \"\";position: absolute;border-left: 1px solid gray;box-sizing: border-box;top: 0;bottom: 0;left: 50%;z-index: -1;}#sk-container-id-7 div.sk-parallel-item {display: flex;flex-direction: column;z-index: 1;position: relative;background-color: white;}#sk-container-id-7 div.sk-parallel-item:first-child::after {align-self: flex-end;width: 50%;}#sk-container-id-7 div.sk-parallel-item:last-child::after {align-self: flex-start;width: 50%;}#sk-container-id-7 div.sk-parallel-item:only-child::after {width: 0;}#sk-container-id-7 div.sk-dashed-wrapped {border: 1px dashed gray;margin: 0 0.4em 0.5em 0.4em;box-sizing: border-box;padding-bottom: 0.4em;background-color: white;}#sk-container-id-7 div.sk-label label {font-family: monospace;font-weight: bold;display: inline-block;line-height: 1.2em;}#sk-container-id-7 div.sk-label-container {text-align: center;}#sk-container-id-7 div.sk-container {/* jupyter's `normalize.less` sets `[hidden] { display: none; }` but bootstrap.min.css set `[hidden] { display: none !important; }` so we also need the `!important` here to be able to override the default hidden behavior on the sphinx rendered scikit-learn.org. See: https://github.com/scikit-learn/scikit-learn/issues/21755 */display: inline-block !important;position: relative;}#sk-container-id-7 div.sk-text-repr-fallback {display: none;}</style><div id=\"sk-container-id-7\" class=\"sk-top-container\"><div class=\"sk-text-repr-fallback\"><pre>RandomForestClassifier(max_depth=9, min_samples_split=9, n_estimators=50)</pre><b>In a Jupyter environment, please rerun this cell to show the HTML representation or trust the notebook. <br />On GitHub, the HTML representation is unable to render, please try loading this page with nbviewer.org.</b></div><div class=\"sk-container\" hidden><div class=\"sk-item\"><div class=\"sk-estimator sk-toggleable\"><input class=\"sk-toggleable__control sk-hidden--visually\" id=\"sk-estimator-id-19\" type=\"checkbox\" checked><label for=\"sk-estimator-id-19\" class=\"sk-toggleable__label sk-toggleable__label-arrow\">RandomForestClassifier</label><div class=\"sk-toggleable__content\"><pre>RandomForestClassifier(max_depth=9, min_samples_split=9, n_estimators=50)</pre></div></div></div></div></div>"
            ]
          },
          "metadata": {},
          "execution_count": 88
        }
      ]
    },
    {
      "cell_type": "markdown",
      "source": [
        "#3.5#"
      ],
      "metadata": {
        "id": "TjciV_ICKxNy"
      }
    },
    {
      "cell_type": "code",
      "source": [
        "sp = []\n",
        "for i in range(2, 100):\n",
        "\n",
        "  model = RandomForestClassifier(n_estimators = i, n_jobs=-1)\n",
        "  model.fit(X, y)\n",
        "\n",
        "  pred_train = model.predict(Xtrain)\n",
        "\n",
        "  sp.append(roc_auc(ytrain, pred_train))"
      ],
      "metadata": {
        "id": "AuG8H4IRLFej"
      },
      "execution_count": null,
      "outputs": []
    },
    {
      "cell_type": "code",
      "source": [
        "plt.plot(sp, color='blue')\n",
        "plt.xlabel('iteration')\n",
        "plt.ylabel('f1')\n"
      ],
      "metadata": {
        "colab": {
          "base_uri": "https://localhost:8080/",
          "height": 472
        },
        "id": "gTsK0WLSLzTT",
        "outputId": "ab928373-0fc4-4433-c667-624bf3ae4b16"
      },
      "execution_count": null,
      "outputs": [
        {
          "output_type": "execute_result",
          "data": {
            "text/plain": [
              "Text(0, 0.5, 'f1')"
            ]
          },
          "metadata": {},
          "execution_count": 90
        },
        {
          "output_type": "display_data",
          "data": {
            "text/plain": [
              "<Figure size 640x480 with 1 Axes>"
            ],
            "image/png": "[encoded data removed]"
          },
          "metadata": {}
        }
      ]
    },
    {
      "cell_type": "code",
      "source": [
        "sp = []\n",
        "for i in range(2, 100):\n",
        "\n",
        "  model = RandomForestClassifier(n_estimators = i, n_jobs=-1)\n",
        "  model.fit(Xtrain, ytrain)\n",
        "\n",
        "  pred_test = model.predict(Xtest)\n",
        "\n",
        "  sp.append(roc_auc(ytest, pred_test))\n",
        "  plt.plot(sp, color='blue')\n",
        "plt.xlabel('iteration')\n",
        "plt.ylabel('f1')"
      ],
      "metadata": {
        "colab": {
          "base_uri": "https://localhost:8080/",
          "height": 472
        },
        "id": "M3jbGA6R6L9B",
        "outputId": "5e87c526-0dc5-40ec-fb44-1e93449c5d37"
      },
      "execution_count": null,
      "outputs": [
        {
          "output_type": "execute_result",
          "data": {
            "text/plain": [
              "Text(0, 0.5, 'f1')"
            ]
          },
          "metadata": {},
          "execution_count": 91
        },
        {
          "output_type": "display_data",
          "data": {
            "text/plain": [
              "<Figure size 640x480 with 1 Axes>"
            ],
            "image/png": "[encoded data removed]"
          },
          "metadata": {}
        }
      ]
    },
    {
      "cell_type": "markdown",
      "source": [
        "Как мы видим, на трейне качетво уже при 20-30 деревьев примерно единица, а вот на тесте после 50 деревьев уже не сильно меняется качество модели."
      ],
      "metadata": {
        "id": "nQunu7EEVgLb"
      }
    },
    {
      "cell_type": "markdown",
      "source": [
        "#3.6#"
      ],
      "metadata": {
        "id": "K3FU1MxMVgyK"
      }
    },
    {
      "cell_type": "code",
      "source": [
        "model = RandomForestClassifier(max_depth=6, min_samples_split=5, n_estimators=50)\n",
        "model.fit(X, y)\n",
        "feature_importances = model.feature_importances_\n",
        "\n",
        "pl = pd.Series(feature_importances*100,\n",
        "                         data.drop(['Outcome'], axis=1).columns)\n",
        "\n",
        "fig, ax = plt.subplots(figsize=(16,14))\n",
        "pl.plot.bar(ax=ax)\n",
        "ax.set_title(\"Важность признаков\")\n",
        "ax.set_ylabel('Важность, %')\n",
        "fig.tight_layout()"
      ],
      "metadata": {
        "colab": {
          "base_uri": "https://localhost:8080/",
          "height": 1000
        },
        "id": "Mo6jlGRqD0dW",
        "outputId": "3cfccec6-ae92-4601-c9a9-c5d07be84b64"
      },
      "execution_count": null,
      "outputs": [
        {
          "output_type": "display_data",
          "data": {
            "text/plain": [
              "<Figure size 1600x1400 with 1 Axes>"
            ],
            "image/png": "[encoded data removed]"
          },
          "metadata": {}
        }
      ]
    },
    {
      "cell_type": "markdown",
      "source": [
        "Получается, что Glucose - наиболее важный признак."
      ],
      "metadata": {
        "id": "HOVRjh44DsiM"
      }
    }
  ]
}